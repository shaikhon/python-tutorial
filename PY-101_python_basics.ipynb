{
  "cells": [
    {
      "cell_type": "markdown",
      "metadata": {
        "id": "vk3IjrwMHQnm"
      },
      "source": [
        "# <a>**PY-101: Introduction to Python & Machine Learning**</a>\n"
      ]
    },
    {
      "cell_type": "markdown",
      "metadata": {
        "id": "xfG8PH92ondE"
      },
      "source": [
        "---\n",
        "## **Course Content:**\n",
        "1. Python Basics (this notebook)\n",
        "<font color=\"gray\">\n",
        "2. Getting Started with:<font color=\"gray\">\n",
        "  - Numpy \n",
        "  - Pandas \n",
        "  - Matplotlib\n",
        "  - Scipy\n",
        "</font>\n",
        "3. Machine Learning: <font color=\"gray\">\n",
        "  * Linear regression\n",
        "  * Random forest\n",
        "  * Exercise 1: Well log prediction\n",
        "</font><font color=\"gray\">\n",
        "4. Deep Learning:\n",
        "  * Neural networks\n",
        "  * Exercise 2: Image classification\n",
        "</font>\n",
        "    \n",
        "---"
      ]
    },
    {
      "cell_type": "markdown",
      "source": [
        "# Notebook 1. Python Basics\n",
        "In this notebook, we will cover the following Python basics:\n",
        "0. Background information\n",
        "1. Built-in types\n",
        "2. Operations\n",
        "3. Built-in data structures\n",
        "4. Built-in functions\n",
        "5. Flow control\n",
        "6. Creating functions\n",
        "7. Bringing it all together\n",
        "\n",
        "You are not expected to absorb all the information presented in this notebook at once, but to use it as a future reference.\n",
        "\n",
        "\n",
        "Some parts of this notebook are based on these resources, check them out for additional information:\n",
        "*   [Official Python Tutorial](https://docs.python.org/3/tutorial/)\n",
        "*   [The Python Standard Library](https://docs.python.org/3/library/index.html#library-index)\n",
        "\n",
        "\n",
        "<font color=\"orange\">Author:</font> Obai Shaikh on April 28, 2022\n"
      ],
      "metadata": {
        "id": "sW6H2JrVJ8eh"
      }
    },
    {
      "cell_type": "markdown",
      "metadata": {
        "id": "vZh0-Fwwj6IO"
      },
      "source": [
        "---\n",
        "# <a>**0. Background Information**</a>"
      ]
    },
    {
      "cell_type": "markdown",
      "metadata": {
        "id": "HwQ4e2tPAVZj"
      },
      "source": [
        "## What is python?\n",
        "- Python is an easy to learn, powerful programming language\n",
        "- Designed for code readability\n",
        "- Strict use of syntax and indentation\n",
        "- Ideal for scripting and rapid application development\n",
        "---\n"
      ]
    },
    {
      "cell_type": "markdown",
      "metadata": {
        "id": "NTn7_m2DkWBv"
      },
      "source": [
        "## Code for free:\n",
        "The Python interpreter and the extensive standard library are freely available for all major platforms from the following sites:\n",
        "* [Python.org](https://www.python.org/)\n",
        "* [Anaconda](https://www.anaconda.com/)\n",
        "* [Pycharm](https://www.jetbrains.com/pycharm/)\n",
        "* [Google Colaboratory](https://colab.research.google.com/notebooks/intro.ipynb?utm_source=scs-index)\n",
        "---"
      ]
    },
    {
      "cell_type": "markdown",
      "metadata": {
        "id": "ldgkx0VeIPM0"
      },
      "source": [
        "## What is Google Colaboratory (colab)?\n",
        "* Colab was developed by Google, and all computations here are performed on the cloud\n",
        "* Colab comes with installed libraries, zero installations required\n",
        "* Friendly interface, similar to Jupyter Notebook\n",
        "* Notebooks are saved on Google Drive, and can be shared like Google Docs, Sheets, etc. Hence, Ideal for collaboration projects\n",
        "---"
      ]
    },
    {
      "cell_type": "markdown",
      "metadata": {
        "id": "_up0T2DGWVYn"
      },
      "source": [
        "## What is a colab/jupyter notebook?\n",
        "* A list of cells which can be executed spearately and out of order\n",
        "* A cell type can be either \"code\" or \"text\":\n",
        "  - Code: python code & display output\n",
        "  - Text: explanations & general text\n",
        "* All cells share the same namespace\n",
        "* Ideal interface for quick testing and implementations\n",
        "* Hold `shift` + press `enter` to execute a cell\n",
        "* Hold `ctrl` + press `/` to comment or uncomment line of code\n",
        "* if the last line of a code cell generates output, it will be displayed below that cell\n",
        "\n",
        "## What is a notebook's namespace?\n",
        "* Namespace refers to all variables (names) and their corresponding objects created within the notebook session.\n",
        "---"
      ]
    },
    {
      "cell_type": "markdown",
      "source": [
        "Run the following code to know which python version is installed on this Colab notebook..."
      ],
      "metadata": {
        "id": "P6As1PMnADtT"
      }
    },
    {
      "cell_type": "code",
      "execution_count": null,
      "metadata": {
        "colab": {
          "base_uri": "https://localhost:8080/"
        },
        "id": "0ibkHAUkt7cW",
        "outputId": "0897f60c-8abe-4357-b48d-19f43d79764f"
      },
      "outputs": [
        {
          "name": "stdout",
          "output_type": "stream",
          "text": [
            "3.7.4\n"
          ]
        }
      ],
      "source": [
        "from platform import python_version\n",
        "print(python_version())               # print Python's version"
      ]
    },
    {
      "cell_type": "markdown",
      "source": [
        "## Notes:\n",
        "* This tutorial is designed to be a reference notebook, you're not supposed to absorb all concepts in one-go.\n",
        "\n",
        "* You might encounter a concept of feature and you cannot think of a way to apply it now... that's fine. My purpose here is to expose you to as much of Python's features at least once, so you know they exist and you can look them up in the future.\n",
        "\n",
        "* For every coding problem you encounter in the future, it is most likely that someone, somewhere have attempted to solve it and posted a solution. Good programmers are good google-searcher."
      ],
      "metadata": {
        "id": "xhpbAK2d7hrf"
      }
    },
    {
      "cell_type": "markdown",
      "metadata": {
        "id": "iHMu_Dvw_pFs"
      },
      "source": [
        "---\n",
        "# <a>**1. Built-in Types**</a>"
      ]
    },
    {
      "cell_type": "markdown",
      "metadata": {
        "id": "A46qjN7dT35C"
      },
      "source": [
        "## What are built-in types?\n",
        "- Built-in types are the fundamental elements of Python to store data\n",
        "\n",
        "- In Python, the most common built-in types are:\n",
        "  * Constants: True, False, None\n",
        "  * Numerics: [int](https://docs.python.org/3/library/functions.html#int), [float](https://docs.python.org/3/library/functions.html#float), [complex](https://docs.python.org/3/library/functions.html#complex)\n",
        "  * Text Sequence: [str](https://docs.python.org/3/library/stdtypes.html#str)\n",
        "  * Sequences: [list](https://docs.python.org/3/library/stdtypes.html#list), [tuple](https://docs.python.org/3/library/stdtypes.html#tuple), [range](https://docs.python.org/3/library/stdtypes.html#range)\n",
        "  * Mappings: [dict](https://docs.python.org/3/library/stdtypes.html#dict)\n",
        "\n",
        "\n",
        "\n",
        "##### This section will describe *constants*, *Numerics*, and *Text Sequence* Types. *Sequences* and *Mappings* will be described in upcoming sections."
      ]
    },
    {
      "cell_type": "markdown",
      "metadata": {
        "id": "MPjaDSenRJKE"
      },
      "source": [
        "---\n",
        "## <font color=\"orange\">**1.1. Constants:** </font> True, False, None"
      ]
    },
    {
      "cell_type": "markdown",
      "metadata": {
        "id": "Sga9tMCHSSPn"
      },
      "source": [
        "### A few built-in constants live in the namespace. For example:\n",
        "* Boolean: True or False\n",
        "* NoneType: None"
      ]
    },
    {
      "cell_type": "markdown",
      "metadata": {
        "id": "NjSZGbp3XsJc"
      },
      "source": [
        "### <font color=\"lime\">**Boolean:**</font> Can be one of two values 'True' or 'False'"
      ]
    },
    {
      "cell_type": "code",
      "execution_count": null,
      "metadata": {
        "colab": {
          "base_uri": "https://localhost:8080/"
        },
        "id": "2KgN_USmjo3-",
        "outputId": "76de7d06-c008-41cc-d2f3-d935aee67135"
      },
      "outputs": [
        {
          "data": {
            "text/plain": [
              "True"
            ]
          },
          "execution_count": 3,
          "metadata": {},
          "output_type": "execute_result"
        }
      ],
      "source": [
        "True"
      ]
    },
    {
      "cell_type": "code",
      "execution_count": null,
      "metadata": {
        "colab": {
          "base_uri": "https://localhost:8080/"
        },
        "id": "C8nJpBWuRH_k",
        "outputId": "6b3ae228-022a-400b-c1d2-97c3454b99b9"
      },
      "outputs": [
        {
          "data": {
            "text/plain": [
              "False"
            ]
          },
          "execution_count": 4,
          "metadata": {},
          "output_type": "execute_result"
        }
      ],
      "source": [
        "False"
      ]
    },
    {
      "cell_type": "markdown",
      "metadata": {
        "id": "JHL1ArT2juy8"
      },
      "source": [
        "### <font color=\"lime\">**NoneType:**</font> An object used to represent the absence of a value"
      ]
    },
    {
      "cell_type": "code",
      "execution_count": null,
      "metadata": {
        "id": "KST4c1dBjvf1"
      },
      "outputs": [],
      "source": [
        "None"
      ]
    },
    {
      "cell_type": "markdown",
      "metadata": {
        "id": "rkEejKmDK4c-"
      },
      "source": [
        "---\n",
        "## <font color=\"orange\">**1.2. Numeric Types:**</font> int, float, complex\n"
      ]
    },
    {
      "cell_type": "markdown",
      "metadata": {
        "id": "9eCLODGhR7X4"
      },
      "source": [
        "### There are three distinct numeric types: \n",
        "* Integers\n",
        "* Floating point numbers\n",
        "* Complex numbers\n",
        "\n",
        "We declare variables using the equal sign `=` as follows,\n"
      ]
    },
    {
      "cell_type": "markdown",
      "metadata": {
        "id": "J2KpUy19XUGL"
      },
      "source": [
        "### <font color=\"lime\">**Integers:**</font> Numbers without a decimal place (example: `1`, `2`, `3`)"
      ]
    },
    {
      "cell_type": "code",
      "execution_count": null,
      "metadata": {
        "colab": {
          "base_uri": "https://localhost:8080/"
        },
        "id": "26Xuan_eLVEA",
        "outputId": "c3397ca3-6226-42c4-e9e7-31169bb75729"
      },
      "outputs": [
        {
          "data": {
            "text/plain": [
              "2"
            ]
          },
          "execution_count": 6,
          "metadata": {},
          "output_type": "execute_result"
        }
      ],
      "source": [
        "# Comments starts with a hashtage, and are not executed\n",
        "x = 2        # this is an integer\n",
        "x            # you can print a single variable, if it is alone in the bottom line of the cell\n",
        "# even if there is a comment below it"
      ]
    },
    {
      "cell_type": "markdown",
      "metadata": {
        "id": "myZcp-xfO1mC"
      },
      "source": [
        "Note: The variable \"x\" is now stored in the namespace with a value of 2, and is available to all cells within this notebook during this session.\n",
        "\n",
        "--- "
      ]
    },
    {
      "cell_type": "markdown",
      "metadata": {
        "id": "8VHd5PmlXat1"
      },
      "source": [
        "### <font color=\"lime\">**Floating point numbers:**</font> Numbers with decimal points (example: `1.0`, `1.1`, `1.2`)"
      ]
    },
    {
      "cell_type": "code",
      "execution_count": null,
      "metadata": {
        "colab": {
          "base_uri": "https://localhost:8080/"
        },
        "id": "h8QucGXtGzBi",
        "outputId": "64cb1aac-d62c-42dd-919b-59554969885f"
      },
      "outputs": [
        {
          "data": {
            "text/plain": [
              "10.0"
            ]
          },
          "execution_count": 8,
          "metadata": {},
          "output_type": "execute_result"
        }
      ],
      "source": [
        "y = 10.0      # this is a float\n",
        "y"
      ]
    },
    {
      "cell_type": "markdown",
      "metadata": {
        "id": "v1whKJZHRgHw"
      },
      "source": [
        "Note: Floating point numbers get their name from the way the decimal point can \"float\" to any position.\n",
        "\n",
        "---"
      ]
    },
    {
      "cell_type": "markdown",
      "metadata": {
        "id": "OC3gZFkTg7xg"
      },
      "source": [
        "### <font color=\"lime\">**Complex:**</font> Numbers with real and imaginary parts, which are each a floating point number (example: `1.1+2.3j`)"
      ]
    },
    {
      "cell_type": "code",
      "execution_count": null,
      "metadata": {
        "colab": {
          "base_uri": "https://localhost:8080/"
        },
        "id": "0QM8KVgvn4Xl",
        "outputId": "620094b7-de45-4de9-8a3a-cd6bc234ce74"
      },
      "outputs": [
        {
          "data": {
            "text/plain": [
              "(1.1+2.3j)"
            ]
          },
          "execution_count": 9,
          "metadata": {},
          "output_type": "execute_result"
        }
      ],
      "source": [
        "# Creating a complex number:\n",
        "z = 1.1 + 2.3j\n",
        "z"
      ]
    },
    {
      "cell_type": "markdown",
      "metadata": {
        "id": "qVrmAmAvX-NW"
      },
      "source": [
        "---\n",
        "## <font color=\"orange\">**1.3. Text Sequence Type:**<font color=\"white\"> str</font>"
      ]
    },
    {
      "cell_type": "markdown",
      "metadata": {
        "id": "BNM-Oh-6QscE"
      },
      "source": [
        "### Textual data in Python is handled with `str` objects, or strings."
      ]
    },
    {
      "cell_type": "markdown",
      "metadata": {
        "id": "1_55mmGtUslV"
      },
      "source": [
        "### <font color=\"lime\">**Strings:**<font color=\"white\"> Immutable Text Sequence </font>\n",
        "\n",
        "* Definition: Sequence of text characters written as:\n",
        "    - Single quotes: `'allows embedded \"double\" quotes'`\n",
        "    - Double quotes: `\"allows embedded 'single' quotes\"`\n",
        "    - Triple quoted: `'''Three single quotes'''`, `\"\"\"Three double quotes\"\"\"`\n",
        "\n",
        "* Once created, Python strings cannot be changed — they are immutable"
      ]
    },
    {
      "cell_type": "markdown",
      "metadata": {
        "id": "2HVgLj1rHWk0"
      },
      "source": [
        "#### <font color=\"cyan\">**Examples:**</font> Creating strings"
      ]
    },
    {
      "cell_type": "code",
      "execution_count": null,
      "metadata": {
        "colab": {
          "base_uri": "https://localhost:8080/",
          "height": 35
        },
        "id": "fBII7djEOn--",
        "outputId": "76dbb994-e73e-46a2-93cb-b246a503c7fe"
      },
      "outputs": [
        {
          "data": {
            "text/plain": [
              "'Hello'"
            ]
          },
          "execution_count": 10,
          "metadata": {},
          "output_type": "execute_result"
        }
      ],
      "source": [
        "name = 'Hello'   # this is a string\n",
        "# 'Hello' is the same as \"Hello\"\n",
        "name"
      ]
    },
    {
      "cell_type": "code",
      "execution_count": null,
      "metadata": {
        "colab": {
          "base_uri": "https://localhost:8080/",
          "height": 35
        },
        "id": "MvSiq7_F8b0X",
        "outputId": "e3087001-377b-4274-aadd-72515765b699"
      },
      "outputs": [
        {
          "data": {
            "text/plain": [
              "'you can \"do\" this'"
            ]
          },
          "execution_count": 11,
          "metadata": {},
          "output_type": "execute_result"
        }
      ],
      "source": [
        "# 'Single' and \"double\" quotes are used interchangeably \n",
        "'you can \"do\" this'"
      ]
    },
    {
      "cell_type": "code",
      "execution_count": null,
      "metadata": {
        "colab": {
          "base_uri": "https://localhost:8080/",
          "height": 35
        },
        "id": "jcaDQkco81FV",
        "outputId": "9c3aa60e-8f53-4f6a-8c4f-d69747d9e62e"
      },
      "outputs": [
        {
          "data": {
            "text/plain": [
              "\"or you can 'do' this\""
            ]
          },
          "execution_count": 12,
          "metadata": {},
          "output_type": "execute_result"
        }
      ],
      "source": [
        "\"or you can 'do' this\""
      ]
    },
    {
      "cell_type": "code",
      "execution_count": null,
      "metadata": {
        "colab": {
          "base_uri": "https://localhost:8080/",
          "height": 35
        },
        "id": "YoXUjxFbacL5",
        "outputId": "74380c3e-8b63-4330-bef9-d3336d3bb10b"
      },
      "outputs": [
        {
          "data": {
            "text/plain": [
              "\"doesn't\""
            ]
          },
          "execution_count": 13,
          "metadata": {},
          "output_type": "execute_result"
        }
      ],
      "source": [
        "# Note: Use backslash ( \\ ) to escape quotes (Good to know, but I rarely use this)\n",
        "a = 'doesn\\'t'    # with slash\n",
        "b = \"doesn't\"     # without slash\n",
        "a"
      ]
    },
    {
      "cell_type": "code",
      "execution_count": null,
      "metadata": {
        "colab": {
          "base_uri": "https://localhost:8080/",
          "height": 35
        },
        "id": "kVdcpxdVEnSC",
        "outputId": "9873a067-6023-41d5-ccc7-3ca06134ebdf"
      },
      "outputs": [
        {
          "data": {
            "text/plain": [
              "'abc'"
            ]
          },
          "execution_count": 14,
          "metadata": {},
          "output_type": "execute_result"
        }
      ],
      "source": [
        "\"\"\"abc\"\"\""
      ]
    },
    {
      "cell_type": "code",
      "execution_count": null,
      "metadata": {
        "colab": {
          "base_uri": "https://localhost:8080/",
          "height": 35
        },
        "id": "seiD4uXfMElS",
        "outputId": "2513d4ae-3c68-4c7f-8cca-90e0b56c3443"
      },
      "outputs": [
        {
          "data": {
            "text/plain": [
              "'Python'"
            ]
          },
          "execution_count": 15,
          "metadata": {},
          "output_type": "execute_result"
        }
      ],
      "source": [
        "# Two or more string literals next to each other are automatically concatenated.\n",
        "'Py' 'thon'  # equivalent to 'Py' + 'thon'"
      ]
    },
    {
      "cell_type": "markdown",
      "metadata": {
        "id": "QIZ5lg4ZHynL"
      },
      "source": [
        "#### <font color=\"cyan\">**Examples:**</font> String Methods"
      ]
    },
    {
      "cell_type": "markdown",
      "source": [
        "* Methods are built-in functions exclusive to a certain class\n",
        "* A string is a class with unique methods. The follwoing table list some of them:\n",
        "\n",
        "\n",
        "| Method | Action|\n",
        "|----|----|\n",
        "| `str.capitalize()` |capitalize 1st character & lowercase the rest|\n",
        "| `str.upper()` |uppercase all characters|\n",
        "| `str.lower()`  |lowercase all characters|\n",
        "| `str.isupper()`  |return `True` if all characters are uppercase|\n",
        "| `str.islower()` |return `True` if all characters are lowercase|\n",
        "| `str.strip()` |remove leading and trailing whitespaces|\n",
        "| `str.ljust(n)` |return the `str` left-justified in a string of length *n*|\n",
        "| `str.rjust(n)` |return the `str` right-justified in a string of length *n*|\n"
      ],
      "metadata": {
        "id": "Pf7-iX5lItfn"
      }
    },
    {
      "cell_type": "code",
      "source": [
        "# create a string\n",
        "string = \"python     \" \n",
        "string"
      ],
      "metadata": {
        "colab": {
          "base_uri": "https://localhost:8080/",
          "height": 35
        },
        "id": "gUC8PsAHIOX3",
        "outputId": "ee84a30e-9d99-4c2f-faeb-999c594783b2"
      },
      "execution_count": 20,
      "outputs": [
        {
          "output_type": "execute_result",
          "data": {
            "text/plain": [
              "'python     '"
            ],
            "application/vnd.google.colaboratory.intrinsic+json": {
              "type": "string"
            }
          },
          "metadata": {},
          "execution_count": 20
        }
      ]
    },
    {
      "cell_type": "code",
      "source": [
        "string.capitalize()         # first letter is capitalized"
      ],
      "metadata": {
        "colab": {
          "base_uri": "https://localhost:8080/",
          "height": 35
        },
        "id": "edXLgu47IOUa",
        "outputId": "3d66f30c-06d7-4526-b8ad-ec61887b7ea2"
      },
      "execution_count": 21,
      "outputs": [
        {
          "output_type": "execute_result",
          "data": {
            "text/plain": [
              "'Python     '"
            ],
            "application/vnd.google.colaboratory.intrinsic+json": {
              "type": "string"
            }
          },
          "metadata": {},
          "execution_count": 21
        }
      ]
    },
    {
      "cell_type": "code",
      "source": [
        "string.upper()              # all letters uppercased"
      ],
      "metadata": {
        "colab": {
          "base_uri": "https://localhost:8080/",
          "height": 35
        },
        "id": "lTRHsW37IOQ9",
        "outputId": "274775ed-5b3a-42a0-bb84-17707df0ba70"
      },
      "execution_count": 22,
      "outputs": [
        {
          "output_type": "execute_result",
          "data": {
            "text/plain": [
              "'PYTHON     '"
            ],
            "application/vnd.google.colaboratory.intrinsic+json": {
              "type": "string"
            }
          },
          "metadata": {},
          "execution_count": 22
        }
      ]
    },
    {
      "cell_type": "code",
      "source": [
        "string.islower()            # check if all letters are lowercase"
      ],
      "metadata": {
        "colab": {
          "base_uri": "https://localhost:8080/"
        },
        "id": "R6WnQiuiIOHd",
        "outputId": "aea4554c-0654-4396-a85c-907abe39c3bc"
      },
      "execution_count": 23,
      "outputs": [
        {
          "output_type": "execute_result",
          "data": {
            "text/plain": [
              "True"
            ]
          },
          "metadata": {},
          "execution_count": 23
        }
      ]
    },
    {
      "cell_type": "code",
      "source": [
        "string = string.strip()     # whitespaces removed\n",
        "string"
      ],
      "metadata": {
        "colab": {
          "base_uri": "https://localhost:8080/",
          "height": 35
        },
        "id": "pmjy2fJOL0m-",
        "outputId": "6f5e5e1b-ab50-4689-9aae-2ee7c4df4c89"
      },
      "execution_count": 24,
      "outputs": [
        {
          "output_type": "execute_result",
          "data": {
            "text/plain": [
              "'python'"
            ],
            "application/vnd.google.colaboratory.intrinsic+json": {
              "type": "string"
            }
          },
          "metadata": {},
          "execution_count": 24
        }
      ]
    },
    {
      "cell_type": "code",
      "source": [
        "string.ljust(8)             # left-justified"
      ],
      "metadata": {
        "colab": {
          "base_uri": "https://localhost:8080/",
          "height": 35
        },
        "id": "Wq3kRBWT0kfM",
        "outputId": "91137ab9-5ba5-4fb8-b9bd-895d1b57511c"
      },
      "execution_count": 25,
      "outputs": [
        {
          "output_type": "execute_result",
          "data": {
            "text/plain": [
              "'python  '"
            ],
            "application/vnd.google.colaboratory.intrinsic+json": {
              "type": "string"
            }
          },
          "metadata": {},
          "execution_count": 25
        }
      ]
    },
    {
      "cell_type": "code",
      "source": [
        "string.rjust(8)             # right-justified"
      ],
      "metadata": {
        "colab": {
          "base_uri": "https://localhost:8080/",
          "height": 35
        },
        "id": "frXhI5ti0p14",
        "outputId": "6744040e-785a-4406-d2ad-f45098e3719c"
      },
      "execution_count": 27,
      "outputs": [
        {
          "output_type": "execute_result",
          "data": {
            "text/plain": [
              "'  python'"
            ],
            "application/vnd.google.colaboratory.intrinsic+json": {
              "type": "string"
            }
          },
          "metadata": {},
          "execution_count": 27
        }
      ]
    },
    {
      "cell_type": "markdown",
      "metadata": {
        "id": "zDDva1-dK28Y"
      },
      "source": [
        "---\n",
        "# <a>**2. Operations**</a>"
      ]
    },
    {
      "cell_type": "markdown",
      "metadata": {
        "id": "VxvqvzWtSjJB"
      },
      "source": [
        "###### In this section, we will learn how to operate on the built-in types that we have seen so far.\n",
        "\n",
        "###### Some operations are supported by several object types. For example, all objects can be:\n",
        "* Compared for equality\n",
        "* Converted to a string\n",
        "* Tested for truth value:\n",
        "  - for use in `if` or `while` condition\n",
        "  - for use as an operand of Boolean operations below\n",
        "  - by default, an object is considered `True` unless it has a method which returns `False` such as an empty array returning `0` length.\n"
      ]
    },
    {
      "cell_type": "markdown",
      "metadata": {
        "id": "6BPYv7GSriww"
      },
      "source": [
        "---\n",
        "## <font color=\"orange\">**2.1. Boolean Operations:**</font> and, or, not\n"
      ]
    },
    {
      "cell_type": "markdown",
      "metadata": {
        "id": "4kK-xBgPy7EE"
      },
      "source": [
        "These are the Boolean operations, ordered by ascending priority:\n",
        "\n",
        "| Operation | Action| Notes |\n",
        "|----|----|----|\n",
        "| `x or y` |if x is false, then y, else x| (1) |\n",
        "| `x and y` |if x is false , then x, else y| (2) |\n",
        "| `not x`  |if x is false, then `True`, else `False`|    |\n",
        "\n",
        "\n",
        "Notes:\n",
        "1. This is a short-circuit operator, so it only evaluates the second argument if the first one is false.\n",
        "2. This is a short-circuit operator, so it only evaluates the second argument if the first one is true.\n",
        "\n",
        "In Python, the following built-in objects are considered False:\n",
        "* Constants defined to be false: `None` and `False`\n",
        "* zero of any numeric type: `0`, `0.0`, `0j`\n",
        "* empty sequences and collections: `''`, `()`, `[]`, `{}`, `set()`, `range(0)`\n",
        "\n",
        "In Python, all \"non-empty\" objects are considered True"
      ]
    },
    {
      "cell_type": "code",
      "execution_count": null,
      "metadata": {
        "id": "zRxDsgcVWZWq"
      },
      "outputs": [],
      "source": [
        "# The following objects are considered false \n",
        "false = False\n",
        "zero_int = 0\n",
        "zero_float = 0.0\n",
        "empty_str = \"\""
      ]
    },
    {
      "cell_type": "code",
      "execution_count": null,
      "metadata": {
        "id": "7zQmT8uIrqHQ"
      },
      "outputs": [],
      "source": [
        "# The following objects are considered true\n",
        "true = True\n",
        "any_int = 1\n",
        "any_float = 5.2\n",
        "any_str = \"nonzero_string\""
      ]
    },
    {
      "cell_type": "markdown",
      "metadata": {
        "id": "tCCFnhY_evbJ"
      },
      "source": [
        "#### <font color=\"cyan\">**Examples:**<font color=\"gray\"> The \"and\" operator"
      ]
    },
    {
      "cell_type": "code",
      "execution_count": null,
      "metadata": {
        "colab": {
          "base_uri": "https://localhost:8080/",
          "height": 36
        },
        "id": "TQzzDTxf3bku",
        "outputId": "c933182c-e2fc-443c-f227-e8cb52e3b895"
      },
      "outputs": [
        {
          "data": {
            "text/plain": [
              "''"
            ]
          },
          "execution_count": 22,
          "metadata": {},
          "output_type": "execute_result"
        }
      ],
      "source": [
        "# expression1 \"and\" expression2\n",
        "# When expression1 is FALSE, return expression1 regardless of expression2 (short-circuit)\n",
        "empty_str and any_str"
      ]
    },
    {
      "cell_type": "code",
      "execution_count": null,
      "metadata": {
        "colab": {
          "base_uri": "https://localhost:8080/",
          "height": 36
        },
        "id": "UPETgKCMUr67",
        "outputId": "2284bf9c-d6e2-4ae3-fcf7-79471196e8d0"
      },
      "outputs": [
        {
          "data": {
            "text/plain": [
              "'nonzero_string'"
            ]
          },
          "execution_count": 23,
          "metadata": {},
          "output_type": "execute_result"
        }
      ],
      "source": [
        "# When expression1 is TRUE, return expression2\n",
        "any_int and any_str"
      ]
    },
    {
      "cell_type": "markdown",
      "metadata": {
        "id": "No24TUIW4sQP"
      },
      "source": [
        "#### <font color=\"cyan\">**Examples:**<font color=\"gray\"> The \"or\" operator"
      ]
    },
    {
      "cell_type": "code",
      "execution_count": null,
      "metadata": {
        "colab": {
          "base_uri": "https://localhost:8080/"
        },
        "id": "THqme3UR5CNv",
        "outputId": "78caf759-b512-4b07-c0a2-ce8b4be57fc0"
      },
      "outputs": [
        {
          "data": {
            "text/plain": [
              "1"
            ]
          },
          "execution_count": 20,
          "metadata": {},
          "output_type": "execute_result"
        }
      ],
      "source": [
        "# expression1 \"or\" expression2\n",
        "# When expression1 is TRUE, return expression1 regardless of expression2 (short-circuit)\n",
        "any_int or any_float"
      ]
    },
    {
      "cell_type": "code",
      "execution_count": null,
      "metadata": {
        "colab": {
          "base_uri": "https://localhost:8080/"
        },
        "id": "JhpE3vIW5TRz",
        "outputId": "5b6680a6-f3be-43df-c753-733a0a1c7447"
      },
      "outputs": [
        {
          "data": {
            "text/plain": [
              "0.0"
            ]
          },
          "execution_count": 21,
          "metadata": {},
          "output_type": "execute_result"
        }
      ],
      "source": [
        "# When expression1 is FALSE, return expression2\n",
        "zero_int or zero_float"
      ]
    },
    {
      "cell_type": "markdown",
      "metadata": {
        "id": "cw7Iw9OZg14a"
      },
      "source": [
        "#### <font color=\"cyan\">**Examples:**<font color=\"gray\"> The \"not\" operator"
      ]
    },
    {
      "cell_type": "code",
      "execution_count": null,
      "metadata": {
        "colab": {
          "base_uri": "https://localhost:8080/"
        },
        "id": "BHEZVrSFcsv0",
        "outputId": "7e1542b0-09cf-4ce1-f541-2331d27cc468"
      },
      "outputs": [
        {
          "data": {
            "text/plain": [
              "True"
            ]
          },
          "execution_count": 24,
          "metadata": {},
          "output_type": "execute_result"
        }
      ],
      "source": [
        "# \"not\" expression: returns true or false\n",
        "# flips expression from FALSE to TRUE\n",
        "not false"
      ]
    },
    {
      "cell_type": "code",
      "execution_count": null,
      "metadata": {
        "colab": {
          "base_uri": "https://localhost:8080/"
        },
        "id": "tPftQbqpbeoz",
        "outputId": "b6c48079-f823-438c-8e91-ff1ec13edb6f"
      },
      "outputs": [
        {
          "data": {
            "text/plain": [
              "False"
            ]
          },
          "execution_count": 25,
          "metadata": {},
          "output_type": "execute_result"
        }
      ],
      "source": [
        "# flips expression from TRUE to FALSE\n",
        "not true"
      ]
    },
    {
      "cell_type": "markdown",
      "metadata": {
        "id": "wH0NRUG9jPnb"
      },
      "source": [
        "#### <font color=\"cyan\">**Examples:**<font color=\"gray\"> Combining boolean operators"
      ]
    },
    {
      "cell_type": "code",
      "execution_count": null,
      "metadata": {
        "colab": {
          "base_uri": "https://localhost:8080/"
        },
        "id": "20Nx71ScfjpR",
        "outputId": "bd0e26ef-1aa0-4327-f046-93594be7ed92"
      },
      "outputs": [
        {
          "data": {
            "text/plain": [
              "True"
            ]
          },
          "execution_count": 26,
          "metadata": {},
          "output_type": "execute_result"
        }
      ],
      "source": [
        "# combining \"and\" and \"not\"\n",
        "any_str and not empty_str        # equivalent to: any_str and (not empty_str)"
      ]
    },
    {
      "cell_type": "code",
      "execution_count": null,
      "metadata": {
        "colab": {
          "base_uri": "https://localhost:8080/"
        },
        "id": "u-dBVQFDf0GZ",
        "outputId": "595e734e-c559-47ff-fce7-aa708be9675d"
      },
      "outputs": [
        {
          "data": {
            "text/plain": [
              "True"
            ]
          },
          "execution_count": 27,
          "metadata": {},
          "output_type": "execute_result"
        }
      ],
      "source": [
        "not any_int or not zero_int     # equivalent to: any_str and (not empty_str)"
      ]
    },
    {
      "cell_type": "markdown",
      "metadata": {
        "id": "zhdJSmx0hjp9"
      },
      "source": [
        "---\n",
        "## <font color=\"orange\">**2.2. Comparison Operations:**</font> 8 comparison operations\n"
      ]
    },
    {
      "cell_type": "markdown",
      "metadata": {
        "id": "84FwrwlEnk8Z"
      },
      "source": [
        "#### These 8 operations have equal priority (which is higher than that of the Boolean operations):\n",
        "\n",
        "| Operation | Action|\n",
        "|----|----|\n",
        "| `==` |equal|\n",
        "| `!=` |not equal|\n",
        "| `<`  |less than   |\n",
        "| `>`  |greater than|\n",
        "| `<=` |less than or equal to|\n",
        "| `>=` |greater than or equal to|\n",
        "| `is` |object identity   |\n",
        "| `is not`|negated object identity |\n",
        "\n",
        "Notes:\n",
        "* Comparisons can be chained arbitrarily, for example, `x < y <= z` is equivalent to `x < y and y <= z`\n",
        "* For some objects, `==` is equivalent to `is`\n",
        "* `<`, `<=`, `>` and `>=` are only defined where they make sense"
      ]
    },
    {
      "cell_type": "markdown",
      "metadata": {
        "id": "wLuvJCwKlVAC"
      },
      "source": [
        "#### <font color=\"cyan\">**Examples:**<font color=\"gray\"> Comparison operators"
      ]
    },
    {
      "cell_type": "code",
      "execution_count": null,
      "metadata": {
        "colab": {
          "base_uri": "https://localhost:8080/"
        },
        "id": "934aLOuYfa7_",
        "outputId": "61449d8c-6e37-4aeb-89aa-6a1bdcf61048"
      },
      "outputs": [
        {
          "data": {
            "text/plain": [
              "True"
            ]
          },
          "execution_count": 28,
          "metadata": {},
          "output_type": "execute_result"
        }
      ],
      "source": [
        "# 1. equal\n",
        "4 == 4"
      ]
    },
    {
      "cell_type": "code",
      "execution_count": null,
      "metadata": {
        "colab": {
          "base_uri": "https://localhost:8080/"
        },
        "id": "8a7vFv5Mfa19",
        "outputId": "64e375f9-2af1-4d68-f247-7c809aa256a1"
      },
      "outputs": [
        {
          "data": {
            "text/plain": [
              "False"
            ]
          },
          "execution_count": 29,
          "metadata": {},
          "output_type": "execute_result"
        }
      ],
      "source": [
        "# 2. not equal\n",
        "4 != 4 "
      ]
    },
    {
      "cell_type": "code",
      "execution_count": null,
      "metadata": {
        "colab": {
          "base_uri": "https://localhost:8080/"
        },
        "id": "nlw2ccXskTrY",
        "outputId": "28846137-2256-4fac-98ab-9599212dc638"
      },
      "outputs": [
        {
          "data": {
            "text/plain": [
              "True"
            ]
          },
          "execution_count": 30,
          "metadata": {},
          "output_type": "execute_result"
        }
      ],
      "source": [
        "# 3. less than \n",
        "-4 < 4"
      ]
    },
    {
      "cell_type": "code",
      "execution_count": null,
      "metadata": {
        "colab": {
          "base_uri": "https://localhost:8080/"
        },
        "id": "vwZFooKfvFbL",
        "outputId": "ce7623f1-3dbc-4f36-cf3c-1d052bf8ec2e"
      },
      "outputs": [
        {
          "data": {
            "text/plain": [
              "True"
            ]
          },
          "execution_count": 31,
          "metadata": {},
          "output_type": "execute_result"
        }
      ],
      "source": [
        "# 4. chained comparison\n",
        "1 < 5 <= 10     # equivalent to 1 < 5 and 5 <= 10"
      ]
    },
    {
      "cell_type": "code",
      "execution_count": null,
      "metadata": {
        "colab": {
          "base_uri": "https://localhost:8080/"
        },
        "id": "yDdUwU7flAjj",
        "outputId": "f520ae4a-6aaa-4d89-fefe-c826b0b37148"
      },
      "outputs": [
        {
          "data": {
            "text/plain": [
              "True"
            ]
          },
          "execution_count": 32,
          "metadata": {},
          "output_type": "execute_result"
        }
      ],
      "source": [
        "# 5. The \"is\" operator\n",
        "4 is 4"
      ]
    },
    {
      "cell_type": "code",
      "execution_count": null,
      "metadata": {
        "colab": {
          "base_uri": "https://localhost:8080/"
        },
        "id": "eAu9NaBllJFD",
        "outputId": "7c514dd4-fceb-40d5-c84e-0be252ea7983"
      },
      "outputs": [
        {
          "data": {
            "text/plain": [
              "False"
            ]
          },
          "execution_count": 33,
          "metadata": {},
          "output_type": "execute_result"
        }
      ],
      "source": [
        "# like saying: 4 (int) is the same as 4 (float)? No\n",
        "4 is 4.0"
      ]
    },
    {
      "cell_type": "code",
      "execution_count": null,
      "metadata": {
        "colab": {
          "base_uri": "https://localhost:8080/"
        },
        "id": "diV7Z7lhlI8t",
        "outputId": "8bd5e7a9-21e6-4aaa-ece4-105a7771e533"
      },
      "outputs": [
        {
          "data": {
            "text/plain": [
              "True"
            ]
          },
          "execution_count": 34,
          "metadata": {},
          "output_type": "execute_result"
        }
      ],
      "source": [
        "# 6. The \"is not\" operator\n",
        "4 is not 4.0"
      ]
    },
    {
      "cell_type": "code",
      "execution_count": null,
      "metadata": {
        "id": "wmTdwmZ2lCpe"
      },
      "outputs": [],
      "source": [
        "# Note: comparisons only work where they make sense\n",
        "# 4 > \"abc\"       # integer > string, will raise an error\n",
        "# 4 > 1j          # integer > complex, will raise an error"
      ]
    },
    {
      "cell_type": "markdown",
      "metadata": {
        "id": "mxvjZPnvhcbl"
      },
      "source": [
        "---\n",
        "## <font color=\"orange\">**2.3. Math Operations:**</font>\n"
      ]
    },
    {
      "cell_type": "markdown",
      "metadata": {
        "id": "gSchGLYqR9su"
      },
      "source": [
        "#### All numeric types (except complex) support the following operations: \n",
        "\n",
        "| Operation | Result|\n",
        "|----|----|\n",
        "| `x + y`  |sum of x and y|\n",
        "| `x - y`  |difference of x and y|\n",
        "| `x * y`  |product of x and y|\n",
        "| `x / y`  |quotient of x and y|\n",
        "| `x // y` |floored quotient of x and y|\n",
        "| `x % y`  |remainder of `x/y` |\n",
        "| `-x`  |x negated    |\n",
        "| `+x`  |x unchanged  |\n",
        "| `abs(x)`  |absolute value of x   |\n",
        "| `int(x)`  |x converted to integer|\n",
        "| `float(x)`  |x converted to floating point|\n",
        "| `complex(re, im)`  |complex number with real part `re`, imaginary part `im`. `im` defaults to zero.|\n",
        "| `c.conjugate()`  |conjugate of complex number `c`|\n",
        "| `divmod(x, y)`  |the pair(`x//y`, `x%y`)|\n",
        "| `pow(x, y)`  |x to the power y|\n",
        "| `x ** y` |x to the power y|"
      ]
    },
    {
      "cell_type": "markdown",
      "metadata": {
        "id": "HfgFWGsJrxoK"
      },
      "source": [
        "#### <font color=\"cyan\">**Examples:**<font color=\"gray\"> Math operators"
      ]
    },
    {
      "cell_type": "code",
      "execution_count": null,
      "metadata": {
        "colab": {
          "base_uri": "https://localhost:8080/"
        },
        "id": "DnOAuwggQ9SH",
        "outputId": "a3b3f183-995a-45cd-df35-0f64a5374412"
      },
      "outputs": [
        {
          "data": {
            "text/plain": [
              "4"
            ]
          },
          "execution_count": 37,
          "metadata": {},
          "output_type": "execute_result"
        }
      ],
      "source": [
        "# We can use python as a calculator...\n",
        "2 + 2"
      ]
    },
    {
      "cell_type": "code",
      "execution_count": null,
      "metadata": {
        "colab": {
          "base_uri": "https://localhost:8080/"
        },
        "id": "2Ex0ala2Q9a2",
        "outputId": "6de57c7c-e3a0-4522-fbe8-7818c1c3195c"
      },
      "outputs": [
        {
          "data": {
            "text/plain": [
              "9"
            ]
          },
          "execution_count": 38,
          "metadata": {},
          "output_type": "execute_result"
        }
      ],
      "source": [
        "# Use () for grouping\n",
        "(5 - 2) * 3"
      ]
    },
    {
      "cell_type": "code",
      "execution_count": null,
      "metadata": {
        "colab": {
          "base_uri": "https://localhost:8080/"
        },
        "id": "hU8aDQWRQ9eO",
        "outputId": "25adc94b-e29e-4a71-8ad5-5a0cc29f7ddc"
      },
      "outputs": [
        {
          "data": {
            "text/plain": [
              "3.3333333333333335"
            ]
          },
          "execution_count": 39,
          "metadata": {},
          "output_type": "execute_result"
        }
      ],
      "source": [
        "# Division always returns a floating point number\n",
        "10 / 3"
      ]
    },
    {
      "cell_type": "code",
      "execution_count": null,
      "metadata": {
        "colab": {
          "base_uri": "https://localhost:8080/"
        },
        "id": "3GG9yJfKQ9h-",
        "outputId": "a28d0dc2-3617-4f4b-b830-3ef7d468c121"
      },
      "outputs": [
        {
          "data": {
            "text/plain": [
              "2"
            ]
          },
          "execution_count": 40,
          "metadata": {},
          "output_type": "execute_result"
        }
      ],
      "source": [
        "# Floor division ignores decimal places\n",
        "7 // 3"
      ]
    },
    {
      "cell_type": "code",
      "execution_count": null,
      "metadata": {
        "colab": {
          "base_uri": "https://localhost:8080/"
        },
        "id": "0LXAuW9iQ9lG",
        "outputId": "be774573-3ca7-4661-edc4-d06eec5cd28e"
      },
      "outputs": [
        {
          "data": {
            "text/plain": [
              "1"
            ]
          },
          "execution_count": 41,
          "metadata": {},
          "output_type": "execute_result"
        }
      ],
      "source": [
        "# To calculate the remainder, use %\n",
        "7 % 3"
      ]
    },
    {
      "cell_type": "code",
      "execution_count": null,
      "metadata": {
        "colab": {
          "base_uri": "https://localhost:8080/"
        },
        "id": "G6LCwR7uQ9rW",
        "outputId": "d5593a38-5922-4e40-d3a3-2fd8a977c433"
      },
      "outputs": [
        {
          "data": {
            "text/plain": [
              "25"
            ]
          },
          "execution_count": 42,
          "metadata": {},
          "output_type": "execute_result"
        }
      ],
      "source": [
        "5 ** 2  # squared"
      ]
    },
    {
      "cell_type": "markdown",
      "metadata": {
        "id": "hRjaTRLozlgl"
      },
      "source": [
        "---\n",
        "## <font color=\"orange\">**2.4. Sequence Operations:**</font>\n",
        "<a id=\"comm_ops\"></a>"
      ]
    },
    {
      "cell_type": "markdown",
      "metadata": {
        "id": "VELRYGYFz4Nn"
      },
      "source": [
        "#### The operations in the following table are supported by most sequence types (not just strings), where:\n",
        "* `s` and `t` are sequences of the same type\n",
        "* `n`, `i`, `j`, and `k` are integers\n",
        "* `x` is an arbitrary object that meets any type imposed by `s`\n",
        "\n",
        "| Operation | Result|\n",
        "|----|----|\n",
        "| `x in s`  |`True` if an item of *s* is equal to *x*, else `False`|\n",
        "| `x not in s`  |`False` if an item of *s* is equal to *x*, else `True`|\n",
        "| `s + t`  |the concatenation of *s* and *t*|\n",
        "| `s * n` or `n * s`  |adding *s* to itself *n* times|\n",
        "| `s[i]` |*i*th item of *s*, origin 0|\n",
        "| `s[i:j]`  |slice of *s* from *i* to *j*|\n",
        "| `s[i:j:k]`  |slice of *s* from *i* to *j* with step *k*|\n",
        "| `len(s)`  |length of *s*  |\n",
        "| `min(x)`  |smallest item of *s*  |\n",
        "| `max(x)`  |largest item of *s*|\n",
        "| `s.index(x)`  |index of the first occurrence of *x* in *s*|\n",
        "| `s.count(x)`  |total number of occurrences of *x* in *s*|\n",
        "\n",
        "Notes:\n",
        "* Most squences (mutable and immutable) support the operations above\n",
        "* Sequences of the same type also support element-wise comparisons\n",
        "* Sequences are considered 'iterables': objects which can be iterated over (i.e. used in a for loop)\n",
        "\n"
      ]
    },
    {
      "cell_type": "markdown",
      "metadata": {
        "id": "dtKCaOPTxZzt"
      },
      "source": [
        "#### <font color=\"cyan\">**Examples:**<font color=\"gray\"> Containment testing"
      ]
    },
    {
      "cell_type": "code",
      "execution_count": null,
      "metadata": {
        "id": "qq4QSB0g738N"
      },
      "outputs": [],
      "source": [
        "# define some variables\n",
        "s = 'abc'\n",
        "t = 'def'\n",
        "x = 'b'\n",
        "n = 3"
      ]
    },
    {
      "cell_type": "code",
      "execution_count": null,
      "metadata": {
        "colab": {
          "base_uri": "https://localhost:8080/"
        },
        "id": "o_7waZvs8Wcu",
        "outputId": "a84b7b53-a79c-4aed-dfc1-3f0b648e38e9"
      },
      "outputs": [
        {
          "data": {
            "text/plain": [
              "True"
            ]
          },
          "execution_count": 44,
          "metadata": {},
          "output_type": "execute_result"
        }
      ],
      "source": [
        "# containment testing (translates to: is 'a' a part of 'abc'?)\n",
        "x in s      # True"
      ]
    },
    {
      "cell_type": "code",
      "execution_count": null,
      "metadata": {
        "colab": {
          "base_uri": "https://localhost:8080/"
        },
        "id": "FadKUXyxu06o",
        "outputId": "bf4dae88-8419-4243-dd3a-e8c7877c1e4b"
      },
      "outputs": [
        {
          "data": {
            "text/plain": [
              "False"
            ]
          },
          "execution_count": 45,
          "metadata": {},
          "output_type": "execute_result"
        }
      ],
      "source": [
        "# containment testing (translates to: is 'a' a part of 'def'?)\n",
        "x in t      # False"
      ]
    },
    {
      "cell_type": "code",
      "execution_count": null,
      "metadata": {
        "colab": {
          "base_uri": "https://localhost:8080/"
        },
        "id": "XrFIuF9E734-",
        "outputId": "a71bf31a-706e-4882-9616-da53792f2132"
      },
      "outputs": [
        {
          "data": {
            "text/plain": [
              "True"
            ]
          },
          "execution_count": 46,
          "metadata": {},
          "output_type": "execute_result"
        }
      ],
      "source": [
        "# containment testing (translates to: is 'a' not a part of 'def'?)\n",
        "x not in t  # True"
      ]
    },
    {
      "cell_type": "code",
      "execution_count": null,
      "metadata": {
        "colab": {
          "base_uri": "https://localhost:8080/"
        },
        "id": "v86fHoqCea5u",
        "outputId": "b69d1904-651c-48bd-e5af-9d968b5931c9"
      },
      "outputs": [
        {
          "data": {
            "text/plain": [
              "1"
            ]
          },
          "execution_count": 47,
          "metadata": {},
          "output_type": "execute_result"
        }
      ],
      "source": [
        "# get the index (position) where x is found in s\n",
        "s.index(x)"
      ]
    },
    {
      "cell_type": "code",
      "execution_count": null,
      "metadata": {
        "colab": {
          "base_uri": "https://localhost:8080/"
        },
        "id": "MDOX4OP0fA_f",
        "outputId": "24b829ac-6178-4b4e-bff3-974d8db8ce69"
      },
      "outputs": [
        {
          "data": {
            "text/plain": [
              "1"
            ]
          },
          "execution_count": 48,
          "metadata": {},
          "output_type": "execute_result"
        }
      ],
      "source": [
        "# get the number of occurrences of x in s\n",
        "s.count(x)"
      ]
    },
    {
      "cell_type": "markdown",
      "metadata": {
        "id": "5bN_mnjC-YFJ"
      },
      "source": [
        "#### <font color=\"cyan\">**Examples:**<font color=\"gray\"> Concatenation\n",
        "Strings can be concatenated (glued together) with the `+` operator, and repeated with `*` :"
      ]
    },
    {
      "cell_type": "code",
      "execution_count": null,
      "metadata": {
        "id": "JYrJdOQIv2NR"
      },
      "outputs": [],
      "source": [
        "# define some variables\n",
        "x = 'a'\n",
        "s = 'abc'\n",
        "t = 'def'\n",
        "n = 3"
      ]
    },
    {
      "cell_type": "code",
      "execution_count": null,
      "metadata": {
        "colab": {
          "base_uri": "https://localhost:8080/",
          "height": 36
        },
        "id": "9ka3VwPV731l",
        "outputId": "97ee802f-a2bb-494d-e1c6-34d537b8fcc4"
      },
      "outputs": [
        {
          "data": {
            "text/plain": [
              "'abcdef'"
            ]
          },
          "execution_count": 50,
          "metadata": {},
          "output_type": "execute_result"
        }
      ],
      "source": [
        "s + t     # concate s and t"
      ]
    },
    {
      "cell_type": "code",
      "execution_count": null,
      "metadata": {
        "colab": {
          "base_uri": "https://localhost:8080/",
          "height": 36
        },
        "id": "al3-vt0q73yM",
        "outputId": "d980ee97-4c37-43cd-a162-57792b149dad"
      },
      "outputs": [
        {
          "data": {
            "text/plain": [
              "'abcabcabc'"
            ]
          },
          "execution_count": 51,
          "metadata": {},
          "output_type": "execute_result"
        }
      ],
      "source": [
        "s * n     # s repeated n times"
      ]
    },
    {
      "cell_type": "code",
      "execution_count": null,
      "metadata": {
        "colab": {
          "base_uri": "https://localhost:8080/",
          "height": 36
        },
        "id": "9bjc4MBS-Pfo",
        "outputId": "e73a4799-98d1-4e6d-9b39-ed130dea3bde"
      },
      "outputs": [
        {
          "data": {
            "text/plain": [
              "'aaadef'"
            ]
          },
          "execution_count": 52,
          "metadata": {},
          "output_type": "execute_result"
        }
      ],
      "source": [
        "n * x + t  # x repeated n times, then concatenate t"
      ]
    },
    {
      "cell_type": "markdown",
      "metadata": {
        "id": "iOwjWj4GgAGE"
      },
      "source": [
        "#### <font color=\"cyan\">**Examples:**<font color=\"gray\">  Subscripting\n"
      ]
    },
    {
      "cell_type": "markdown",
      "metadata": {
        "id": "S4yWE89ZHwKk"
      },
      "source": [
        "Subscripting is done using square brackets `[]`, and includes:\n",
        "* Indexing: obtain a single element from a sequence of elements\n",
        "* Slicing:  obtain a subsequence of elements from a sequence of elements"
      ]
    },
    {
      "cell_type": "markdown",
      "metadata": {
        "id": "CGQXDUR4JN6o"
      },
      "source": [
        "##### <font color=\"magenta\">**Indexing strings:**<font color=\"gray\"> Obtain a single element from a sequence of elements</font>"
      ]
    },
    {
      "cell_type": "markdown",
      "metadata": {
        "id": "dO2NtcHB8CmR"
      },
      "source": [
        "Key Points:\n",
        "* In python, the first element has index 0\n",
        "* A good way to remember how slices work is to think of the indices as pointing between characters, with the left edge of the first character numbered 0\n",
        "\n",
        "```\n",
        " +---+---+---+---+---+---+\n",
        " | P | y | t | h | o | n |\n",
        " +---+---+---+---+---+---+\n",
        " 0   1   2   3   4   5   \n",
        "-6  -5  -4  -3  -2  -1\n",
        "```\n"
      ]
    },
    {
      "cell_type": "code",
      "execution_count": null,
      "metadata": {
        "colab": {
          "base_uri": "https://localhost:8080/",
          "height": 36
        },
        "id": "WvKm0pyph0Il",
        "outputId": "9d0d2b6e-7213-4d3d-daa0-1fd57fcca959"
      },
      "outputs": [
        {
          "data": {
            "text/plain": [
              "'P'"
            ]
          },
          "execution_count": 53,
          "metadata": {},
          "output_type": "execute_result"
        }
      ],
      "source": [
        "word = 'Python'\n",
        "word[0]  # character in position 0 (first element)"
      ]
    },
    {
      "cell_type": "code",
      "execution_count": null,
      "metadata": {
        "colab": {
          "base_uri": "https://localhost:8080/",
          "height": 36
        },
        "id": "fSNzlt7Ah0M1",
        "outputId": "0b5927bc-b6be-46df-a6c3-852ea72fd1ef"
      },
      "outputs": [
        {
          "data": {
            "text/plain": [
              "'n'"
            ]
          },
          "execution_count": 54,
          "metadata": {},
          "output_type": "execute_result"
        }
      ],
      "source": [
        "word[5]  # get the last element"
      ]
    },
    {
      "cell_type": "code",
      "execution_count": null,
      "metadata": {
        "colab": {
          "base_uri": "https://localhost:8080/",
          "height": 35
        },
        "id": "oqBHEC0eijvX",
        "outputId": "33954bfb-d554-46fb-faa6-36f382d7f9e4"
      },
      "outputs": [
        {
          "data": {
            "text/plain": [
              "'n'"
            ]
          },
          "execution_count": 55,
          "metadata": {},
          "output_type": "execute_result"
        }
      ],
      "source": [
        "word[-1]  # another way to get the last element"
      ]
    },
    {
      "cell_type": "code",
      "execution_count": null,
      "metadata": {
        "colab": {
          "base_uri": "https://localhost:8080/",
          "height": 36
        },
        "id": "Y8YIBps2ilR-",
        "outputId": "0422e1f2-1edd-4e87-edfe-b03d4edce96a"
      },
      "outputs": [
        {
          "data": {
            "text/plain": [
              "'o'"
            ]
          },
          "execution_count": 56,
          "metadata": {},
          "output_type": "execute_result"
        }
      ],
      "source": [
        "word[-2]  # second-last element"
      ]
    },
    {
      "cell_type": "markdown",
      "metadata": {
        "id": "3yFgHcrljkZx"
      },
      "source": [
        "##### <font color=\"magenta\">**Slicing strings:**<font color=\"gray\"> Obtain a subsequence from a sequence</font>\n",
        "\n"
      ]
    },
    {
      "cell_type": "markdown",
      "metadata": {
        "id": "JttpF24ZTF04"
      },
      "source": [
        "| Syntax | Explanation |\n",
        "|----|----|\n",
        "| `sequence[start:stop:step]`  |start to stop by step|\n",
        "| `sequence[start:stop]`  |start to stop|\n",
        "| `sequence[start:]`  |start to end of sequence|\n",
        "| `sequence[:stop]`  |beginning of sequence to stop|\n",
        "| `sequence[:]`  |copy of the whole sequence|\n",
        "\n",
        "Key Points:\n",
        "  - While `start` index starts from `0`, the `stop` index starts from `1`\n",
        "  - `start` and `stop` may be *negative*, meaning it counts from the end of the array instead of the beginning\n",
        "  - *Negative* `step` will slice in reverse \n",
        "\n",
        "Slice indices have useful defaults:\n",
        "  - An omitted `start` index defaults to zero\n",
        "  - An omitted `stop` index defaults to the size of the string being sliced\n",
        "  - An omitted `step` index defaults to 1"
      ]
    },
    {
      "cell_type": "code",
      "execution_count": null,
      "metadata": {
        "colab": {
          "base_uri": "https://localhost:8080/",
          "height": 36
        },
        "id": "DJnEuxFIh0Qk",
        "outputId": "f1a3db8e-d407-4f49-f81a-b9531a31ab7a"
      },
      "outputs": [
        {
          "data": {
            "text/plain": [
              "'Py'"
            ]
          },
          "execution_count": 57,
          "metadata": {},
          "output_type": "execute_result"
        }
      ],
      "source": [
        "word = 'Python'\n",
        "word[:2]   # first two elements of the sequence (same as word[0:2])"
      ]
    },
    {
      "cell_type": "markdown",
      "metadata": {
        "id": "a54EhiG0-hMk"
      },
      "source": [
        "  * The reason behind `start` index starting from `0` and `stop` index starting from `1` is to make sure that `word[:i] + word[i:]` is always equal to `word`:"
      ]
    },
    {
      "cell_type": "code",
      "execution_count": null,
      "metadata": {
        "colab": {
          "base_uri": "https://localhost:8080/",
          "height": 36
        },
        "id": "WcA4YMNxTib1",
        "outputId": "5f906057-bdbe-4bc8-ba6b-d1191146b41d"
      },
      "outputs": [
        {
          "data": {
            "text/plain": [
              "'Python'"
            ]
          },
          "execution_count": 58,
          "metadata": {},
          "output_type": "execute_result"
        }
      ],
      "source": [
        "i = 2\n",
        "word[:i] + word[i:]"
      ]
    },
    {
      "cell_type": "markdown",
      "metadata": {
        "id": "HG6HsMQpDDWy"
      },
      "source": [
        "  * We can slice by stepping through every other element:"
      ]
    },
    {
      "cell_type": "code",
      "execution_count": null,
      "metadata": {
        "colab": {
          "base_uri": "https://localhost:8080/",
          "height": 36
        },
        "id": "18F3OvYUDDEh",
        "outputId": "81c82d64-7fd7-4145-c074-7e20e8efbfb5"
      },
      "outputs": [
        {
          "data": {
            "text/plain": [
              "'Pto'"
            ]
          },
          "execution_count": 59,
          "metadata": {},
          "output_type": "execute_result"
        }
      ],
      "source": [
        "word[::2]     # slice whole sequence, stepping by 2"
      ]
    },
    {
      "cell_type": "markdown",
      "metadata": {
        "id": "OKckQP5oA4pn"
      },
      "source": [
        "  * `start` and `stop` may be negative:"
      ]
    },
    {
      "cell_type": "code",
      "execution_count": null,
      "metadata": {
        "colab": {
          "base_uri": "https://localhost:8080/",
          "height": 36
        },
        "id": "6k0cIE-0BtR4",
        "outputId": "6e0a22ae-cd92-478e-a4ce-6cd34fab5382"
      },
      "outputs": [
        {
          "data": {
            "text/plain": [
              "'on'"
            ]
          },
          "execution_count": 60,
          "metadata": {},
          "output_type": "execute_result"
        }
      ],
      "source": [
        "word[-2:]     # last two elements of the sequence"
      ]
    },
    {
      "cell_type": "code",
      "execution_count": null,
      "metadata": {
        "colab": {
          "base_uri": "https://localhost:8080/",
          "height": 36
        },
        "id": "wn8hlCG-BtOR",
        "outputId": "3c1330e7-2478-4378-db8f-0513ec7dffe9"
      },
      "outputs": [
        {
          "data": {
            "text/plain": [
              "'Pyth'"
            ]
          },
          "execution_count": 61,
          "metadata": {},
          "output_type": "execute_result"
        }
      ],
      "source": [
        "word[:-2]     # everything except the last two elements"
      ]
    },
    {
      "cell_type": "markdown",
      "metadata": {
        "id": "LnIqEaDJCsWy"
      },
      "source": [
        "  * Similarly, `step` may be negative, which will reverse the slice:"
      ]
    },
    {
      "cell_type": "code",
      "execution_count": null,
      "metadata": {
        "colab": {
          "base_uri": "https://localhost:8080/",
          "height": 36
        },
        "id": "grHG5Z_LClmh",
        "outputId": "5e31092f-0bf7-42f3-acd2-d2dd7a43ce83"
      },
      "outputs": [
        {
          "data": {
            "text/plain": [
              "'nohtyP'"
            ]
          },
          "execution_count": 62,
          "metadata": {},
          "output_type": "execute_result"
        }
      ],
      "source": [
        "word[::-1]    # whole sequence, reversed"
      ]
    },
    {
      "cell_type": "code",
      "execution_count": null,
      "metadata": {
        "colab": {
          "base_uri": "https://localhost:8080/",
          "height": 36
        },
        "id": "ayvvFntcTx_K",
        "outputId": "91e2e882-f365-4203-d6e6-1eae0a4ca70e"
      },
      "outputs": [
        {
          "data": {
            "text/plain": [
              "'nhy'"
            ]
          },
          "execution_count": 63,
          "metadata": {},
          "output_type": "execute_result"
        }
      ],
      "source": [
        "word[::-2]    # whole sequence, stepping by 2, reversed"
      ]
    },
    {
      "cell_type": "code",
      "execution_count": null,
      "metadata": {
        "colab": {
          "base_uri": "https://localhost:8080/",
          "height": 36
        },
        "id": "A2c2K8YozHha",
        "outputId": "e3ef6f31-96ef-48b1-9c6c-ffff2e950987"
      },
      "outputs": [
        {
          "data": {
            "text/plain": [
              "'yP'"
            ]
          },
          "execution_count": 64,
          "metadata": {},
          "output_type": "execute_result"
        }
      ],
      "source": [
        "word[1::-1]   # first two elements, reversed"
      ]
    },
    {
      "cell_type": "code",
      "execution_count": null,
      "metadata": {
        "colab": {
          "base_uri": "https://localhost:8080/",
          "height": 36
        },
        "id": "AW3E91-Uh0Um",
        "outputId": "725ca052-84a9-4c5d-8116-409dd043d4ea"
      },
      "outputs": [
        {
          "data": {
            "text/plain": [
              "'no'"
            ]
          },
          "execution_count": 65,
          "metadata": {},
          "output_type": "execute_result"
        }
      ],
      "source": [
        "word[:-3:-1]  # last two elements, reversed"
      ]
    },
    {
      "cell_type": "code",
      "execution_count": null,
      "metadata": {
        "colab": {
          "base_uri": "https://localhost:8080/",
          "height": 36
        },
        "id": "zKsfFrkcUtyK",
        "outputId": "3f020016-a24b-4988-c9b5-ea63f0d04640"
      },
      "outputs": [
        {
          "data": {
            "text/plain": [
              "'htyP'"
            ]
          },
          "execution_count": 66,
          "metadata": {},
          "output_type": "execute_result"
        }
      ],
      "source": [
        "word[-3::-1]  # everything except the last two elements, reversed"
      ]
    },
    {
      "cell_type": "markdown",
      "metadata": {
        "id": "gGt09-PEosuR"
      },
      "source": [
        "---\n",
        "# <a>**3. Built-in Data Structures**</a>\n"
      ]
    },
    {
      "cell_type": "markdown",
      "metadata": {
        "id": "Knilg-fmWL_m"
      },
      "source": [
        "## What are data structures?\n",
        "Think of Data Structures as containers to store data. The most common python built-in data structures are described below:\n",
        "  * Sequences: [list](https://docs.python.org/3/library/stdtypes.html#list), [tuple](https://docs.python.org/3/library/stdtypes.html#tuple), [range](https://docs.python.org/3/library/stdtypes.html#range)\n",
        "  * Mappings: [dict](https://docs.python.org/3/library/stdtypes.html#dict)"
      ]
    },
    {
      "cell_type": "markdown",
      "metadata": {
        "id": "PT2nVw8E6K4v"
      },
      "source": [
        "---\n",
        "## <font color=\"orange\">**3.1. Sequence Types:**</font> list, tuple, range"
      ]
    },
    {
      "cell_type": "markdown",
      "metadata": {
        "id": "YrTyhHnGL-ls"
      },
      "source": [
        "### Definition:\n",
        "Sequences are iterable containers of data i.e. we can loop over each element of the container\n",
        "\n",
        "### Sequence Types:\n",
        "Python supports the following sequence Types:\n",
        "* `list()` -  mutable\n",
        "* `tuple()` - immutable\n",
        "* `range()` - immutable\n",
        "\n",
        "Which can be one of two types:\n",
        "1. Immutable: cannot be modified once declared i.e. tuple\n",
        "2. Mutable: can be changed once declared i.e. list\n",
        "\n",
        "Note:\n",
        "* All sequences supports iteration & subscripting, only mutable sequences support assignment"
      ]
    },
    {
      "cell_type": "markdown",
      "metadata": {
        "id": "X2kNmoX1sn3f"
      },
      "source": [
        "### <font color=\"lime\">**Lists:**</font> Mutable Sequence Type\n",
        "\n"
      ]
    },
    {
      "cell_type": "markdown",
      "metadata": {
        "id": "VoscyEfDXNr4"
      },
      "source": [
        "#### Lists are mutable sequences, typically used to store collections of homogeneous items\n",
        "* Definition: sequence of comma-separated objects between square brackets `[]`\n",
        "* The most versatile data structure\n",
        "* can be list of ints, strings, lists, etc.\n",
        "* can be indexed and sliced\n",
        "\n",
        "Note:\n",
        "* Unlike strings, which are immutable, lists are a mutable type, i.e. it is possible to change their content\n"
      ]
    },
    {
      "cell_type": "markdown",
      "metadata": {
        "id": "Y9-k7h670DTZ"
      },
      "source": [
        "#### <font color=\"cyan\">**Examples:**<font color=\"gray\"> Creating lists</font>"
      ]
    },
    {
      "cell_type": "markdown",
      "metadata": {
        "id": "73hZZ-zIKwfu"
      },
      "source": [
        "Lists may be constructed in several ways:\n",
        "* Using a pair of square brackets to denote the empty list: `[]`\n",
        "* Using square brackets, separating items with commas: `[a]`, `[a, b, c]`\n",
        "* Using the type constructor: `list()` or `list(iterable)`\n",
        "* Using a list comprehension: `[x for x in iterable]`"
      ]
    },
    {
      "cell_type": "code",
      "execution_count": null,
      "metadata": {
        "colab": {
          "base_uri": "https://localhost:8080/"
        },
        "id": "hBwf58Ho0mRI",
        "outputId": "b24927a9-46f6-4751-f860-d9e3f07eb2ec"
      },
      "outputs": [
        {
          "data": {
            "text/plain": [
              "[]"
            ]
          },
          "execution_count": 67,
          "metadata": {},
          "output_type": "execute_result"
        }
      ],
      "source": [
        "[]                    # empty list"
      ]
    },
    {
      "cell_type": "code",
      "execution_count": null,
      "metadata": {
        "colab": {
          "base_uri": "https://localhost:8080/"
        },
        "id": "tENS_LPr0myJ",
        "outputId": "e5728afb-1d6c-4488-db97-c00d6f41d7e5"
      },
      "outputs": [
        {
          "data": {
            "text/plain": [
              "[1, 2, 3]"
            ]
          },
          "execution_count": 68,
          "metadata": {},
          "output_type": "execute_result"
        }
      ],
      "source": [
        "[1,2,3]               # comma-serparated    "
      ]
    },
    {
      "cell_type": "code",
      "execution_count": null,
      "metadata": {
        "colab": {
          "base_uri": "https://localhost:8080/"
        },
        "id": "_7TvUBAQ0mup",
        "outputId": "aa5dd137-1e87-405d-ccd9-fe23db51ef25"
      },
      "outputs": [
        {
          "data": {
            "text/plain": [
              "['a', 'b', 'c']"
            ]
          },
          "execution_count": 69,
          "metadata": {},
          "output_type": "execute_result"
        }
      ],
      "source": [
        "list('abc')           # using the list() function and an iterable sequence (string)"
      ]
    },
    {
      "cell_type": "code",
      "execution_count": null,
      "metadata": {
        "colab": {
          "base_uri": "https://localhost:8080/"
        },
        "id": "qgLXGoCe0mqq",
        "outputId": "5408458d-f204-4b09-e9b3-49628e6fbf6b"
      },
      "outputs": [
        {
          "data": {
            "text/plain": [
              "['a', 'b', 'c']"
            ]
          },
          "execution_count": 70,
          "metadata": {},
          "output_type": "execute_result"
        }
      ],
      "source": [
        "[x for x in 'abc']    # list comprehension (Advanced)"
      ]
    },
    {
      "cell_type": "markdown",
      "metadata": {
        "id": "bbNsNQnuzha_"
      },
      "source": [
        "#### <font color=\"cyan\">**Examples:**<font color=\"gray\"> Operating on lists"
      ]
    },
    {
      "cell_type": "markdown",
      "metadata": {
        "id": "lHY6B0dWK2WD"
      },
      "source": [
        "The operations in the following table are defined for mutable sequence types, where:\n",
        "* `s` is an instance of a mutable sequence type\n",
        "* `t` is any iterable object\n",
        "* `n` is any integer\n",
        "* `x` is an arbitrary object that meets any type imposed by `s`\n",
        "\n",
        "| Operation | Result|\n",
        "|----|----|\n",
        "| `s[i] = x`  |item *i* of *s* is replaced by *x*|\n",
        "| `s[i:j] = t`  |slice of *s* from *i* to *j* is replaced by the content of *t*|\n",
        "| `del s[i:j]`  |same as `s[i:j] = []`|\n",
        "| `s[i:j:k] = t` |elements of `s[i:j:k]` are replaced by those of *t*|\n",
        "| `del s[i:j:k]`  |remove elements of `s[i:j:k]` from *s*|\n",
        "| `s.append(x)`  |add *x* to the end of *s* |\n",
        "| `s.clear()`  |remove all items from *s*, same as `del s[:]` |\n",
        "| `s += t` or `s.extend(t)`  |extend *s* with the content of *t*  |\n",
        "| `s *= n`  |update *s* with its contents repeated *n* times |\n",
        "| `s.insert(i, x)`  |insert *x* into *s* at the *i*th index|\n",
        "| `s.pop()`  |return and remove the last item from *s*|\n",
        "| `s.remove(x)`  |remove the first item from *s* which equals *x*|\n",
        "| `s.reverse()`  |reverse the elements of *s* in place|\n"
      ]
    },
    {
      "cell_type": "code",
      "execution_count": null,
      "metadata": {
        "colab": {
          "base_uri": "https://localhost:8080/"
        },
        "id": "K9SX7W3NhMGb",
        "outputId": "90646305-1501-4ef4-f743-9531401127cb"
      },
      "outputs": [
        {
          "data": {
            "text/plain": [
              "[1, 4, 9, 16, 26]"
            ]
          },
          "execution_count": 71,
          "metadata": {},
          "output_type": "execute_result"
        }
      ],
      "source": [
        "# List creation\n",
        "squares = [1, 4, 9, 16, 26]   # list of squares of [1, 2, 3, 4, 5]\n",
        "squares"
      ]
    },
    {
      "cell_type": "code",
      "execution_count": null,
      "metadata": {
        "colab": {
          "base_uri": "https://localhost:8080/"
        },
        "id": "jkEYZPe6hMJX",
        "outputId": "00d77725-a238-4f6f-9e75-478f929ca145"
      },
      "outputs": [
        {
          "data": {
            "text/plain": [
              "1"
            ]
          },
          "execution_count": 72,
          "metadata": {},
          "output_type": "execute_result"
        }
      ],
      "source": [
        "# List indexing\n",
        "squares[0]      # get the first element"
      ]
    },
    {
      "cell_type": "code",
      "execution_count": null,
      "metadata": {
        "colab": {
          "base_uri": "https://localhost:8080/"
        },
        "id": "9edrcZ8MrmRb",
        "outputId": "47c4e76b-d30c-4cf8-ddfe-5ac90c37752b"
      },
      "outputs": [
        {
          "data": {
            "text/plain": [
              "26"
            ]
          },
          "execution_count": 73,
          "metadata": {},
          "output_type": "execute_result"
        }
      ],
      "source": [
        "squares[-1]     # get the last element"
      ]
    },
    {
      "cell_type": "code",
      "execution_count": null,
      "metadata": {
        "colab": {
          "base_uri": "https://localhost:8080/"
        },
        "id": "Wb7tBdShwv0U",
        "outputId": "0a867bff-0c8e-402c-bd78-d7ff71512a2e"
      },
      "outputs": [
        {
          "data": {
            "text/plain": [
              "[1, 4, 9, 16, 25]"
            ]
          },
          "execution_count": 74,
          "metadata": {},
          "output_type": "execute_result"
        }
      ],
      "source": [
        "# Assignment\n",
        "squares[-1] = 25  # replace the wrong value\n",
        "squares"
      ]
    },
    {
      "cell_type": "code",
      "execution_count": null,
      "metadata": {
        "colab": {
          "base_uri": "https://localhost:8080/"
        },
        "id": "ZrqDywAzmGHU",
        "outputId": "c97dc561-f19f-46b5-cdfd-ecc1c70693d8"
      },
      "outputs": [
        {
          "data": {
            "text/plain": [
              "[1, 4, 9, 16, 25, 36]"
            ]
          },
          "execution_count": 75,
          "metadata": {},
          "output_type": "execute_result"
        }
      ],
      "source": [
        "# Add an element\n",
        "squares.append(36)      # use the append to add individual elements to list\n",
        "squares"
      ]
    },
    {
      "cell_type": "code",
      "execution_count": null,
      "metadata": {
        "colab": {
          "base_uri": "https://localhost:8080/"
        },
        "id": "YIUpkMHTIGw1",
        "outputId": "ca3c2ee5-d338-4904-91c7-ef8634bae2f4"
      },
      "outputs": [
        {
          "data": {
            "text/plain": [
              "[1, 4, 9, 16, 25, 36, 49, 64]"
            ]
          },
          "execution_count": 76,
          "metadata": {},
          "output_type": "execute_result"
        }
      ],
      "source": [
        "# attach a list to an existing list \n",
        "squares.extend([49, 64])\n",
        "squares"
      ]
    },
    {
      "cell_type": "code",
      "execution_count": null,
      "metadata": {
        "colab": {
          "base_uri": "https://localhost:8080/"
        },
        "id": "YMxMt9_PHi-d",
        "outputId": "072931af-7956-434a-c280-e00db769ebbe"
      },
      "outputs": [
        {
          "data": {
            "text/plain": [
              "[1, 4, 9, 16, 25, 36, 49, 64, 81, 100]"
            ]
          },
          "execution_count": 77,
          "metadata": {},
          "output_type": "execute_result"
        }
      ],
      "source": [
        "# attach a list to an existing list (similar to .extend())\n",
        "squares += [81, 100]   # equivalent to squares = squares + [81, 100]\n",
        "squares"
      ]
    },
    {
      "cell_type": "code",
      "execution_count": null,
      "metadata": {
        "colab": {
          "base_uri": "https://localhost:8080/"
        },
        "id": "UwBSymzakJV0",
        "outputId": "08cc1786-83d9-4d2c-df16-977c8626ae61"
      },
      "outputs": [
        {
          "data": {
            "text/plain": [
              "100"
            ]
          },
          "execution_count": 78,
          "metadata": {},
          "output_type": "execute_result"
        }
      ],
      "source": [
        "squares.pop() # remove and return the last item"
      ]
    },
    {
      "cell_type": "code",
      "execution_count": null,
      "metadata": {
        "colab": {
          "base_uri": "https://localhost:8080/"
        },
        "id": "q4_89y2txlim",
        "outputId": "89fac0c9-eab8-48aa-be1c-03833adaae73"
      },
      "outputs": [
        {
          "data": {
            "text/plain": [
              "[1, 4, 9, 16, 25, 36, 49, 64, 81]"
            ]
          },
          "execution_count": 79,
          "metadata": {},
          "output_type": "execute_result"
        }
      ],
      "source": [
        "squares     # indeed, last item was removed"
      ]
    },
    {
      "cell_type": "code",
      "execution_count": null,
      "metadata": {
        "colab": {
          "base_uri": "https://localhost:8080/"
        },
        "id": "B7pXyVRB3cmq",
        "outputId": "a8883c1c-788b-46a0-9464-847fb777eb51"
      },
      "outputs": [
        {
          "data": {
            "text/plain": [
              "True"
            ]
          },
          "execution_count": 80,
          "metadata": {},
          "output_type": "execute_result"
        }
      ],
      "source": [
        "4 in squares  # check if 4 is in squares"
      ]
    },
    {
      "cell_type": "code",
      "execution_count": null,
      "metadata": {
        "colab": {
          "base_uri": "https://localhost:8080/"
        },
        "id": "a4Eu7H5prmYC",
        "outputId": "4a6d0f01-beba-40b5-e55e-75efabfa3fc8"
      },
      "outputs": [
        {
          "data": {
            "text/plain": [
              "[81, 64, 49, 36, 25, 16, 9, 4, 1]"
            ]
          },
          "execution_count": 81,
          "metadata": {},
          "output_type": "execute_result"
        }
      ],
      "source": [
        "squares.reverse()\n",
        "squares"
      ]
    },
    {
      "cell_type": "code",
      "execution_count": null,
      "metadata": {
        "colab": {
          "base_uri": "https://localhost:8080/"
        },
        "id": "vubKs4uormUz",
        "outputId": "8caab853-7496-4ed3-905e-82922fa556d0"
      },
      "outputs": [
        {
          "data": {
            "text/plain": [
              "[64, 49, 36]"
            ]
          },
          "execution_count": 82,
          "metadata": {},
          "output_type": "execute_result"
        }
      ],
      "source": [
        "# Slicing\n",
        "squares[1:4]  # slicing returns a new list"
      ]
    },
    {
      "cell_type": "markdown",
      "metadata": {
        "id": "TuqIYYEYF1Da"
      },
      "source": [
        "Note: Assignment to slices is also possible, and this can even change the size of the list or clear it entirely\n",
        "\n",
        "--- "
      ]
    },
    {
      "cell_type": "code",
      "execution_count": null,
      "metadata": {
        "colab": {
          "base_uri": "https://localhost:8080/"
        },
        "id": "DKJiIIeoCHPu",
        "outputId": "8b02a45a-4b34-4f3b-9887-815a37203d6b"
      },
      "outputs": [
        {
          "data": {
            "text/plain": [
              "['a', 'b', 'c', 'd', 'e']"
            ]
          },
          "execution_count": 83,
          "metadata": {},
          "output_type": "execute_result"
        }
      ],
      "source": [
        "letters = ['a', 'b', 'c', 'd', 'e']\n",
        "letters"
      ]
    },
    {
      "cell_type": "code",
      "execution_count": null,
      "metadata": {
        "colab": {
          "base_uri": "https://localhost:8080/"
        },
        "id": "akIcZGl1CHSo",
        "outputId": "d07bb7c9-0e5a-4ded-ec7a-875edeb87d51"
      },
      "outputs": [
        {
          "data": {
            "text/plain": [
              "['a', 'b', 'C', 'D', 'E']"
            ]
          },
          "execution_count": 84,
          "metadata": {},
          "output_type": "execute_result"
        }
      ],
      "source": [
        "# replace some values\n",
        "letters[2:] = ['C', 'D', 'E']\n",
        "letters"
      ]
    },
    {
      "cell_type": "code",
      "execution_count": null,
      "metadata": {
        "colab": {
          "base_uri": "https://localhost:8080/"
        },
        "id": "gH4KsUtbCHWQ",
        "outputId": "6cbd05bc-863f-40a0-c86c-c954dcc2dae1"
      },
      "outputs": [
        {
          "data": {
            "text/plain": [
              "['a', 'b']"
            ]
          },
          "execution_count": 85,
          "metadata": {},
          "output_type": "execute_result"
        }
      ],
      "source": [
        "# now remove them\n",
        "letters[2:] = []\n",
        "letters"
      ]
    },
    {
      "cell_type": "code",
      "execution_count": null,
      "metadata": {
        "colab": {
          "base_uri": "https://localhost:8080/"
        },
        "id": "_WDiu_m7CHYP",
        "outputId": "c927d2a8-cc2e-46e3-c6ba-1d62bc9ca491"
      },
      "outputs": [
        {
          "data": {
            "text/plain": [
              "[]"
            ]
          },
          "execution_count": 86,
          "metadata": {},
          "output_type": "execute_result"
        }
      ],
      "source": [
        "# clear the list by replacing all the elements with an empty list\n",
        "letters[:] = []\n",
        "letters"
      ]
    },
    {
      "cell_type": "code",
      "execution_count": null,
      "metadata": {
        "colab": {
          "base_uri": "https://localhost:8080/"
        },
        "id": "MHdJbI90CHcU",
        "outputId": "973eac6c-361b-4f05-c06d-43c93ccba073"
      },
      "outputs": [
        {
          "data": {
            "text/plain": [
              "['a', 'b', 'c', 'd']"
            ]
          },
          "execution_count": 87,
          "metadata": {},
          "output_type": "execute_result"
        }
      ],
      "source": [
        "letters = ['a', 'b', 'c', 'd']\n",
        "letters "
      ]
    },
    {
      "cell_type": "code",
      "execution_count": null,
      "metadata": {
        "colab": {
          "base_uri": "https://localhost:8080/"
        },
        "id": "AjuXNiVNs8Gl",
        "outputId": "026f5796-3bc7-41ea-a95f-dbc97d5f6c5d"
      },
      "outputs": [
        {
          "data": {
            "text/plain": [
              "['a', 'b', 'c', 'd', 'e', 'f', 'g']"
            ]
          },
          "execution_count": 88,
          "metadata": {},
          "output_type": "execute_result"
        }
      ],
      "source": [
        "# you can concatenate lists\n",
        "letters += ['e', 'f', 'g'] # equivalent to letters = letters + ['e', 'f', 'g']\n",
        "letters"
      ]
    },
    {
      "cell_type": "markdown",
      "metadata": {
        "id": "fIYTp5FswNw7"
      },
      "source": [
        "#### <font color=\"cyan\">**Examples:**<font color=\"gray\"> Unpacking Lists"
      ]
    },
    {
      "cell_type": "markdown",
      "metadata": {
        "id": "Mbdrsqa2HSfa"
      },
      "source": [
        "- Unpacking means simultanous assignment of the list contents into variables\n",
        "\n",
        "- Lists may be unpacked into variables as follows:\n",
        "    * `one, two, three = [1, 2, 3]`\n",
        "    * variable `one` will be assigned the value `1`, variable `two` will have the value `2`, and so on..."
      ]
    },
    {
      "cell_type": "code",
      "execution_count": null,
      "metadata": {
        "id": "j8uXXVGWHSfa",
        "outputId": "fec0e474-8a6b-49f2-81b4-7383238586a8"
      },
      "outputs": [
        {
          "name": "stdout",
          "output_type": "stream",
          "text": [
            "1 2 3\n"
          ]
        }
      ],
      "source": [
        "one, two, three = [1, 2, 3]\n",
        "print(one, two, three)"
      ]
    },
    {
      "cell_type": "markdown",
      "metadata": {
        "id": "aoom2kAcHSfa"
      },
      "source": [
        "Note: When unpacking a list, the number of variables on the left hand side of the equal sign (`=`) must equal the number of elements in the list\n",
        "\n",
        "--- "
      ]
    },
    {
      "cell_type": "markdown",
      "metadata": {
        "id": "0duajdDjHSfb"
      },
      "source": [
        "#### <font color=\"cyan\">**Examples:**<font color=\"gray\"> Nested Lists (List of lists)"
      ]
    },
    {
      "cell_type": "code",
      "execution_count": null,
      "metadata": {
        "colab": {
          "base_uri": "https://localhost:8080/"
        },
        "id": "QG6hYI2LCHfc",
        "outputId": "38051ce2-c6a2-447c-8b39-cb74d9c7260a"
      },
      "outputs": [
        {
          "data": {
            "text/plain": [
              "[['a', 'b', 'c'], [1, 2, 3]]"
            ]
          },
          "execution_count": 89,
          "metadata": {},
          "output_type": "execute_result"
        }
      ],
      "source": [
        "# It is possible to nest lists (create lists containing other lists), for example\n",
        "a = ['a', 'b', 'c']\n",
        "n = [1, 2, 3]\n",
        "x = [a, n]\n",
        "x"
      ]
    },
    {
      "cell_type": "code",
      "execution_count": null,
      "metadata": {
        "colab": {
          "base_uri": "https://localhost:8080/"
        },
        "id": "hzSdTY3ECHib",
        "outputId": "7bfea5a2-aa66-4247-c53a-4d9ffe1cbb1f"
      },
      "outputs": [
        {
          "data": {
            "text/plain": [
              "['a', 'b', 'c']"
            ]
          },
          "execution_count": 91,
          "metadata": {},
          "output_type": "execute_result"
        }
      ],
      "source": [
        "x[0]    # the first item of x is the list 'a'"
      ]
    },
    {
      "cell_type": "code",
      "execution_count": null,
      "metadata": {
        "colab": {
          "base_uri": "https://localhost:8080/",
          "height": 35
        },
        "id": "1Yo0nekSCHlv",
        "outputId": "011e233d-fa49-4814-8b1d-e196a5a4d04d"
      },
      "outputs": [
        {
          "data": {
            "text/plain": [
              "'c'"
            ]
          },
          "execution_count": 92,
          "metadata": {},
          "output_type": "execute_result"
        }
      ],
      "source": [
        "# nested indexing\n",
        "x[0][-1]      # get the last element of the first list"
      ]
    },
    {
      "cell_type": "code",
      "execution_count": null,
      "metadata": {
        "colab": {
          "base_uri": "https://localhost:8080/"
        },
        "id": "nvT6R6UDeyup",
        "outputId": "9eeef192-2f80-4bac-b693-aba8269aac98"
      },
      "outputs": [
        {
          "data": {
            "text/plain": [
              "[1, 2, 3]"
            ]
          },
          "execution_count": 93,
          "metadata": {},
          "output_type": "execute_result"
        }
      ],
      "source": [
        "x[1]    # second item of x is the list 'n'"
      ]
    },
    {
      "cell_type": "markdown",
      "metadata": {
        "id": "JgVXfG06ePaz"
      },
      "source": [
        "#### <font color=\"magenta\">**Excercise:**</font> Write a code to get the index of the largest number in the list `numbers`:\n",
        "\n",
        "```\n",
        "# find the index of the largest number in list\n",
        "numbers = [-10, 0, 19, -2, 8, 3]\n",
        "```\n",
        "\n"
      ]
    },
    {
      "cell_type": "code",
      "execution_count": null,
      "metadata": {
        "colab": {
          "base_uri": "https://localhost:8080/"
        },
        "id": "00zsNWNMnvXR",
        "outputId": "9088583b-7c4f-4a2a-f4b5-0b7983d2ebac"
      },
      "outputs": [
        {
          "data": {
            "text/plain": [
              "[-10, 0, 19, -2, 8, 3]"
            ]
          },
          "execution_count": 96,
          "metadata": {},
          "output_type": "execute_result"
        }
      ],
      "source": [
        "numbers = [-10, 0, 19, -2, 8, 3]\n",
        "numbers"
      ]
    },
    {
      "cell_type": "code",
      "execution_count": null,
      "metadata": {
        "id": "FEHdchGAnvho"
      },
      "outputs": [],
      "source": [
        "# Write you solution here:\n"
      ]
    },
    {
      "cell_type": "markdown",
      "metadata": {
        "id": "th-h34QTh0G4"
      },
      "source": [
        "#### <font color=\"gray\">**Click here to view the solution**<font color=\"white\"> </font>\n"
      ]
    },
    {
      "cell_type": "markdown",
      "metadata": {
        "id": "kgyIRYTUiTDh"
      },
      "source": [
        "We can break the problem into smaller tasks:\n",
        "1. Find the maximum number in the list\n",
        "2. Find the index of that maximum number\n",
        "\n",
        "The built-in methods of `list` are useful here"
      ]
    },
    {
      "cell_type": "code",
      "execution_count": null,
      "metadata": {
        "colab": {
          "base_uri": "https://localhost:8080/"
        },
        "id": "0cIrB5--eco8",
        "outputId": "6b917056-dff6-46dc-91f4-8b4b835ffd75"
      },
      "outputs": [
        {
          "data": {
            "text/plain": [
              "19"
            ]
          },
          "execution_count": 98,
          "metadata": {},
          "output_type": "execute_result"
        }
      ],
      "source": [
        "# 1. Find the maximum number in the list\n",
        "max_n = max(numbers)    # let's call it max_n\n",
        "max_n"
      ]
    },
    {
      "cell_type": "code",
      "execution_count": null,
      "metadata": {
        "colab": {
          "base_uri": "https://localhost:8080/"
        },
        "id": "_5_gmYZYeceC",
        "outputId": "44d3085d-9e7e-4f30-b319-02b2c83beb0a"
      },
      "outputs": [
        {
          "data": {
            "text/plain": [
              "2"
            ]
          },
          "execution_count": 101,
          "metadata": {},
          "output_type": "execute_result"
        }
      ],
      "source": [
        "# 2. Find the index of \"max_n\"\n",
        "max_index = numbers.index(max_n)\n",
        "max_index"
      ]
    },
    {
      "cell_type": "code",
      "execution_count": null,
      "metadata": {
        "colab": {
          "base_uri": "https://localhost:8080/"
        },
        "id": "ZwBjqddJjwH-",
        "outputId": "3dc82190-3d26-4318-9169-da06544a9671"
      },
      "outputs": [
        {
          "data": {
            "text/plain": [
              "19"
            ]
          },
          "execution_count": 102,
          "metadata": {},
          "output_type": "execute_result"
        }
      ],
      "source": [
        "# We can verify the answer\n",
        "numbers[max_index]    # should return the maximum number in the list"
      ]
    },
    {
      "cell_type": "markdown",
      "metadata": {
        "id": "Uaf8X8q8AchE"
      },
      "source": [
        "Notes about list:\n",
        "* Lists cannot broadcast operations (i.e. some_list * 3.0)\n",
        "* NumPy arrays resolve this issue (next notebook)\n",
        "* Advanced: [How do I create a multidimensional list?](https://docs.python.org/3/faq/programming.html#faq-multidimensional-list)"
      ]
    },
    {
      "cell_type": "markdown",
      "metadata": {
        "id": "gFdAb72jiuyp"
      },
      "source": [
        "### <font color=\"lime\">**Tuple:** </font>Immutable Sequence Type"
      ]
    },
    {
      "cell_type": "markdown",
      "metadata": {
        "id": "Zsm42rdZXx5Z"
      },
      "source": [
        "#### Tuples are immutable sequences, typically used to store collections of heterogeneous data\n",
        "* Definition: sequence of comma-separated objects between parentheses `()`\n",
        "* Tuples are immutable (cannot change their values once assigned)\n",
        "* Tuples are useful to store an immutable sequence of data, such as X, Y coordinates  `coord = (712345.6, 2123456.7)` "
      ]
    },
    {
      "cell_type": "markdown",
      "metadata": {
        "id": "ZED6F-UPAaQr"
      },
      "source": [
        "#### <font color=\"cyan\">**Examples:**<font color=\"gray\"> Creating tuples</font></font>"
      ]
    },
    {
      "cell_type": "markdown",
      "metadata": {
        "id": "DjfYTGfdht3N"
      },
      "source": [
        "Tuples may be constructed in a number of ways:\n",
        "\n",
        "* Using a pair of parentheses to denote an empty tuple: `()`\n",
        "* Using a trailing comma for a singleton tuple: `a,` or `(a,)`\n",
        "* Separating items with commas: `a, b, c` or `(a, b, c)`\n",
        "* Using the *tuple()* built-in: `tuple()` or `tuple(iterable)`\n",
        "\n",
        "Note that it is actually the comma which makes a tuple, not the parentheses. The parentheses are optional, except in:\n",
        "1. The empty tuple case\n",
        "2. When they are needed to avoid syntactic ambiguity. For example, given `func()` is some defined function:\n",
        "  - where `func(a, b, c)` is a function call with three arguments\n",
        "  - while `func((a, b, c))` is a function call with a 3-element tuple as one argument."
      ]
    },
    {
      "cell_type": "code",
      "execution_count": null,
      "metadata": {
        "colab": {
          "base_uri": "https://localhost:8080/"
        },
        "id": "vT50-Kw-AzvE",
        "outputId": "555f1a32-dc67-4605-945b-5944c6b529b1"
      },
      "outputs": [
        {
          "data": {
            "text/plain": [
              "()"
            ]
          },
          "execution_count": 130,
          "metadata": {},
          "output_type": "execute_result"
        }
      ],
      "source": [
        "()                # empty tuple"
      ]
    },
    {
      "cell_type": "code",
      "execution_count": null,
      "metadata": {
        "colab": {
          "base_uri": "https://localhost:8080/"
        },
        "id": "F94ZAnl2A8TG",
        "outputId": "0fe7f365-98b1-4268-b091-b99f9bebebe1"
      },
      "outputs": [
        {
          "data": {
            "text/plain": [
              "(1, 2, 3)"
            ]
          },
          "execution_count": 131,
          "metadata": {},
          "output_type": "execute_result"
        }
      ],
      "source": [
        "t = (1, 2, 3)     # comma-separated with parentheses, equivalent to t = 1, 2, 3\n",
        "t"
      ]
    },
    {
      "cell_type": "code",
      "execution_count": null,
      "metadata": {
        "colab": {
          "base_uri": "https://localhost:8080/"
        },
        "id": "Wc030VYUCHo7",
        "outputId": "a79d39ad-1eae-4712-edaa-32a241e79e44"
      },
      "outputs": [
        {
          "data": {
            "text/plain": [
              "(1, 2, 3)"
            ]
          },
          "execution_count": 132,
          "metadata": {},
          "output_type": "execute_result"
        }
      ],
      "source": [
        "t = 1, 2, 3     # comma-separated without parentheses, equivalent to t = (1, 2, 3)\n",
        "t"
      ]
    },
    {
      "cell_type": "code",
      "execution_count": null,
      "metadata": {
        "colab": {
          "base_uri": "https://localhost:8080/"
        },
        "id": "aQBUtu6NBvxV",
        "outputId": "21bf3ab7-de41-40ac-e354-72ffe274a786"
      },
      "outputs": [
        {
          "data": {
            "text/plain": [
              "('a', 'b', 'c')"
            ]
          },
          "execution_count": 133,
          "metadata": {},
          "output_type": "execute_result"
        }
      ],
      "source": [
        "tuple('abc')      # from iterable"
      ]
    },
    {
      "cell_type": "markdown",
      "metadata": {
        "id": "Lf13th89C6ze"
      },
      "source": [
        "#### <font color=\"cyan\">**Examples:**<font color=\"gray\"> Operating on tuples"
      ]
    },
    {
      "cell_type": "markdown",
      "metadata": {
        "id": "7saA2I5jiQvF"
      },
      "source": [
        "The operations in the following table are supported by most sequence types, where:\n",
        "* `s` and `t` are sequences of the same type\n",
        "* `n`, `i`, `j`, and `k` are integers\n",
        "* `x` is an arbitrary object that meets any type imposed by `s`\n",
        "\n",
        "| Operation | Result|\n",
        "|----|----|\n",
        "| `x in s`  |`True` if an item of *s* is equal to *x*, else `False`|\n",
        "| `x not in s`  |`False` if an item of *s* is equal to *x*, else `True`|\n",
        "| `s + t`  |the concatenation of *s* and *t*|\n",
        "| `s * n` or `n * s`  |adding *s* to itself *n* times|\n",
        "| `s[i]` |*i*th item of *s*, origin 0|\n",
        "| `s[i:j]`  |slice of *s* from *i* to *j*|\n",
        "| `s[i:j:k]`  |slice of *s* from *i* to *j* with step *k*|\n",
        "| `len(s)`  |length of *s*  |\n",
        "| `min(x)`  |smallest item of *s*  |\n",
        "| `max(x)`  |largest item of *s*|\n",
        "| `s.index(x)`  |index of the first occurrence of *x* in *s*|\n",
        "| `s.count(x)`  |total number of occurrences of *x* in *s*|"
      ]
    },
    {
      "cell_type": "code",
      "execution_count": null,
      "metadata": {
        "colab": {
          "base_uri": "https://localhost:8080/"
        },
        "id": "cyoJzJc3J9y4",
        "outputId": "332bebce-bb50-4f94-cd7c-b81e07b0f43b"
      },
      "outputs": [
        {
          "data": {
            "text/plain": [
              "(123, 456, 'hello')"
            ]
          },
          "execution_count": 159,
          "metadata": {},
          "output_type": "execute_result"
        }
      ],
      "source": [
        "# Create a tuple with mixed data types\n",
        "t = 123, 456, 'hello'\n",
        "t"
      ]
    },
    {
      "cell_type": "code",
      "execution_count": null,
      "metadata": {
        "colab": {
          "base_uri": "https://localhost:8080/"
        },
        "id": "cfK4YdpRcmXN",
        "outputId": "62607759-2790-4843-f275-99ef0d990825"
      },
      "outputs": [
        {
          "data": {
            "text/plain": [
              "3"
            ]
          },
          "execution_count": 160,
          "metadata": {},
          "output_type": "execute_result"
        }
      ],
      "source": [
        "# get the number of elements in a tuple\n",
        "len(t)"
      ]
    },
    {
      "cell_type": "code",
      "execution_count": null,
      "metadata": {
        "colab": {
          "base_uri": "https://localhost:8080/"
        },
        "id": "uEHjl2mSZMGL",
        "outputId": "bf9c38c0-b0ba-4753-b0d9-487642da0035"
      },
      "outputs": [
        {
          "data": {
            "text/plain": [
              "True"
            ]
          },
          "execution_count": 161,
          "metadata": {},
          "output_type": "execute_result"
        }
      ],
      "source": [
        "# containment testing\n",
        "\"hello\" in t"
      ]
    },
    {
      "cell_type": "code",
      "execution_count": null,
      "metadata": {
        "colab": {
          "base_uri": "https://localhost:8080/"
        },
        "id": "eA0s7XgBMWKy",
        "outputId": "08352bca-40c9-4a3b-f16e-df8a4f664e8b"
      },
      "outputs": [
        {
          "data": {
            "text/plain": [
              "123"
            ]
          },
          "execution_count": 162,
          "metadata": {},
          "output_type": "execute_result"
        }
      ],
      "source": [
        "# indexing a tuple\n",
        "t[0]                # first element"
      ]
    },
    {
      "cell_type": "code",
      "execution_count": null,
      "metadata": {
        "colab": {
          "base_uri": "https://localhost:8080/"
        },
        "id": "XIZCNqfrjZHW",
        "outputId": "90eda969-ea33-4fd1-9c95-9bf6cc4887a5"
      },
      "outputs": [
        {
          "name": "stdout",
          "output_type": "stream",
          "text": [
            "123 456 hello\n"
          ]
        }
      ],
      "source": [
        "# You can unpack a tuple\n",
        "x, y, z = t         # this is called sequence unpacking\n",
        "print(x, y, z)"
      ]
    },
    {
      "cell_type": "markdown",
      "metadata": {
        "id": "ZMOwxgSXazFS"
      },
      "source": [
        "Note: When unpacking a sequence `t`, the number of variables on the LHS must equal the number of elements in the sequence on the RHS.\n",
        "\n",
        "--- "
      ]
    },
    {
      "cell_type": "code",
      "execution_count": null,
      "metadata": {
        "colab": {
          "base_uri": "https://localhost:8080/"
        },
        "id": "HZ0eKusgZwYo",
        "outputId": "a73babcc-8883-474d-c1b8-31a3624f0227"
      },
      "outputs": [
        {
          "data": {
            "text/plain": [
              "(123, 456, 'hello', 789, 'abc')"
            ]
          },
          "execution_count": 164,
          "metadata": {},
          "output_type": "execute_result"
        }
      ],
      "source": [
        "# concatenating (merging) tuples\n",
        "t + (789, 'abc')"
      ]
    },
    {
      "cell_type": "code",
      "execution_count": null,
      "metadata": {
        "colab": {
          "base_uri": "https://localhost:8080/"
        },
        "id": "TuVoosgIcUXx",
        "outputId": "ac583ce3-27fc-477d-ab3b-ee99dd297b55"
      },
      "outputs": [
        {
          "data": {
            "text/plain": [
              "(123, 456, 'hello', 123, 456, 'hello')"
            ]
          },
          "execution_count": 165,
          "metadata": {},
          "output_type": "execute_result"
        }
      ],
      "source": [
        "# repeat a tuple n times\n",
        "n = 2\n",
        "t * n"
      ]
    },
    {
      "cell_type": "markdown",
      "metadata": {
        "id": "_eRwHNUKZWSG"
      },
      "source": [
        "#### <font color=\"cyan\">**Examples:**<font color=\"gray\"> Nested Tuples (Tuple of tuples)"
      ]
    },
    {
      "cell_type": "code",
      "execution_count": null,
      "metadata": {
        "colab": {
          "base_uri": "https://localhost:8080/"
        },
        "id": "Az_T9H3UMgsy",
        "outputId": "f6935fd8-a0f0-41b9-8f2d-2c4f52d3fa38"
      },
      "outputs": [
        {
          "data": {
            "text/plain": [
              "((123, 456, 'hello'), (1, 2, 3))"
            ]
          },
          "execution_count": 166,
          "metadata": {},
          "output_type": "execute_result"
        }
      ],
      "source": [
        "# tuples can be nested: a tuple of tuples\n",
        "u = t, (1,2,3)\n",
        "u"
      ]
    },
    {
      "cell_type": "code",
      "execution_count": null,
      "metadata": {
        "colab": {
          "base_uri": "https://localhost:8080/",
          "height": 35
        },
        "id": "afJMzT7JNmrx",
        "outputId": "a0f5febf-4b2c-4e6f-d9f9-5b90487c1dba"
      },
      "outputs": [
        {
          "data": {
            "text/plain": [
              "'hello'"
            ]
          },
          "execution_count": 167,
          "metadata": {},
          "output_type": "execute_result"
        }
      ],
      "source": [
        "# nested indexing \n",
        "u[0][-1]          # get the last element of the first item"
      ]
    },
    {
      "cell_type": "code",
      "execution_count": null,
      "metadata": {
        "id": "F1K3KzMhMsE6"
      },
      "outputs": [],
      "source": [
        "# tuples are immutable\n",
        "# t[0] = 8888     # will raise an error, uncomment & run cell"
      ]
    },
    {
      "cell_type": "code",
      "execution_count": null,
      "metadata": {
        "colab": {
          "base_uri": "https://localhost:8080/"
        },
        "id": "0cZTqd9pM4zi",
        "outputId": "760bf328-2ded-4365-8a79-03441633eefe"
      },
      "outputs": [
        {
          "data": {
            "text/plain": [
              "(['a', 'b', 'c'], [1, 2, 3])"
            ]
          },
          "execution_count": 169,
          "metadata": {},
          "output_type": "execute_result"
        }
      ],
      "source": [
        "#  but they can contain mutable objects\n",
        "v = (['a', 'b', 'c'], [1, 2, 3])\n",
        "v"
      ]
    },
    {
      "cell_type": "code",
      "execution_count": null,
      "metadata": {
        "colab": {
          "base_uri": "https://localhost:8080/"
        },
        "id": "iGUdWpNOouAD",
        "outputId": "2e5b410d-43c2-4a3a-e746-132592d23f5e"
      },
      "outputs": [
        {
          "data": {
            "text/plain": [
              "(['a', 'b', 'c'], [1, 2, 4])"
            ]
          },
          "execution_count": 170,
          "metadata": {},
          "output_type": "execute_result"
        }
      ],
      "source": [
        "v[1][-1] = 4\n",
        "v"
      ]
    },
    {
      "cell_type": "markdown",
      "metadata": {
        "id": "GypEWZ0QNRj9"
      },
      "source": [
        "As you see, on output tuples are always enclosed in parentheses"
      ]
    },
    {
      "cell_type": "code",
      "execution_count": null,
      "metadata": {
        "colab": {
          "base_uri": "https://localhost:8080/"
        },
        "id": "4ipEk2K5PLOG",
        "outputId": "48414db5-1929-4345-9f47-62c9e1bb68ed"
      },
      "outputs": [
        {
          "data": {
            "text/plain": [
              "3"
            ]
          },
          "execution_count": 171,
          "metadata": {},
          "output_type": "execute_result"
        }
      ],
      "source": [
        "# find the number of elements in a tuple\n",
        "len(t)"
      ]
    },
    {
      "cell_type": "code",
      "execution_count": null,
      "metadata": {
        "colab": {
          "base_uri": "https://localhost:8080/"
        },
        "id": "UH9OBM6sRqII",
        "outputId": "1973c1fa-5fe9-47fb-b5ec-73a55a3e6bcd"
      },
      "outputs": [
        {
          "data": {
            "text/plain": [
              "True"
            ]
          },
          "execution_count": 172,
          "metadata": {},
          "output_type": "execute_result"
        }
      ],
      "source": [
        "# check if tuple contain 'hello'\n",
        "'hello' in t"
      ]
    },
    {
      "cell_type": "code",
      "execution_count": null,
      "metadata": {
        "colab": {
          "base_uri": "https://localhost:8080/"
        },
        "id": "CDfD3baJPSmG",
        "outputId": "c9ce73aa-b83f-47c6-b871-f083c47b1274"
      },
      "outputs": [
        {
          "data": {
            "text/plain": [
              "(123, 456, 'hello', 3, 4, 5)"
            ]
          },
          "execution_count": 173,
          "metadata": {},
          "output_type": "execute_result"
        }
      ],
      "source": [
        "# you can concatenate two tuples\n",
        "t + (3, 4, 5)"
      ]
    },
    {
      "cell_type": "code",
      "execution_count": null,
      "metadata": {
        "colab": {
          "base_uri": "https://localhost:8080/"
        },
        "id": "RcM4mh1jPq6n",
        "outputId": "87bbf0fe-d632-433e-a9de-cde0d36d4aa5"
      },
      "outputs": [
        {
          "data": {
            "text/plain": [
              "(123, 456, 'hello', 123, 456, 'hello')"
            ]
          },
          "execution_count": 174,
          "metadata": {},
          "output_type": "execute_result"
        }
      ],
      "source": [
        "# you can repeat a tuple\n",
        "t * 2"
      ]
    },
    {
      "cell_type": "markdown",
      "metadata": {
        "id": "L1zc5x23X6U5"
      },
      "source": [
        "#### <font color=\"magenta\">**Excercise:**<font color=\"gray\"> Print every other element of `t`, reversed: </font>\n",
        "\n",
        "```\n",
        "t = ('n', 1, 'o', 2, 'h', 3, 't', 4, 'y', 5, 'P')\n",
        "```"
      ]
    },
    {
      "cell_type": "code",
      "execution_count": null,
      "metadata": {
        "id": "698cv-VwTUkS",
        "outputId": "a960e349-02cc-4653-9e43-b2862102b5d2"
      },
      "outputs": [
        {
          "data": {
            "text/plain": [
              "('n', 1, 'o', 2, 'h', 3, 't', 4, 'y', 5, 'P')"
            ]
          },
          "execution_count": 182,
          "metadata": {},
          "output_type": "execute_result"
        }
      ],
      "source": [
        "t = ('n', 1, 'o', 2, 'h', 3, 't', 4, 'y', 5, 'P')\n",
        "t"
      ]
    },
    {
      "cell_type": "code",
      "execution_count": null,
      "metadata": {
        "id": "QcU-a0LkTVRh"
      },
      "outputs": [],
      "source": [
        "# Write you solution here:\n"
      ]
    },
    {
      "cell_type": "markdown",
      "metadata": {
        "id": "IH3c77EoTbW1"
      },
      "source": [
        "##### <font color=\"gray\">**Click here to view the solution**<font color=\"white\"> </font>\n"
      ]
    },
    {
      "cell_type": "code",
      "execution_count": null,
      "metadata": {
        "id": "ECRswPWTThaR",
        "outputId": "5ca0524a-a3bc-4789-b84e-a1d35a465553"
      },
      "outputs": [
        {
          "name": "stdout",
          "output_type": "stream",
          "text": [
            "('P', 'y', 't', 'h', 'o', 'n')\n"
          ]
        }
      ],
      "source": [
        "# Solution:\n",
        "print(t[::-2])"
      ]
    },
    {
      "cell_type": "code",
      "execution_count": null,
      "metadata": {
        "id": "HK4RYN_dTh3-"
      },
      "outputs": [],
      "source": []
    },
    {
      "cell_type": "code",
      "execution_count": null,
      "metadata": {
        "id": "8rXuS4h2Thrr"
      },
      "outputs": [],
      "source": []
    },
    {
      "cell_type": "markdown",
      "source": [
        "### <font color=\"lime\">**Range:** <font color=\"white\">Immutable Sequence Type</font>"
      ],
      "metadata": {
        "id": "8ke_iGYjVMBV"
      }
    },
    {
      "cell_type": "markdown",
      "source": [
        "Ranges are immutable sequences, typically used to create a collection of sequential numbers on the fly\n",
        "\n",
        "* Definition: sequence of linearly-spaced numbers\n",
        "* Usage: used to create a collection of sequential numbers on the fly\n",
        "* Creation: use the built-in function `range()`\n",
        "    - `range(stop)`: create range from `0` to `stop`, exclusive\n",
        "    - `range(start, stop, step)`: create range from `start` to `stop` stepping every `step`\n",
        "* Ranges are immutable (cannot change their values once assigned)\n",
        "\n",
        "Notes:\n",
        "* if `start` is omiitted it defaults to `0`\n",
        "* if `step` is ommitted it defaults to `1`"
      ],
      "metadata": {
        "id": "kAOtRA4SVMEa"
      }
    },
    {
      "cell_type": "code",
      "execution_count": null,
      "metadata": {
        "colab": {
          "base_uri": "https://localhost:8080/"
        },
        "id": "_x6SKfWH7G7Y",
        "outputId": "d0d4c489-73ba-46a5-dd5e-414d4f757831"
      },
      "outputs": [
        {
          "data": {
            "text/plain": [
              "range(0, 3)"
            ]
          },
          "execution_count": 210,
          "metadata": {},
          "output_type": "execute_result"
        }
      ],
      "source": [
        "# Example: range (stop)\n",
        "range_1 = range(3) # range from 0 to 3\n",
        "range_1"
      ]
    },
    {
      "cell_type": "code",
      "execution_count": null,
      "metadata": {
        "id": "sdsKSiVRHSf7",
        "outputId": "2ee528aa-5f05-42f7-d853-6439cf7c4145"
      },
      "outputs": [
        {
          "data": {
            "text/plain": [
              "range(-10, 10, 2)"
            ]
          },
          "execution_count": 211,
          "metadata": {},
          "output_type": "execute_result"
        }
      ],
      "source": [
        "# Example: range (start, stop, step)\n",
        "range_2 = range(-10, 10, 2) # range from -10 to 10 stepping every 2\n",
        "range_2"
      ]
    },
    {
      "cell_type": "markdown",
      "metadata": {
        "id": "1dpyIYcYHSf7"
      },
      "source": [
        "Note: `range()` is a type of its own, if you want to view its contents, you can covert it into a list using the built-in function `list()`, like so:"
      ]
    },
    {
      "cell_type": "code",
      "execution_count": null,
      "metadata": {
        "colab": {
          "base_uri": "https://localhost:8080/"
        },
        "id": "-TD8E4CB6T_o",
        "outputId": "298dffeb-2098-435c-d00d-4cb8c35f593f"
      },
      "outputs": [
        {
          "data": {
            "text/plain": [
              "[0, 1, 2]"
            ]
          },
          "execution_count": 212,
          "metadata": {},
          "output_type": "execute_result"
        }
      ],
      "source": [
        "list(range_1) # you can convert it to a list"
      ]
    },
    {
      "cell_type": "code",
      "execution_count": null,
      "metadata": {
        "id": "1O2akh29HSf8",
        "outputId": "e0f3c7c3-aa2f-4d8e-ca9b-8801d1685980"
      },
      "outputs": [
        {
          "data": {
            "text/plain": [
              "[-10, -8, -6, -4, -2, 0, 2, 4, 6, 8]"
            ]
          },
          "execution_count": 213,
          "metadata": {},
          "output_type": "execute_result"
        }
      ],
      "source": [
        "list(range_2)"
      ]
    },
    {
      "cell_type": "code",
      "source": [],
      "metadata": {
        "id": "pKZ73U9WVVFv"
      },
      "execution_count": null,
      "outputs": []
    },
    {
      "cell_type": "code",
      "source": [],
      "metadata": {
        "id": "-mjdwbZjVVCV"
      },
      "execution_count": null,
      "outputs": []
    },
    {
      "cell_type": "code",
      "source": [],
      "metadata": {
        "id": "cA6RrOCGVU_J"
      },
      "execution_count": null,
      "outputs": []
    },
    {
      "cell_type": "markdown",
      "metadata": {
        "id": "zY8QSktbC2zD"
      },
      "source": [
        "---\n",
        "## <font color=\"orange\">**3.2. Mapping Types:** <font color=\"white\">dict</font>"
      ]
    },
    {
      "cell_type": "markdown",
      "metadata": {
        "id": "i9BDMyMNX6sf"
      },
      "source": [
        "Python supports only one standard mapping type, the *dictionary*:\n",
        "* `dict()` - mutable\n",
        "\n",
        "Note:\n",
        "* A mapping object maps [hashable](https://docs.python.org/3/glossary.html#term-hashable) values to arbitrary objects\n",
        "* Mappings are mutable objects"
      ]
    },
    {
      "cell_type": "markdown",
      "metadata": {
        "id": "azzw-En4XnAH"
      },
      "source": [
        "### <font color=\"lime\">**Dictionary:** </font>Mutable Mapping Type"
      ]
    },
    {
      "cell_type": "markdown",
      "metadata": {
        "id": "8MQ4qOyeESde"
      },
      "source": [
        "#### Dictionaries:\n",
        "\n",
        "* Definition: collection of comma-separated `key: value` pairs, with the requirement that the keys are unique.\n",
        "* Think of a `dict` as a phonebook, where every house (key) may have a single phone number (value).\n",
        "* Unlike sequences, which are indexed by a range of numbers, dictionaries are indexed by keys, strings and numbers can always be keys.\n",
        "* Values that are not hashable, that is, values containing lists, dictionaries or other mutable types may not be used as keys."
      ]
    },
    {
      "cell_type": "markdown",
      "metadata": {
        "id": "tPxsc_agHSfl"
      },
      "source": [
        "#### <font color=\"cyan\">**Examples:**</font> Creating dictionaries"
      ]
    },
    {
      "cell_type": "markdown",
      "metadata": {
        "id": "gwDVAi4CaRzq"
      },
      "source": [
        "Dictionaries may be constructed in several ways:\n",
        "\n",
        "* Use a pair of curly braces to create an empty dictionary: `{}`\n",
        "* Use a comma-separated list of `key: value` pairs within curly braces:\n",
        "  - `{'Adam':1001, 'Bob':1002}`\n",
        "* Use the type constructor: \n",
        "  - `dict()`\n",
        "  - `dict([('foo', 100), ('bar', 200)])`\n",
        "  - `dict(foo=100, bar=200)`\n",
        "* Use a dict comprehension: `{x: x ** 2 for x in range(10)}`\n",
        "\n",
        "\n",
        "\n",
        "\n",
        "\n"
      ]
    },
    {
      "cell_type": "code",
      "execution_count": null,
      "metadata": {
        "colab": {
          "base_uri": "https://localhost:8080/"
        },
        "id": "KzEdv8lub5dX",
        "outputId": "c9776fe2-8735-4364-dc22-2c7d908a1bc1"
      },
      "outputs": [
        {
          "data": {
            "text/plain": [
              "{}"
            ]
          },
          "execution_count": 121,
          "metadata": {},
          "output_type": "execute_result"
        }
      ],
      "source": [
        "{}                                # empty dict"
      ]
    },
    {
      "cell_type": "code",
      "execution_count": null,
      "metadata": {
        "colab": {
          "base_uri": "https://localhost:8080/"
        },
        "id": "JUcj9Bcfb5Z8",
        "outputId": "7747f41f-5180-4050-9d8f-3e033740e7b7"
      },
      "outputs": [
        {
          "output_type": "execute_result",
          "data": {
            "text/plain": [
              "{'Adam': 1001, 'Bob': 1002}"
            ]
          },
          "metadata": {},
          "execution_count": 2
        }
      ],
      "source": [
        "{'Adam':1001, 'Bob':1002}        # comma-separated key:value pairs"
      ]
    },
    {
      "cell_type": "code",
      "execution_count": null,
      "metadata": {
        "colab": {
          "base_uri": "https://localhost:8080/"
        },
        "id": "v5MpIRBdb5Wd",
        "outputId": "983a61b2-639a-42c5-b2e0-99ef2822ed8d"
      },
      "outputs": [
        {
          "data": {
            "text/plain": [
              "{'bar': 200, 'foo': 100}"
            ]
          },
          "execution_count": 125,
          "metadata": {},
          "output_type": "execute_result"
        }
      ],
      "source": [
        "# from iterable\n",
        "mapping_list = [('foo', 100), ('bar', 200)]   # 1. create list of mappings\n",
        "dict(mapping_list)                            # 2. use type constructor"
      ]
    },
    {
      "cell_type": "code",
      "execution_count": null,
      "metadata": {
        "id": "KF3RhZ67b5Tl",
        "colab": {
          "base_uri": "https://localhost:8080/"
        },
        "outputId": "233bd2d7-3344-4143-e9c9-96eadf5a0b59"
      },
      "outputs": [
        {
          "output_type": "execute_result",
          "data": {
            "text/plain": [
              "{0: 0, 1: 2, 2: 4, 3: 6, 4: 8, 5: 10, 6: 12, 7: 14, 8: 16, 9: 18}"
            ]
          },
          "metadata": {},
          "execution_count": 1
        }
      ],
      "source": [
        "{x: x * 2 for x in range(10)}      # dict comprehension (Advanced)"
      ]
    },
    {
      "cell_type": "markdown",
      "metadata": {
        "id": "KmRsd1hTHSfm"
      },
      "source": [
        "#### <font color=\"cyan\">**Examples:**</font> Operating on dictionaries"
      ]
    },
    {
      "cell_type": "markdown",
      "metadata": {
        "id": "rrMDAtXsfKaf"
      },
      "source": [
        "These are the operations that dictionaries support, where *d* denotes a `dict`:\n",
        "\n",
        "| Operation | Result|\n",
        "|----|----|\n",
        "| `list(d)`  |return a list of keys of *d*|\n",
        "| `len(d)`  |return the number of items in *d*|\n",
        "| `d[key]`  |return the item of *d* with key *key*|\n",
        "| `d[key] = value`  |set `d[key]` to *value*|\n",
        "| `del d[key]`  |remove `d[key]` from *d*|\n",
        "| `key in d` |return `True`, if *d* has a key *key*, else `False`|\n",
        "| `key not in d` |equivalent to `not key in d`|\n",
        "| `d.popitem()`  |remove and return a `(key, vlaue)` pair from *d*|\n",
        "| `d.keys(x)`  |Return a view of the *d*’s keys|\n",
        "| `d.values(x)`  |Return a view of the *d*’s values|\n",
        "| `d.items(x)`  |Return a view of the *d*’s items|\n",
        "\n",
        "Note: A dictionary's `item` is a single pair of `(key: value)`"
      ]
    },
    {
      "cell_type": "code",
      "execution_count": null,
      "metadata": {
        "colab": {
          "base_uri": "https://localhost:8080/"
        },
        "id": "WhxyQIjdDSn0",
        "outputId": "d21a0585-1211-4cae-de30-02d50bdb92b6"
      },
      "outputs": [
        {
          "data": {
            "text/plain": [
              "{'four': 4, 'one': 1, 'three': 3, 'two': 2}"
            ]
          },
          "execution_count": 143,
          "metadata": {},
          "output_type": "execute_result"
        }
      ],
      "source": [
        "# Example: Declaring a dictionary\n",
        "d = {\"one\": 1, \"two\": 2, \"three\": 3, \"four\": 4}\n",
        "d"
      ]
    },
    {
      "cell_type": "markdown",
      "metadata": {
        "id": "xZIbCnRFsHBd"
      },
      "source": [
        "Note: Dictionaries preserve insertion order"
      ]
    },
    {
      "cell_type": "code",
      "execution_count": null,
      "metadata": {
        "colab": {
          "base_uri": "https://localhost:8080/"
        },
        "id": "gSiJaqNneP2_",
        "outputId": "db89801f-418b-4461-992a-894712cb931a"
      },
      "outputs": [
        {
          "data": {
            "text/plain": [
              "['one', 'two', 'three', 'four']"
            ]
          },
          "execution_count": 139,
          "metadata": {},
          "output_type": "execute_result"
        }
      ],
      "source": [
        "# list dict keys\n",
        "list(d)"
      ]
    },
    {
      "cell_type": "code",
      "execution_count": null,
      "metadata": {
        "colab": {
          "base_uri": "https://localhost:8080/"
        },
        "id": "Zq6AhVJyri5y",
        "outputId": "bebff1a2-fb2e-40c5-9ff4-2ad900960c25"
      },
      "outputs": [
        {
          "data": {
            "text/plain": [
              "[1, 2, 3, 4]"
            ]
          },
          "execution_count": 140,
          "metadata": {},
          "output_type": "execute_result"
        }
      ],
      "source": [
        "# list dict values\n",
        "list(d.values())"
      ]
    },
    {
      "cell_type": "code",
      "execution_count": null,
      "metadata": {
        "colab": {
          "base_uri": "https://localhost:8080/"
        },
        "id": "c2QbP1I9rt3Z",
        "outputId": "097969d3-e052-4b75-bc92-60d4e917405f"
      },
      "outputs": [
        {
          "data": {
            "text/plain": [
              "[('one', 1), ('two', 2), ('three', 3), ('four', 4)]"
            ]
          },
          "execution_count": 141,
          "metadata": {},
          "output_type": "execute_result"
        }
      ],
      "source": [
        "# list dict items\n",
        "list(d.items())"
      ]
    },
    {
      "cell_type": "code",
      "execution_count": null,
      "metadata": {
        "colab": {
          "base_uri": "https://localhost:8080/"
        },
        "id": "MDEAMG-WePz_",
        "outputId": "40f29054-374b-4d4e-c4b2-ec27e5552530"
      },
      "outputs": [
        {
          "data": {
            "text/plain": [
              "{'four': 4, 'one': 1111, 'three': 3, 'two': 2}"
            ]
          },
          "execution_count": 145,
          "metadata": {},
          "output_type": "execute_result"
        }
      ],
      "source": [
        "# update a value\n",
        "d[\"one\"] = 1111\n",
        "d"
      ]
    },
    {
      "cell_type": "markdown",
      "metadata": {
        "id": "0Qi4TT9cftGx"
      },
      "source": [
        "If a key occurs more than once, the last value for that key becomes the corresponding value in the new dictionary."
      ]
    },
    {
      "cell_type": "code",
      "execution_count": null,
      "metadata": {
        "id": "aRVeBy8u5bAp"
      },
      "outputs": [],
      "source": []
    },
    {
      "cell_type": "markdown",
      "metadata": {
        "id": "LF5oaCvDdcbj"
      },
      "source": [
        "#### <font color=\"magenta\">**Excercise:**</font> Update the team members roster\n",
        "\n",
        "Your current team member roster is not up to date, update it by taking the following actions:\n",
        "1. Changes Chris's ID from `3` to `1003`\n",
        "2. Remove Frank from roster, as he recently resigned\n",
        "3. print the number of members, making sure it is 5\n",
        "\n",
        "```\n",
        "team = {\n",
        "    'Adam':1001, \n",
        "    'Bob':1002, \n",
        "    'Chris':3, \n",
        "    'Denice':1004,\n",
        "    'Emily':1005, \n",
        "    'Frank':1006\n",
        "    }\n",
        "```\n",
        "\n"
      ]
    },
    {
      "cell_type": "code",
      "execution_count": null,
      "metadata": {
        "id": "0jFmtfCW5a9b",
        "colab": {
          "base_uri": "https://localhost:8080/"
        },
        "outputId": "1f4a3a83-d37f-4420-f300-bb777822b2bb"
      },
      "outputs": [
        {
          "output_type": "execute_result",
          "data": {
            "text/plain": [
              "{'Adam': 1001,\n",
              " 'Bob': 1002,\n",
              " 'Chris': 3,\n",
              " 'Denice': 1004,\n",
              " 'Emily': 1005,\n",
              " 'Frank': 1006}"
            ]
          },
          "metadata": {},
          "execution_count": 8
        }
      ],
      "source": [
        "# Dictionary of employees names and IDs\n",
        "team = {\n",
        "    'Adam':1001, \n",
        "    'Bob':1002, \n",
        "    'Chris':3, \n",
        "    'Denice':1004,\n",
        "    'Emily':1005, \n",
        "    'Frank':1006\n",
        "    }\n",
        "\n",
        "team"
      ]
    },
    {
      "cell_type": "code",
      "source": [
        "# Type your solution here\n"
      ],
      "metadata": {
        "id": "-2pepihZF0ip"
      },
      "execution_count": null,
      "outputs": []
    },
    {
      "cell_type": "markdown",
      "metadata": {
        "id": "NAVJK1RiF1ix"
      },
      "source": [
        "##### <font color=\"gray\">**Click here to view the solution** </font>\n"
      ]
    },
    {
      "cell_type": "code",
      "execution_count": null,
      "metadata": {
        "id": "d4CykSVQ5a0A",
        "colab": {
          "base_uri": "https://localhost:8080/"
        },
        "outputId": "a91409c5-0327-4991-badb-30c083ab24ec"
      },
      "outputs": [
        {
          "output_type": "stream",
          "name": "stdout",
          "text": [
            "The number of employees is:  5\n"
          ]
        },
        {
          "output_type": "execute_result",
          "data": {
            "text/plain": [
              "{'Adam': 1001, 'Bob': 1002, 'Chris': 1003, 'Denice': 1004, 'Emily': 1005}"
            ]
          },
          "metadata": {},
          "execution_count": 10
        }
      ],
      "source": [
        "# 1. Fix Chris's ID number \n",
        "team['Chris'] = 1003\n",
        "\n",
        "# 2. Remove Frank from roster\n",
        "del team['Frank']\n",
        "\n",
        "# 3. Print the current number of members\n",
        "print('The number of employees is: ', len(team))\n",
        "\n",
        "team"
      ]
    },
    {
      "cell_type": "markdown",
      "metadata": {
        "id": "AkHIQ1_at723"
      },
      "source": [
        "---\n",
        "# <a>**4. Built-in Functions**</a>"
      ]
    },
    {
      "cell_type": "markdown",
      "metadata": {
        "id": "r1IGWdQm0UYv"
      },
      "source": [
        "## What is a function?\n",
        "Some code that is grouped together, given a name, and executed whenever it is \"called\". Functions are denoted by parentheses `()`. Calling a function looks like this `function(argument)`, where `function` is the name of the name of the function, and `argument` in an input parameter to the function.\n",
        "\n",
        "## What are built-in functions?\n",
        "Pre-defined functions that are included in the Python standard library and available in the namespace\n",
        "\n",
        "## Note:\n",
        "* A function should be consice and perform one main task\n",
        "good functions should be:\n",
        "well documented ([docstring](https://www.python.org/dev/peps/pep-0257/#id4))"
      ]
    },
    {
      "cell_type": "markdown",
      "metadata": {
        "id": "wbZfOhsfuXx8"
      },
      "source": [
        "---\n",
        "## <font color=\"orange\">4.1. The `print(x)` Function:</font>\n",
        "\n",
        "* Action: print *x*\n",
        "* Perhaps the most commonly used built-in function in python"
      ]
    },
    {
      "cell_type": "code",
      "execution_count": null,
      "metadata": {
        "colab": {
          "base_uri": "https://localhost:8080/"
        },
        "id": "g8NdOiQXhL24",
        "outputId": "386d4331-0b79-47a9-8ec5-f7215a60e0c3"
      },
      "outputs": [
        {
          "name": "stdout",
          "output_type": "stream",
          "text": [
            "Hello world!!!\n"
          ]
        }
      ],
      "source": [
        "print('Hello world!!!')"
      ]
    },
    {
      "cell_type": "code",
      "execution_count": null,
      "metadata": {
        "colab": {
          "base_uri": "https://localhost:8080/"
        },
        "id": "glvvUo5GhL9D",
        "outputId": "8dcadf0d-36c6-4267-9236-30aa5e4c092b"
      },
      "outputs": [
        {
          "name": "stdout",
          "output_type": "stream",
          "text": [
            "Hello world!!!Hello world!!!Hello world!!!\n"
          ]
        }
      ],
      "source": [
        "# print greet multiple times\n",
        "greet = 'Hello world!!!'\n",
        "print(greet * 3)"
      ]
    },
    {
      "cell_type": "code",
      "execution_count": null,
      "metadata": {
        "colab": {
          "base_uri": "https://localhost:8080/"
        },
        "id": "6kesg94xhMAT",
        "outputId": "bb1618c4-713c-49d0-8a22-72cb841fbed6"
      },
      "outputs": [
        {
          "name": "stdout",
          "output_type": "stream",
          "text": [
            "Hello world!!! 4 times\n"
          ]
        }
      ],
      "source": [
        "# print multiple objects separated by comma\n",
        "print(greet, 4, 'times')"
      ]
    },
    {
      "cell_type": "markdown",
      "metadata": {
        "id": "wjQjFYe6FCl6"
      },
      "source": [
        "### Print with style: You can format variables to display them nicely"
      ]
    },
    {
      "cell_type": "code",
      "execution_count": null,
      "metadata": {
        "colab": {
          "base_uri": "https://localhost:8080/"
        },
        "id": "rKMDVroeFXg-",
        "outputId": "98f6f59f-96df-49a6-cf13-89ac8fe372f9"
      },
      "outputs": [
        {
          "name": "stdout",
          "output_type": "stream",
          "text": [
            "40.12345 2.565656\n"
          ]
        }
      ],
      "source": [
        "dt = 40.12345\n",
        "rhob = 2.565656\n",
        "print(dt, rhob)                     # raw printing"
      ]
    },
    {
      "cell_type": "code",
      "execution_count": null,
      "metadata": {
        "colab": {
          "base_uri": "https://localhost:8080/"
        },
        "id": "ThOF_V52FXW3",
        "outputId": "6a48df62-5926-4662-835a-4e64b8dedf7a"
      },
      "outputs": [
        {
          "name": "stdout",
          "output_type": "stream",
          "text": [
            "DT= 40.12345  RHOB= 2.565656\n"
          ]
        }
      ],
      "source": [
        "print(\"DT=\",dt,\" RHOB=\", rhob)   # print comma-sparated objects"
      ]
    },
    {
      "cell_type": "code",
      "execution_count": null,
      "metadata": {
        "colab": {
          "base_uri": "https://localhost:8080/"
        },
        "id": "E6G_Idl1GX0B",
        "outputId": "a0f8ed38-5b40-4de3-dc45-6893d4470c7b"
      },
      "outputs": [
        {
          "name": "stdout",
          "output_type": "stream",
          "text": [
            "DT= [40.12] us/ft, RHOB= [2.57] g/cc\n"
          ]
        }
      ],
      "source": [
        "# print as f-string\n",
        "print(f\"DT= [{dt:5.2f}] us/ft, RHOB= [{rhob:4.2f}] g/cc\")   "
      ]
    },
    {
      "cell_type": "markdown",
      "metadata": {
        "id": "44mfIES73DkF"
      },
      "source": [
        "#### How to print f-strings: \n",
        "* Adding `f` before `\"quotes\"` indicates a *formatted string*\n",
        "* Use `{curly braces}` to insert variable into string\n",
        "* Use colon `:` to specify formatting\n"
      ]
    },
    {
      "cell_type": "markdown",
      "metadata": {
        "id": "Hsp0Ha3I2BFT"
      },
      "source": [
        "![fstring.png](data:image/png;base64,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)"
      ]
    },
    {
      "cell_type": "markdown",
      "metadata": {
        "id": "18vae2Bvygan"
      },
      "source": [
        "---\n",
        "## <font color=\"orange\">4.2. The `type(x)` Function:</font>\n",
        "\n",
        "* Action: returns the type of x"
      ]
    },
    {
      "cell_type": "code",
      "execution_count": null,
      "metadata": {
        "colab": {
          "base_uri": "https://localhost:8080/"
        },
        "id": "2wOGZDwy1Jja",
        "outputId": "77e2aefe-bb4f-4c53-f728-2745ac5bd2d8"
      },
      "outputs": [
        {
          "data": {
            "text/plain": [
              "str"
            ]
          },
          "execution_count": 1,
          "metadata": {},
          "output_type": "execute_result"
        }
      ],
      "source": [
        "type('hello')         # string"
      ]
    },
    {
      "cell_type": "code",
      "execution_count": null,
      "metadata": {
        "colab": {
          "base_uri": "https://localhost:8080/"
        },
        "id": "UzBHaEAe1ctK",
        "outputId": "d69542bc-e804-45b3-eccb-9f9ea9250041"
      },
      "outputs": [
        {
          "data": {
            "text/plain": [
              "int"
            ]
          },
          "execution_count": 3,
          "metadata": {},
          "output_type": "execute_result"
        }
      ],
      "source": [
        "x = 2\n",
        "type(x)               # integer"
      ]
    },
    {
      "cell_type": "code",
      "execution_count": null,
      "metadata": {
        "colab": {
          "base_uri": "https://localhost:8080/"
        },
        "id": "UHhfvt8b1heh",
        "outputId": "f67ac034-bca2-4812-b2dd-5b58dab4596f"
      },
      "outputs": [
        {
          "data": {
            "text/plain": [
              "float"
            ]
          },
          "execution_count": 4,
          "metadata": {},
          "output_type": "execute_result"
        }
      ],
      "source": [
        "type(2.0)             # float"
      ]
    },
    {
      "cell_type": "code",
      "execution_count": null,
      "metadata": {
        "colab": {
          "base_uri": "https://localhost:8080/"
        },
        "id": "ndM3jTVZfAvi",
        "outputId": "a6125928-4633-4958-bc32-9a6135e643c8"
      },
      "outputs": [
        {
          "data": {
            "text/plain": [
              "list"
            ]
          },
          "execution_count": 5,
          "metadata": {},
          "output_type": "execute_result"
        }
      ],
      "source": [
        "type(['a','b','c'])   # list"
      ]
    },
    {
      "cell_type": "markdown",
      "metadata": {
        "id": "4c6x0QaFygJB"
      },
      "source": [
        "---\n",
        "## <font color=\"orange\">4.3. The `len(x)` Function:</font>\n",
        "\n",
        "* Action: returns the length (number of elements) of x\n",
        "* If x is a 2D object, `len(x)` returns the length along the first dimension"
      ]
    },
    {
      "cell_type": "code",
      "execution_count": null,
      "metadata": {
        "colab": {
          "base_uri": "https://localhost:8080/"
        },
        "id": "DqWEiwuFy5_h",
        "outputId": "71418560-ebac-40ea-ded8-d65714e737ce"
      },
      "outputs": [
        {
          "data": {
            "text/plain": [
              "5"
            ]
          },
          "execution_count": 6,
          "metadata": {},
          "output_type": "execute_result"
        }
      ],
      "source": [
        "len('hello') "
      ]
    },
    {
      "cell_type": "code",
      "execution_count": null,
      "metadata": {
        "colab": {
          "base_uri": "https://localhost:8080/"
        },
        "id": "VaueYVhwgp2J",
        "outputId": "c7cd3613-d0d5-495c-f417-00e37a006d25"
      },
      "outputs": [
        {
          "name": "stdout",
          "output_type": "stream",
          "text": [
            "This is len(x):  2\n",
            "This is x: \n",
            " [[ 0  1  2  3  4  5]\n",
            " [ 6  7  8  9 10 11]]\n"
          ]
        }
      ],
      "source": [
        "# move to notebook #2\n",
        "\n",
        "import numpy as np\n",
        "x = np.arange(12).reshape(2,6)\n",
        "print('This is len(x): ', len(x))\n",
        "print('This is x: \\n',x)            # \\n means 'new line'"
      ]
    },
    {
      "cell_type": "markdown",
      "metadata": {
        "id": "qCwXKrwlvkf_"
      },
      "source": [
        "---\n",
        "## <font color=\"orange\">4.4. The `help(x)` Function:</font>\n",
        "* Action: display documentation of object x"
      ]
    },
    {
      "cell_type": "code",
      "execution_count": null,
      "metadata": {
        "colab": {
          "base_uri": "https://localhost:8080/"
        },
        "collapsed": true,
        "id": "Qg22fA-VvjsX",
        "outputId": "be931880-94d8-4cef-cfdf-96ff49ab1ba5"
      },
      "outputs": [
        {
          "name": "stdout",
          "output_type": "stream",
          "text": [
            "Help on int object:\n",
            "\n",
            "class int(object)\n",
            " |  int([x]) -> integer\n",
            " |  int(x, base=10) -> integer\n",
            " |  \n",
            " |  Convert a number or string to an integer, or return 0 if no arguments\n",
            " |  are given.  If x is a number, return x.__int__().  For floating point\n",
            " |  numbers, this truncates towards zero.\n",
            " |  \n",
            " |  If x is not a number or if base is given, then x must be a string,\n",
            " |  bytes, or bytearray instance representing an integer literal in the\n",
            " |  given base.  The literal can be preceded by '+' or '-' and be surrounded\n",
            " |  by whitespace.  The base defaults to 10.  Valid bases are 0 and 2-36.\n",
            " |  Base 0 means to interpret the base from the string as an integer literal.\n",
            " |  >>> int('0b100', base=0)\n",
            " |  4\n",
            " |  \n",
            " |  Methods defined here:\n",
            " |  \n",
            " |  __abs__(self, /)\n",
            " |      abs(self)\n",
            " |  \n",
            " |  __add__(self, value, /)\n",
            " |      Return self+value.\n",
            " |  \n",
            " |  __and__(self, value, /)\n",
            " |      Return self&value.\n",
            " |  \n",
            " |  __bool__(self, /)\n",
            " |      self != 0\n",
            " |  \n",
            " |  __ceil__(...)\n",
            " |      Ceiling of an Integral returns itself.\n",
            " |  \n",
            " |  __divmod__(self, value, /)\n",
            " |      Return divmod(self, value).\n",
            " |  \n",
            " |  __eq__(self, value, /)\n",
            " |      Return self==value.\n",
            " |  \n",
            " |  __float__(self, /)\n",
            " |      float(self)\n",
            " |  \n",
            " |  __floor__(...)\n",
            " |      Flooring an Integral returns itself.\n",
            " |  \n",
            " |  __floordiv__(self, value, /)\n",
            " |      Return self//value.\n",
            " |  \n",
            " |  __format__(self, format_spec, /)\n",
            " |      Default object formatter.\n",
            " |  \n",
            " |  __ge__(self, value, /)\n",
            " |      Return self>=value.\n",
            " |  \n",
            " |  __getattribute__(self, name, /)\n",
            " |      Return getattr(self, name).\n",
            " |  \n",
            " |  __getnewargs__(self, /)\n",
            " |  \n",
            " |  __gt__(self, value, /)\n",
            " |      Return self>value.\n",
            " |  \n",
            " |  __hash__(self, /)\n",
            " |      Return hash(self).\n",
            " |  \n",
            " |  __index__(self, /)\n",
            " |      Return self converted to an integer, if self is suitable for use as an index into a list.\n",
            " |  \n",
            " |  __int__(self, /)\n",
            " |      int(self)\n",
            " |  \n",
            " |  __invert__(self, /)\n",
            " |      ~self\n",
            " |  \n",
            " |  __le__(self, value, /)\n",
            " |      Return self<=value.\n",
            " |  \n",
            " |  __lshift__(self, value, /)\n",
            " |      Return self<<value.\n",
            " |  \n",
            " |  __lt__(self, value, /)\n",
            " |      Return self<value.\n",
            " |  \n",
            " |  __mod__(self, value, /)\n",
            " |      Return self%value.\n",
            " |  \n",
            " |  __mul__(self, value, /)\n",
            " |      Return self*value.\n",
            " |  \n",
            " |  __ne__(self, value, /)\n",
            " |      Return self!=value.\n",
            " |  \n",
            " |  __neg__(self, /)\n",
            " |      -self\n",
            " |  \n",
            " |  __or__(self, value, /)\n",
            " |      Return self|value.\n",
            " |  \n",
            " |  __pos__(self, /)\n",
            " |      +self\n",
            " |  \n",
            " |  __pow__(self, value, mod=None, /)\n",
            " |      Return pow(self, value, mod).\n",
            " |  \n",
            " |  __radd__(self, value, /)\n",
            " |      Return value+self.\n",
            " |  \n",
            " |  __rand__(self, value, /)\n",
            " |      Return value&self.\n",
            " |  \n",
            " |  __rdivmod__(self, value, /)\n",
            " |      Return divmod(value, self).\n",
            " |  \n",
            " |  __repr__(self, /)\n",
            " |      Return repr(self).\n",
            " |  \n",
            " |  __rfloordiv__(self, value, /)\n",
            " |      Return value//self.\n",
            " |  \n",
            " |  __rlshift__(self, value, /)\n",
            " |      Return value<<self.\n",
            " |  \n",
            " |  __rmod__(self, value, /)\n",
            " |      Return value%self.\n",
            " |  \n",
            " |  __rmul__(self, value, /)\n",
            " |      Return value*self.\n",
            " |  \n",
            " |  __ror__(self, value, /)\n",
            " |      Return value|self.\n",
            " |  \n",
            " |  __round__(...)\n",
            " |      Rounding an Integral returns itself.\n",
            " |      Rounding with an ndigits argument also returns an integer.\n",
            " |  \n",
            " |  __rpow__(self, value, mod=None, /)\n",
            " |      Return pow(value, self, mod).\n",
            " |  \n",
            " |  __rrshift__(self, value, /)\n",
            " |      Return value>>self.\n",
            " |  \n",
            " |  __rshift__(self, value, /)\n",
            " |      Return self>>value.\n",
            " |  \n",
            " |  __rsub__(self, value, /)\n",
            " |      Return value-self.\n",
            " |  \n",
            " |  __rtruediv__(self, value, /)\n",
            " |      Return value/self.\n",
            " |  \n",
            " |  __rxor__(self, value, /)\n",
            " |      Return value^self.\n",
            " |  \n",
            " |  __sizeof__(self, /)\n",
            " |      Returns size in memory, in bytes.\n",
            " |  \n",
            " |  __str__(self, /)\n",
            " |      Return str(self).\n",
            " |  \n",
            " |  __sub__(self, value, /)\n",
            " |      Return self-value.\n",
            " |  \n",
            " |  __truediv__(self, value, /)\n",
            " |      Return self/value.\n",
            " |  \n",
            " |  __trunc__(...)\n",
            " |      Truncating an Integral returns itself.\n",
            " |  \n",
            " |  __xor__(self, value, /)\n",
            " |      Return self^value.\n",
            " |  \n",
            " |  bit_length(self, /)\n",
            " |      Number of bits necessary to represent self in binary.\n",
            " |      \n",
            " |      >>> bin(37)\n",
            " |      '0b100101'\n",
            " |      >>> (37).bit_length()\n",
            " |      6\n",
            " |  \n",
            " |  conjugate(...)\n",
            " |      Returns self, the complex conjugate of any int.\n",
            " |  \n",
            " |  to_bytes(self, /, length, byteorder, *, signed=False)\n",
            " |      Return an array of bytes representing an integer.\n",
            " |      \n",
            " |      length\n",
            " |        Length of bytes object to use.  An OverflowError is raised if the\n",
            " |        integer is not representable with the given number of bytes.\n",
            " |      byteorder\n",
            " |        The byte order used to represent the integer.  If byteorder is 'big',\n",
            " |        the most significant byte is at the beginning of the byte array.  If\n",
            " |        byteorder is 'little', the most significant byte is at the end of the\n",
            " |        byte array.  To request the native byte order of the host system, use\n",
            " |        `sys.byteorder' as the byte order value.\n",
            " |      signed\n",
            " |        Determines whether two's complement is used to represent the integer.\n",
            " |        If signed is False and a negative integer is given, an OverflowError\n",
            " |        is raised.\n",
            " |  \n",
            " |  ----------------------------------------------------------------------\n",
            " |  Class methods defined here:\n",
            " |  \n",
            " |  from_bytes(bytes, byteorder, *, signed=False) from builtins.type\n",
            " |      Return the integer represented by the given array of bytes.\n",
            " |      \n",
            " |      bytes\n",
            " |        Holds the array of bytes to convert.  The argument must either\n",
            " |        support the buffer protocol or be an iterable object producing bytes.\n",
            " |        Bytes and bytearray are examples of built-in objects that support the\n",
            " |        buffer protocol.\n",
            " |      byteorder\n",
            " |        The byte order used to represent the integer.  If byteorder is 'big',\n",
            " |        the most significant byte is at the beginning of the byte array.  If\n",
            " |        byteorder is 'little', the most significant byte is at the end of the\n",
            " |        byte array.  To request the native byte order of the host system, use\n",
            " |        `sys.byteorder' as the byte order value.\n",
            " |      signed\n",
            " |        Indicates whether two's complement is used to represent the integer.\n",
            " |  \n",
            " |  ----------------------------------------------------------------------\n",
            " |  Static methods defined here:\n",
            " |  \n",
            " |  __new__(*args, **kwargs) from builtins.type\n",
            " |      Create and return a new object.  See help(type) for accurate signature.\n",
            " |  \n",
            " |  ----------------------------------------------------------------------\n",
            " |  Data descriptors defined here:\n",
            " |  \n",
            " |  denominator\n",
            " |      the denominator of a rational number in lowest terms\n",
            " |  \n",
            " |  imag\n",
            " |      the imaginary part of a complex number\n",
            " |  \n",
            " |  numerator\n",
            " |      the numerator of a rational number in lowest terms\n",
            " |  \n",
            " |  real\n",
            " |      the real part of a complex number\n",
            "\n"
          ]
        }
      ],
      "source": [
        "help(2)"
      ]
    },
    {
      "cell_type": "markdown",
      "metadata": {
        "id": "gKuRV8t5wmVj"
      },
      "source": [
        "---\n",
        "## <font color=\"orange\">4.5. The `input( )` Function:</font>\n",
        "\n",
        "* Action: ask user for input value and return it\n"
      ]
    },
    {
      "cell_type": "code",
      "source": [
        "x = input('Pelase enter a value for x...')\n",
        "print('You entered: ', x)"
      ],
      "metadata": {
        "colab": {
          "base_uri": "https://localhost:8080/"
        },
        "id": "fnChY9IVwnIC",
        "outputId": "ab13d6dc-04f0-4745-a2e2-23afb6c8fee8"
      },
      "execution_count": null,
      "outputs": [
        {
          "output_type": "stream",
          "name": "stdout",
          "text": [
            "Pelase enter a value for x...1\n",
            "You entered:  1\n"
          ]
        }
      ]
    },
    {
      "cell_type": "markdown",
      "metadata": {
        "id": "PNVk1n6bf4OA"
      },
      "source": [
        "---\n",
        "## <font color=\"orange\">4.6. The `isinstance(x, class)` Function:</font>\n",
        "\n",
        "* Action: return `True` if `x` belongs to `class`\n"
      ]
    },
    {
      "cell_type": "code",
      "source": [
        "my_string = 'abc'\n",
        "isinstance(my_string, str)    # Checks if my_string is a string"
      ],
      "metadata": {
        "colab": {
          "base_uri": "https://localhost:8080/"
        },
        "id": "T8m-ODftfjqC",
        "outputId": "37cfc905-cafd-4ac6-d751-6d1fb89ab655"
      },
      "execution_count": null,
      "outputs": [
        {
          "output_type": "execute_result",
          "data": {
            "text/plain": [
              "True"
            ]
          },
          "metadata": {},
          "execution_count": 5
        }
      ]
    },
    {
      "cell_type": "code",
      "source": [
        "number = 2\n",
        "isinstance(number, int)       # checks if number is an integer"
      ],
      "metadata": {
        "colab": {
          "base_uri": "https://localhost:8080/"
        },
        "id": "1592nT4Fftn4",
        "outputId": "f1cc1187-6064-4b4c-fc3f-16c2a39b956c"
      },
      "execution_count": null,
      "outputs": [
        {
          "output_type": "execute_result",
          "data": {
            "text/plain": [
              "True"
            ]
          },
          "metadata": {},
          "execution_count": 6
        }
      ]
    },
    {
      "cell_type": "markdown",
      "metadata": {
        "id": "kPnOl0QZ6q2l"
      },
      "source": [
        "---\n",
        "## <font color=\"orange\">4.7. Other Functions:</font>\n",
        "\n",
        "The following table lists all Python's built-in functions in alphabitical order:"
      ]
    },
    {
      "cell_type": "markdown",
      "metadata": {
        "id": "4h1iyESpgHIK"
      },
      "source": [
        "![python_builtin_funcs.png](data:image/png;base64,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)"
      ]
    },
    {
      "cell_type": "markdown",
      "metadata": {
        "id": "om7CNt_yi3e0"
      },
      "source": [
        "Here are examples of other useful functions:"
      ]
    },
    {
      "cell_type": "code",
      "execution_count": null,
      "metadata": {
        "colab": {
          "base_uri": "https://localhost:8080/"
        },
        "id": "iH1ZBTWuvj39",
        "outputId": "5f7d2626-6e2a-4c17-ac04-e7a5b563b54d"
      },
      "outputs": [
        {
          "output_type": "execute_result",
          "data": {
            "text/plain": [
              "2"
            ]
          },
          "metadata": {},
          "execution_count": 7
        }
      ],
      "source": [
        "# abs(x): return the absolut value of x\n",
        "abs(-2)"
      ]
    },
    {
      "cell_type": "code",
      "execution_count": null,
      "metadata": {
        "colab": {
          "base_uri": "https://localhost:8080/"
        },
        "id": "Zl5qgnHUvj7F",
        "outputId": "22713135-cc36-4f0b-ce79-f0409803ac36"
      },
      "outputs": [
        {
          "output_type": "execute_result",
          "data": {
            "text/plain": [
              "-2"
            ]
          },
          "metadata": {},
          "execution_count": 8
        }
      ],
      "source": [
        "# min(): return the smallest item in an iterable or the smallest of two or more arguments.\n",
        "min(2, -2)"
      ]
    },
    {
      "cell_type": "code",
      "execution_count": null,
      "metadata": {
        "colab": {
          "base_uri": "https://localhost:8080/"
        },
        "id": "BPqDn0Tivj-3",
        "outputId": "15e74ebe-c42c-479d-c622-94a5fb28b863"
      },
      "outputs": [
        {
          "output_type": "execute_result",
          "data": {
            "text/plain": [
              "2"
            ]
          },
          "metadata": {},
          "execution_count": 9
        }
      ],
      "source": [
        "# max(): return the maximum value\n",
        "max(2, -2)"
      ]
    },
    {
      "cell_type": "code",
      "execution_count": null,
      "metadata": {
        "colab": {
          "base_uri": "https://localhost:8080/"
        },
        "id": "rb5fYFVFAAeJ",
        "outputId": "8f31ff53-f3a1-430f-b285-ac2b6187244f"
      },
      "outputs": [
        {
          "output_type": "execute_result",
          "data": {
            "text/plain": [
              "6"
            ]
          },
          "metadata": {},
          "execution_count": 10
        }
      ],
      "source": [
        "# round(): rounds a float up or down to the nearest integer\n",
        "round(5.5)"
      ]
    },
    {
      "cell_type": "code",
      "execution_count": null,
      "metadata": {
        "colab": {
          "base_uri": "https://localhost:8080/"
        },
        "id": "KK7fKwQtn0D1",
        "outputId": "13192f11-c92f-49fe-f104-964ffc9fe3de"
      },
      "outputs": [
        {
          "output_type": "execute_result",
          "data": {
            "text/plain": [
              "3"
            ]
          },
          "metadata": {},
          "execution_count": 11
        }
      ],
      "source": [
        "# int(): converts a floating point number to integer\n",
        "int(3.01)"
      ]
    },
    {
      "cell_type": "code",
      "execution_count": null,
      "metadata": {
        "colab": {
          "base_uri": "https://localhost:8080/"
        },
        "id": "y6m6e-2K_1kY",
        "outputId": "513e0cc1-3963-4706-da8a-1bbc8cc105f4"
      },
      "outputs": [
        {
          "output_type": "execute_result",
          "data": {
            "text/plain": [
              "2.0"
            ]
          },
          "metadata": {},
          "execution_count": 12
        }
      ],
      "source": [
        "# float(x): Return a floating point number constructed from a number or string x.\n",
        "float('2')"
      ]
    },
    {
      "cell_type": "code",
      "execution_count": null,
      "metadata": {
        "colab": {
          "base_uri": "https://localhost:8080/"
        },
        "id": "U-ZL7Zwoq_KQ",
        "outputId": "777e9cde-8d0e-438b-9b8a-706ed5218bdc"
      },
      "outputs": [
        {
          "output_type": "stream",
          "name": "stdout",
          "text": [
            "1. From floats: (1.1+2.3j)\n",
            "2. From string:  (1.1+2.3j)\n"
          ]
        }
      ],
      "source": [
        "# complex(real, imag): Return a complex number with the value real + imag*1j or convert a string or number to a complex number.\n",
        "print('1. From floats:', complex(1.1, 2.3))      # from float numbers\n",
        "print('2. From string: ', complex('1.1+2.3j'))   # When converting from a string, the string must not contain whitespace"
      ]
    },
    {
      "cell_type": "markdown",
      "metadata": {
        "id": "c3Uv9W2lkTqU"
      },
      "source": [
        "---\n",
        "# <a>**5. Flow Control**</a>"
      ]
    },
    {
      "cell_type": "markdown",
      "metadata": {
        "id": "SH5NdxUMt7IA"
      },
      "source": [
        "## What is flow control?\n",
        "Python uses the usual flow control statements known from other languages, with some twists. In this section, we will cover:\n",
        "* `if` statments\n",
        "* `for` loops\n"
      ]
    },
    {
      "cell_type": "markdown",
      "metadata": {
        "id": "x43AEiDolm3g"
      },
      "source": [
        "---\n",
        "## <font color=\"orange\">**5.1. The `if` statement:**</font>\n",
        "* The `if` statement allows the programmer to create \"forks\" in their code, by executing different chuncks of code depending on one or more conditions.\n",
        "\n",
        "* There are three ways to write an `if` statement:\n",
        "  1. `if` statement\n",
        "  2. `if-else` statement\n",
        "  3. `if-else-if` statement"
      ]
    },
    {
      "cell_type": "markdown",
      "source": [
        "### <font color=\"lime\">**if-statement:**</font>\n"
      ],
      "metadata": {
        "id": "HgAIAzng2ihO"
      }
    },
    {
      "cell_type": "markdown",
      "metadata": {
        "id": "xhgPtMxEECTH"
      },
      "source": [
        "* Usage: \"*if condition is True, do this*\"\n",
        "* Format:\n",
        "```\n",
        "if condition:\n",
        "    \"do something\"\n",
        "```\n",
        "\n",
        "Notes:\n",
        "* The `if` clause in indented\n",
        "* The `if` clause will be executed when the `condition` is `True`\n",
        "* *conditions* can be chained using the `and` or `or` operators, see below"
      ]
    },
    {
      "cell_type": "markdown",
      "metadata": {
        "id": "1B6BQCRuZlRc"
      },
      "source": [
        "#### <font color=\"cyan\">**Examples:**<font color=\"gray\"> `if condition:`"
      ]
    },
    {
      "cell_type": "code",
      "execution_count": null,
      "metadata": {
        "colab": {
          "base_uri": "https://localhost:8080/"
        },
        "id": "SPP3lb-PBnpf",
        "outputId": "c2c0799d-d9e0-4269-a51d-2b723117508a"
      },
      "outputs": [
        {
          "output_type": "stream",
          "name": "stdout",
          "text": [
            "condition is True\n"
          ]
        }
      ],
      "source": [
        "# Simple if statement\n",
        "\n",
        "condition = True\n",
        "\n",
        "if condition:\n",
        "    print('condition is True')"
      ]
    },
    {
      "cell_type": "markdown",
      "metadata": {
        "id": "eJQjDsy_bxJo"
      },
      "source": [
        "Note: Experiment by replacing the condition above with a \"False\" value\n",
        "\n",
        "--- "
      ]
    },
    {
      "cell_type": "code",
      "execution_count": null,
      "metadata": {
        "colab": {
          "base_uri": "https://localhost:8080/"
        },
        "id": "6f-C3wGQkaMR",
        "outputId": "372a0b2f-f0c0-47c7-a792-a84095a3cb0f"
      },
      "outputs": [
        {
          "output_type": "stream",
          "name": "stdout",
          "text": [
            "Negative\n"
          ]
        }
      ],
      "source": [
        "# Another example: print \"Negative\" if x is less than zero\n",
        "\n",
        "x = -2\n",
        "\n",
        "if x < 0:\n",
        "  print('Negative')"
      ]
    },
    {
      "cell_type": "markdown",
      "metadata": {
        "id": "ul3mI0aHHSf5"
      },
      "source": [
        "#### <font color=\"cyan\">**Examples:**<font color=\"gray\"> `if condition_1 and condition_2:`"
      ]
    },
    {
      "cell_type": "code",
      "execution_count": null,
      "metadata": {
        "colab": {
          "base_uri": "https://localhost:8080/"
        },
        "id": "x5ItFBbzY_O3",
        "outputId": "841c6ac8-0465-4b9a-c29b-63c7623f7c61"
      },
      "outputs": [
        {
          "output_type": "stream",
          "name": "stdout",
          "text": [
            "Both conditions are true\n"
          ]
        }
      ],
      "source": [
        "# if statement with two conditions using \"and\"\n",
        "condition_1 = 1\n",
        "condition_2 = True\n",
        "\n",
        "if condition_1 and condition_2:\n",
        "    # executed when BOTH conditions are True\n",
        "    print(\"Both conditions are true\")"
      ]
    },
    {
      "cell_type": "markdown",
      "metadata": {
        "id": "hFjvflhryDD4"
      },
      "source": [
        "Note: `0` is considered `False`, while `1` is considered `True`\n",
        "\n",
        "--- "
      ]
    },
    {
      "cell_type": "markdown",
      "metadata": {
        "id": "PLqpzwQZHSf5"
      },
      "source": [
        "#### <font color=\"cyan\">**Examples:**<font color=\"gray\"> `if condition_1 or condition_2:`"
      ]
    },
    {
      "cell_type": "code",
      "execution_count": null,
      "metadata": {
        "colab": {
          "base_uri": "https://localhost:8080/"
        },
        "id": "R1DFfGOUEMdJ",
        "outputId": "0599aedd-ad27-4f3a-c7ff-5b8ae9c445f7"
      },
      "outputs": [
        {
          "output_type": "stream",
          "name": "stdout",
          "text": [
            "One of the conditions is true\n"
          ]
        }
      ],
      "source": [
        "# if statement with two conditions using \"or\"\n",
        "condition_1 = 1\n",
        "condition_2 = False\n",
        "\n",
        "if condition_1 or condition_2:\n",
        "    # executed when at least one condition is True\n",
        "    print(\"One of the conditions is true\")"
      ]
    },
    {
      "cell_type": "markdown",
      "source": [
        "### <font color=\"lime\">**if-else statement:**<font color=\"gray\"> \n"
      ],
      "metadata": {
        "id": "XKN06PQX2t8x"
      }
    },
    {
      "cell_type": "markdown",
      "metadata": {
        "id": "B9hJjPZpP2B4"
      },
      "source": [
        "* Usage: \"*if condition is True, do this... if not, do that*\"\n",
        "* format:\n",
        "```\n",
        "if condition:\n",
        "    \"do something\"\n",
        "else:\n",
        "    \"do something else\"\n",
        "```\n",
        "\n",
        "Notes:\n",
        "* Only one clause maybe be executed, creating a \"fork\" in the code:\n",
        "  - The `if` clause will be executed when the `condition` is `True`, or... \n",
        "  - The `else` clause will be executed when the `condition` is `False` \n",
        "\n",
        "* *conditions* can be chained using the `and` or `or` operators, see below"
      ]
    },
    {
      "cell_type": "markdown",
      "metadata": {
        "id": "7bH3DfL-WSSD"
      },
      "source": [
        "#### <font color=\"cyan\">**Examples:**<font color=\"gray\"> `if condition:`"
      ]
    },
    {
      "cell_type": "code",
      "execution_count": null,
      "metadata": {
        "colab": {
          "base_uri": "https://localhost:8080/"
        },
        "outputId": "a2eb18e2-fb07-49c9-a1ca-fb9c27215a69",
        "id": "Lons46JjWSSD"
      },
      "outputs": [
        {
          "output_type": "stream",
          "name": "stdout",
          "text": [
            "condition is True\n"
          ]
        }
      ],
      "source": [
        "# Simple if-else statement\n",
        "condition = True\n",
        "\n",
        "if condition:\n",
        "    print('condition is True')\n",
        "else:\n",
        "    print('condition is False')"
      ]
    },
    {
      "cell_type": "markdown",
      "metadata": {
        "id": "crcGFws0V57u"
      },
      "source": [
        "#### <font color=\"cyan\">**Examples:**<font color=\"gray\"> `if condition_1 and condition_2:`"
      ]
    },
    {
      "cell_type": "code",
      "execution_count": null,
      "metadata": {
        "colab": {
          "base_uri": "https://localhost:8080/"
        },
        "outputId": "8deb5b39-f9c4-4f85-bafe-0afb62b0bd83",
        "id": "dmE_zVzYV57v"
      },
      "outputs": [
        {
          "output_type": "stream",
          "name": "stdout",
          "text": [
            "At least one condition is false\n"
          ]
        }
      ],
      "source": [
        "# if-else statement with two conditions using \"and\"\n",
        "condition_1 = True\n",
        "condition_2 = False\n",
        "\n",
        "if condition_1 and condition_2:\n",
        "    print(\"Both conditions are true\")\n",
        "else:\n",
        "    print(\"At least one condition is false\")"
      ]
    },
    {
      "cell_type": "markdown",
      "metadata": {
        "id": "kzC1t4LiY1Om"
      },
      "source": [
        "#### <font color=\"cyan\">**Examples:**<font color=\"gray\"> `if condition_1 or condition_2:`"
      ]
    },
    {
      "cell_type": "code",
      "execution_count": null,
      "metadata": {
        "colab": {
          "base_uri": "https://localhost:8080/"
        },
        "outputId": "dc7b3e33-c2c9-47e5-a22e-6e8f6c45b883",
        "id": "L3RQ2lG7Y1On"
      },
      "outputs": [
        {
          "output_type": "stream",
          "name": "stdout",
          "text": [
            "Both conditions are False\n"
          ]
        }
      ],
      "source": [
        "# if-else statement with two conditions using \"or\"\n",
        "condition_1 = 0\n",
        "condition_2 = False\n",
        "\n",
        "if condition_1 or condition_2:\n",
        "    print(\"One of the conditions is true\")\n",
        "else:\n",
        "    print(\"Both conditions are False\")"
      ]
    },
    {
      "cell_type": "markdown",
      "source": [
        "### <font color=\"lime\">**if-else-if statement:**</font>"
      ],
      "metadata": {
        "id": "cy04ay9g2uWC"
      }
    },
    {
      "cell_type": "markdown",
      "metadata": {
        "id": "-hKNaoqL20OJ"
      },
      "source": [
        "* Usage: \"*if condition_1 is True, do this... if condition_2 is True, do that... else, do something else*\"\n",
        "* format:\n",
        "```\n",
        "if condition_1:\n",
        "    \"do something\"\n",
        "elif condition_2:\n",
        "    \"do this thing\"\n",
        "else:\n",
        "    \"do something else\"\n",
        "```\n",
        "\n",
        "Notes:\n",
        "* Only one clause maybe be executed, creating a 3-way \"fork\" in the code:\n",
        "  - The `if` clause will be executed when the `condition_1` is `True`, or... \n",
        "  - The `elif` clause will be executed when the `condition_2` is `True`, or... \n",
        "  - The `else` clause will be executed when the `condition` is `False` \n",
        "\n",
        "* *conditions* can be chained using the `and` or `or` operators, see below"
      ]
    },
    {
      "cell_type": "markdown",
      "metadata": {
        "id": "wqe5MYTkEMgV"
      },
      "source": [
        "#### <font color=\"cyan\">**Examples:**<font color=\"gray\"> `if-else-if:`"
      ]
    },
    {
      "cell_type": "code",
      "source": [
        "# Simple if-else-if statement\n",
        "\n",
        "string = 'PYTHON'\n",
        "\n",
        "if string.islower():\n",
        "  print(\"String is lowercase\")\n",
        "elif string.isupper():\n",
        "  print(\"String is uppercase\")\n",
        "else:\n",
        "  print(\"String neither all uppercase or lowercase\")"
      ],
      "metadata": {
        "colab": {
          "base_uri": "https://localhost:8080/"
        },
        "id": "Q1m3clYYFenD",
        "outputId": "2b711dfe-1bad-448c-f319-91b9bed2cb91"
      },
      "execution_count": null,
      "outputs": [
        {
          "output_type": "stream",
          "name": "stdout",
          "text": [
            "String neither all uppercase or lowercase\n"
          ]
        }
      ]
    },
    {
      "cell_type": "markdown",
      "source": [
        "Note: Expirement by changing the string above to lowercase\n",
        "\n",
        "---"
      ],
      "metadata": {
        "id": "hQIHl2a9V0bH"
      }
    },
    {
      "cell_type": "markdown",
      "metadata": {
        "id": "IgbVh7008cci"
      },
      "source": [
        "#### <font color=\"magenta\">**Exercise:**</font> Stay positive\n",
        "\n",
        "```\n",
        "Write an if-else-if statement to ask the user for an integer, then print Positive, Negative, or Zero depending on the input.\n",
        "```"
      ]
    },
    {
      "cell_type": "code",
      "source": [
        "# Type your solution here\n"
      ],
      "metadata": {
        "id": "rWbyRFru1YGD"
      },
      "execution_count": null,
      "outputs": []
    },
    {
      "cell_type": "markdown",
      "metadata": {
        "id": "GSpEfNdh12ef"
      },
      "source": [
        "##### <font color=\"gray\">**Click here to view the solution**<font color=\"white\"> </font>\n"
      ]
    },
    {
      "cell_type": "markdown",
      "source": [
        "Solution:\n",
        "1. Ask user for input using `input()` built-in function\n",
        "2. Convert the input to an integer\n",
        "3. Write an if-else-if statement to compare the integer value\n",
        "4. Print the result"
      ],
      "metadata": {
        "id": "jkKXTlpq1pDm"
      }
    },
    {
      "cell_type": "code",
      "execution_count": null,
      "metadata": {
        "colab": {
          "base_uri": "https://localhost:8080/"
        },
        "id": "dRu_LJOCkaPk",
        "outputId": "0f45e7f6-9c81-4637-a0a3-8412f19bb805"
      },
      "outputs": [
        {
          "output_type": "stream",
          "name": "stdout",
          "text": [
            "Enter a number: -2\n",
            "Negative\n"
          ]
        }
      ],
      "source": [
        "# Ask user for a number\n",
        "x = int(input(\"Enter a number: \"))\n",
        "\n",
        "# Example 4: else if statement\n",
        "if x < 0:\n",
        "    print('Negative')\n",
        "elif x == 0:\n",
        "    print('Zero')\n",
        "else:\n",
        "    print('Positive')"
      ]
    },
    {
      "cell_type": "markdown",
      "metadata": {
        "id": "rcL_UA_lY-vU"
      },
      "source": [
        "In Python, The following built-in objects are considered False:\n",
        "* Constants defined to be false: `None` and `False`\n",
        "* zero of any numeric type: `0`, `0.0`, `0j`\n",
        "* empty sequences and collections: `''`, `()`, `[]`, `{}`, `set()`, `range(0)`\n"
      ]
    },
    {
      "cell_type": "markdown",
      "metadata": {
        "id": "q3jBfkX1mmLH"
      },
      "source": [
        "---\n",
        "## <font color=\"orange\">**5.2.  `for` loops:**<font color=\"white\"></font>\n",
        "* Python supports iteration over containers. Sequences (list, tuple, strings, etc.) always support the iteration methods.\n",
        "* Usage: \"*for every element in a sequence of elements, do this*\"\n",
        "* Format:\n",
        "```\n",
        "for element in sequence_of_elements:\n",
        "    \"do something\"\n",
        "```\n",
        "\n",
        "Note:\n",
        "* The \"looping\" code is indented\n",
        "* In each loop, we take one element of the sequence, and call it `element`\n",
        "* Looping stops when we exhaust all elements of the sequence\n",
        "* One can loop over the sequence of numbers or items of any sequence (a list or a string), in the order that they appear in the sequence."
      ]
    },
    {
      "cell_type": "markdown",
      "metadata": {
        "id": "_QnfwOY_HSf6"
      },
      "source": [
        "#### <font color=\"cyan\">**Examples:**<font color=\"gray\"> iterating over a `list()`"
      ]
    },
    {
      "cell_type": "code",
      "execution_count": null,
      "metadata": {
        "colab": {
          "base_uri": "https://localhost:8080/"
        },
        "id": "pwYwQ6NGlS3J",
        "outputId": "9f95389a-6068-4976-ce8f-2f4f1744c57d"
      },
      "outputs": [
        {
          "output_type": "stream",
          "name": "stdout",
          "text": [
            "cat 3\n",
            "window 6\n",
            "apple 5\n"
          ]
        }
      ],
      "source": [
        "# iterating over a list, printing each element and its length, one by one\n",
        "words = ['cat', 'window', 'apple']\n",
        "for word in words:\n",
        "    print(word, len(word))"
      ]
    },
    {
      "cell_type": "markdown",
      "metadata": {
        "id": "-Xzs-CA4vdTw"
      },
      "source": [
        "#### <font color=\"cyan\">**Examples:**<font color=\"gray\"> iterating using `range()`\n",
        "* The `range()` built-in function is useful when combined with `for()` loops    \n"
      ]
    },
    {
      "cell_type": "code",
      "execution_count": null,
      "metadata": {
        "colab": {
          "base_uri": "https://localhost:8080/"
        },
        "id": "FrMQBDQLnWjL",
        "outputId": "072e5dd7-1273-4d4e-a17a-db1b6b0bb422"
      },
      "outputs": [
        {
          "output_type": "stream",
          "name": "stdout",
          "text": [
            "0\n",
            "1\n",
            "2\n"
          ]
        }
      ],
      "source": [
        "# Looping a range of numbers, using the built-in function range()\n",
        "for i in range(3):\n",
        "    print(i)"
      ]
    },
    {
      "cell_type": "code",
      "execution_count": null,
      "metadata": {
        "colab": {
          "base_uri": "https://localhost:8080/"
        },
        "id": "QnOqzxk0lS6g",
        "outputId": "cf6fbf83-9812-47a6-ecf4-f0df196a01f3"
      },
      "outputs": [
        {
          "output_type": "stream",
          "name": "stdout",
          "text": [
            "0 Mary\n",
            "1 had\n",
            "2 a\n",
            "3 little\n",
            "4 lamb\n"
          ]
        }
      ],
      "source": [
        "# another for() example\n",
        "a = ['Mary', 'had', 'a', 'little', 'lamb']\n",
        "for i in range(len(a)):\n",
        "    print(i, a[i])"
      ]
    },
    {
      "cell_type": "markdown",
      "metadata": {
        "id": "KTbyXTqKHSf9"
      },
      "source": [
        "#### <font color=\"cyan\">**Examples:**<font color=\"gray\"> iterating over a `dict()`"
      ]
    },
    {
      "cell_type": "code",
      "execution_count": null,
      "metadata": {
        "id": "LNr3QARsHSf9",
        "colab": {
          "base_uri": "https://localhost:8080/"
        },
        "outputId": "cae121c9-3dbf-4ca9-e771-68ae216f53e6"
      },
      "outputs": [
        {
          "output_type": "stream",
          "name": "stdout",
          "text": [
            "one 1\n",
            "two 2\n",
            "three 3\n",
            "four 4\n"
          ]
        }
      ],
      "source": [
        "d = {\"one\": 1, \"two\": 2, \"three\": 3, \"four\": 4}\n",
        "\n",
        "for key, value in d.items():\n",
        "  print(key, value)"
      ]
    },
    {
      "cell_type": "markdown",
      "metadata": {
        "id": "nGtAPuWgHSf-"
      },
      "source": [
        "#### <font color=\"magenta\">**Excercise 1:**<font color=\"gray\"> Write a for loop to greet every name in the tuple `names`: </font>\n",
        "\n",
        "```\n",
        "# say hello to each name in the tuple `names`:\n",
        "names = (\"Charlie\", \"Emily\", \"Tom\")\n",
        "```"
      ]
    },
    {
      "cell_type": "code",
      "execution_count": null,
      "metadata": {
        "id": "fLDdfM4dHSf-",
        "outputId": "62a9caa8-a265-4320-f747-5fb89d27e71c"
      },
      "outputs": [
        {
          "data": {
            "text/plain": [
              "('Charlie', 'Emily', 'Tom')"
            ]
          },
          "execution_count": 150,
          "metadata": {},
          "output_type": "execute_result"
        }
      ],
      "source": [
        "names = (\"Charlie\", \"Emily\", \"Tom\")\n",
        "names"
      ]
    },
    {
      "cell_type": "code",
      "execution_count": null,
      "metadata": {
        "id": "M6FF-YdrHSf-"
      },
      "outputs": [],
      "source": [
        "# Type your solution here\n"
      ]
    },
    {
      "cell_type": "markdown",
      "metadata": {
        "id": "HHejmKoTHSf_"
      },
      "source": [
        "##### <font color=\"gray\">**Click here to view the solution**<font color=\"white\"> </font>"
      ]
    },
    {
      "cell_type": "markdown",
      "metadata": {
        "id": "-mHk5xJ_HSf_"
      },
      "source": [
        "We can break the problem into smaller tasks:\n",
        "1. Loop over the names\n",
        "2. Print a greet followed by the name"
      ]
    },
    {
      "cell_type": "code",
      "execution_count": null,
      "metadata": {
        "id": "o-TaGAMZHSf_",
        "outputId": "deb4dad0-5d57-4fc3-98a3-a4786dc6e691"
      },
      "outputs": [
        {
          "name": "stdout",
          "output_type": "stream",
          "text": [
            "Hello  Charlie\n",
            "Hello  Emily\n",
            "Hello  Tom\n"
          ]
        }
      ],
      "source": [
        "names = (\"Charlie\", \"Emily\", \"Tom\")\n",
        "\n",
        "for name in names:\n",
        "    print(\"Hello \", name)"
      ]
    },
    {
      "cell_type": "markdown",
      "metadata": {
        "id": "cP3lCzgdHSf_"
      },
      "source": [
        "#### <font color=\"magenta\">**Excercise 2:**<font color=\"gray\"> Write a for loop to greet every name in the tuple `names` with a unique greet: </font>\n",
        "\n",
        "```\n",
        "# greet each name in the tuple `names` uniquly:\n",
        "    greetings = (\"Hello \", \"Hi \", \"Good morning \")\n",
        "    names = (\"Charlie\", \"Emily\", \"Tom\")\n",
        "```\n",
        "\n",
        "* hint: use the built-in function `zip()`"
      ]
    },
    {
      "cell_type": "code",
      "execution_count": null,
      "metadata": {
        "id": "dxzlen1LHSf_"
      },
      "outputs": [],
      "source": [
        "greetings = (\"Hello \", \"Hi \", \"Good morning \")\n",
        "names = (\"Charlie\", \"Emily\", \"Tom\")"
      ]
    },
    {
      "cell_type": "code",
      "execution_count": null,
      "metadata": {
        "id": "uAbcIf9xHSgA"
      },
      "outputs": [],
      "source": [
        "# Type your solution here\n"
      ]
    },
    {
      "cell_type": "markdown",
      "metadata": {
        "id": "4enV-5-oHSgA"
      },
      "source": [
        "##### <font color=\"gray\">**Click here to view the solution**<font color=\"white\"> </font>"
      ]
    },
    {
      "cell_type": "markdown",
      "metadata": {
        "id": "UvahFWrFHSgA"
      },
      "source": [
        "We can break the problem into smaller tasks:\n",
        "1. Loop over the names using built-in function `zip()`\n",
        "2. Print a greet followed by the name"
      ]
    },
    {
      "cell_type": "code",
      "execution_count": null,
      "metadata": {
        "id": "p96wEFwfHSgA",
        "outputId": "58569ee4-39c5-4aa9-88c5-6a6d3b4ac46b"
      },
      "outputs": [
        {
          "name": "stdout",
          "output_type": "stream",
          "text": [
            "Hi  Charlie\n",
            "Hello  Emily\n",
            "Good morning  Tom\n"
          ]
        }
      ],
      "source": [
        "for greet, name in zip(greetings, names):\n",
        "    print(greet, name)"
      ]
    },
    {
      "cell_type": "markdown",
      "metadata": {
        "id": "178tp7C3HSgA"
      },
      "source": [
        "Note: built-in function `zip()` is used together with a for-loop to iterate over two or more sequences simultanously\n",
        "\n",
        "---"
      ]
    },
    {
      "cell_type": "markdown",
      "metadata": {
        "id": "8hG8Uas1vKCe"
      },
      "source": [
        "---\n",
        "# <a>**6. Creating functions:**</a>\n"
      ]
    },
    {
      "cell_type": "markdown",
      "metadata": {
        "id": "8_MWW9r227vR"
      },
      "source": [
        "#### What are functions?\n",
        "* A chunk of code that generally performs one task. Functions may or may not accept input arguments or return a value\n",
        "\n",
        "* Usage: functions keep our code neat and tidy\n",
        "* Format: We introduce functions using the `def` keyword, followed by:\n",
        "  1. `function_name`: small caps convention\n",
        "  2. Optional input parameters/arguments enclosed by `()`\n",
        "  3. Colon `:`\n",
        "  4. Optional `return` statement\n",
        "\n",
        "For example:\n",
        "* We can define a function like this:\n",
        "```\n",
        "def function_name(x, y=0.0):\n",
        "    z = 4\n",
        "    k = x + y + z\n",
        "    return k\n",
        "```\n",
        "where:\n",
        "  - `x` is a required input argument\n",
        "  - `y` is an optional input (default=0.0)\n",
        "  - `k` is the returned value\n",
        "\n",
        "---\n",
        "\n",
        "* Then, we can call the function like this:\n",
        "```\n",
        "new_k = function_name(1,1)      # x=1, y=1\n",
        "new_k = function_name(x=1,y=1)  # same\n",
        "```\n",
        "Which would yield `new_k = 6.0`\n",
        "\n",
        "Notes:\n",
        "* You could default input variables such as `y=0.0`\n",
        "* Indented text is within function's scope\n",
        "* when the function *returns* or *raises an error* all variables in its scope are deleted, keeping our namespace clean"
      ]
    },
    {
      "cell_type": "markdown",
      "metadata": {
        "id": "OxPnenr8YsFQ"
      },
      "source": [
        "#### <font color=\"cyan\">**Examples:**</font> Write a function to print *Hello World!!!* `n` times"
      ]
    },
    {
      "cell_type": "code",
      "execution_count": null,
      "metadata": {
        "id": "20mQzTph5BpE"
      },
      "outputs": [],
      "source": [
        "def greet(n=1):\n",
        "    print('Hello World!!! ' * n)"
      ]
    },
    {
      "cell_type": "code",
      "execution_count": null,
      "metadata": {
        "colab": {
          "base_uri": "https://localhost:8080/"
        },
        "id": "XQLcUhQI5Qz5",
        "outputId": "f3a853f9-d050-4baa-e495-d074748453bb"
      },
      "outputs": [
        {
          "name": "stdout",
          "output_type": "stream",
          "text": [
            "Hello World!!! Hello World!!! Hello World!!! \n"
          ]
        }
      ],
      "source": [
        "# print 3 times\n",
        "greet(3)"
      ]
    },
    {
      "cell_type": "code",
      "execution_count": null,
      "metadata": {
        "colab": {
          "base_uri": "https://localhost:8080/"
        },
        "id": "gYSDG4ZpHfTD",
        "outputId": "8319593b-3d1d-4ca8-b735-e56bee72abf4"
      },
      "outputs": [
        {
          "name": "stdout",
          "output_type": "stream",
          "text": [
            "Hello World!!! \n"
          ]
        }
      ],
      "source": [
        "# print with n=1 as default value\n",
        "greet()"
      ]
    },
    {
      "cell_type": "markdown",
      "metadata": {
        "id": "ZdduBbxq5eHY"
      },
      "source": [
        "Note: One must use parentheses even if calling without passing arguments. parentheses differentiate `functions()` from *variables*.\n",
        "\n",
        "---"
      ]
    },
    {
      "cell_type": "code",
      "execution_count": null,
      "metadata": {
        "colab": {
          "base_uri": "https://localhost:8080/"
        },
        "id": "wg8ebgQs5QwH",
        "outputId": "e7297459-2b35-4ed9-ef46-397e4e42efce"
      },
      "outputs": [
        {
          "data": {
            "text/plain": [
              "<function __main__.greet>"
            ]
          },
          "execution_count": 8,
          "metadata": {},
          "output_type": "execute_result"
        }
      ],
      "source": [
        "greet # doesn't call the function"
      ]
    },
    {
      "cell_type": "markdown",
      "metadata": {
        "id": "M8YoE9WyWmzO"
      },
      "source": [
        "#### <font color=\"magenta\">**Excercise:**</font> Write a function to return input list with every word uppercased\n",
        "\n",
        "```\n",
        "input list: words=[\"apple\",\"bravo\", \"charlie\"]\n",
        "output list: words=[\"APPLE\",\"BRAVO\", \"CHARLIE\"]\n",
        "\n",
        "```"
      ]
    },
    {
      "cell_type": "code",
      "source": [
        "# Type your solution here\n"
      ],
      "metadata": {
        "id": "QvPNz106cFUo"
      },
      "execution_count": null,
      "outputs": []
    },
    {
      "cell_type": "markdown",
      "metadata": {
        "id": "a5QTjG-EcL7a"
      },
      "source": [
        "##### <font color=\"gray\">**Click here to view the solution**<font color=\"white\"> </font>"
      ]
    },
    {
      "cell_type": "code",
      "execution_count": null,
      "metadata": {
        "id": "LkNd6CsdWT5X"
      },
      "outputs": [],
      "source": [
        "# 1. Define the function \n",
        "\n",
        "def all_caps(some_list):\n",
        "  ''' returns the input list of strings uppercased'''\n",
        "\n",
        "  new_list = []                     # create an empty list\n",
        "  for word in some_list:            # loop input list\n",
        "    new_list.append(word.upper())   # uppercase then append to new list\n",
        "\n",
        "  return new_list                   # return new list"
      ]
    },
    {
      "cell_type": "code",
      "execution_count": null,
      "metadata": {
        "colab": {
          "base_uri": "https://localhost:8080/"
        },
        "id": "B1BfVpL6WT08",
        "outputId": "646fbbd2-8bbe-45ba-85ac-db6a3bce5813"
      },
      "outputs": [
        {
          "output_type": "execute_result",
          "data": {
            "text/plain": [
              "['apple', 'bravo', 'charlie']"
            ]
          },
          "metadata": {},
          "execution_count": 2
        }
      ],
      "source": [
        "# 2. Define input list of strings\n",
        "\n",
        "words = [\"apple\",\"bravo\", \"charlie\"]\n",
        "words"
      ]
    },
    {
      "cell_type": "code",
      "execution_count": null,
      "metadata": {
        "colab": {
          "base_uri": "https://localhost:8080/"
        },
        "id": "acMsZBisWT9z",
        "outputId": "35c0508a-0f6b-4238-93ae-c1b7e7376a8b"
      },
      "outputs": [
        {
          "output_type": "execute_result",
          "data": {
            "text/plain": [
              "['APPLE', 'BRAVO', 'CHARLIE']"
            ]
          },
          "metadata": {},
          "execution_count": 3
        }
      ],
      "source": [
        "# 3. Call the function\n",
        "uppercased_list = all_caps(words)\n",
        "uppercased_list"
      ]
    },
    {
      "cell_type": "markdown",
      "metadata": {
        "id": "WQpSICHMj0AK"
      },
      "source": [
        "---\n",
        "# <a>**7. Bringing it all together:**</a>"
      ]
    },
    {
      "cell_type": "markdown",
      "source": [
        "* Objective: The objective of this section is to complete two exercises to tie in the main concepts introduced in this notebook.\n",
        "\n"
      ],
      "metadata": {
        "id": "nA9Dww_gN6Ui"
      }
    },
    {
      "cell_type": "markdown",
      "metadata": {
        "id": "WhqWdS2lVE0Z"
      },
      "source": [
        "#### <font color=\"magenta\">**Excercise 1:**</font> Write a function that accepts a list of numbers, and returns a dictionary with the unique numbers from the input list as keys, and their counts as values\n",
        "\n",
        "```\n",
        "input list: numbers = [6,9,2,3,3,2,6,20,3,2,6,3,9,9]\n",
        "output: counts_dict={1:1, 2:2, 3:1}\n",
        "```"
      ]
    },
    {
      "cell_type": "code",
      "execution_count": 36,
      "metadata": {
        "id": "6yPpatRpZj3w",
        "colab": {
          "base_uri": "https://localhost:8080/"
        },
        "outputId": "30936fa8-ae9b-4859-bf40-22da0641357a"
      },
      "outputs": [
        {
          "output_type": "execute_result",
          "data": {
            "text/plain": [
              "[6, 9, 2, 3, 3, 2, 6, 20, 3, 2, 6, 3, 9, 9]"
            ]
          },
          "metadata": {},
          "execution_count": 36
        }
      ],
      "source": [
        "numbers = [6,9,2,3,3,2,6,20,3,2,6,3,9,9]\n",
        "numbers"
      ]
    },
    {
      "cell_type": "code",
      "source": [
        "# Type your solution here\n"
      ],
      "metadata": {
        "id": "7bhfomBf21W3"
      },
      "execution_count": 37,
      "outputs": []
    },
    {
      "cell_type": "code",
      "source": [],
      "metadata": {
        "id": "WXXodJzu25Jg"
      },
      "execution_count": 37,
      "outputs": []
    },
    {
      "cell_type": "markdown",
      "metadata": {
        "id": "jtht7Jx421W4"
      },
      "source": [
        "##### <font color=\"gray\">**Click here to view the solution**<font color=\"white\"> </font>"
      ]
    },
    {
      "cell_type": "code",
      "source": [
        "def unique(numbers):\n",
        "\n",
        "  counts_dict = {}\n",
        "\n",
        "  min_n = min(numbers)\n",
        "  max_n = max(numbers)\n",
        "\n",
        "  for n in range(min_n, max_n+1):\n",
        "    count = numbers.count(n)\n",
        "    if count > 0:\n",
        "      counts_dict[n] = count\n",
        "\n",
        "  return counts_dict\n"
      ],
      "metadata": {
        "id": "JVnhoaptF2NG"
      },
      "execution_count": 38,
      "outputs": []
    },
    {
      "cell_type": "code",
      "source": [
        "counts_dict = unique(numbers)\n",
        "counts_dict"
      ],
      "metadata": {
        "id": "uGBum1TVF2Km",
        "colab": {
          "base_uri": "https://localhost:8080/"
        },
        "outputId": "f49ff797-37f6-42b9-f9b6-5f526b724f2b"
      },
      "execution_count": 39,
      "outputs": [
        {
          "output_type": "execute_result",
          "data": {
            "text/plain": [
              "{2: 3, 3: 4, 6: 3, 9: 3, 20: 1}"
            ]
          },
          "metadata": {},
          "execution_count": 39
        }
      ]
    },
    {
      "cell_type": "markdown",
      "metadata": {
        "id": "PLu1QwzCVFgW"
      },
      "source": [
        "#### <font color=\"magenta\">**Excercise 2:**</font> Write a function that accepts a list of tuples (each tuple contains a name and an age), and print that information neatly as follows:\n",
        "\n",
        "```\n",
        "input list: names = [('adam',29),(' emily',27),('charlie  ',31),('FRANK',28)]\n",
        "\n",
        "output print:\n",
        "NAME: Adam       AGE: 29\n",
        "NAME: Emily      AGE: 27\n",
        "NAME: Charlie    AGE: 31\n",
        "NAME: Frank      AGE: 28\n",
        "```\n",
        "\n",
        "Note: Make sure to capitalize the names and justify the text"
      ]
    },
    {
      "cell_type": "code",
      "execution_count": 33,
      "metadata": {
        "id": "Ia1W8gGMZjzT",
        "colab": {
          "base_uri": "https://localhost:8080/"
        },
        "outputId": "bdc0219e-96c5-4307-bf82-f853fdac7b51"
      },
      "outputs": [
        {
          "output_type": "execute_result",
          "data": {
            "text/plain": [
              "[('adam', 29), (' emily', 27), ('charlie  ', 31), ('FRANK', 28)]"
            ]
          },
          "metadata": {},
          "execution_count": 33
        }
      ],
      "source": [
        "names = [('adam',29),(' emily',27),('charlie  ',31),('FRANK',28)]\n",
        "names"
      ]
    },
    {
      "cell_type": "code",
      "source": [
        "# Type your solution here\n"
      ],
      "metadata": {
        "id": "IMG11ck15oUP"
      },
      "execution_count": null,
      "outputs": []
    },
    {
      "cell_type": "code",
      "source": [],
      "metadata": {
        "id": "Ke_i0xRa5oUQ"
      },
      "execution_count": null,
      "outputs": []
    },
    {
      "cell_type": "markdown",
      "metadata": {
        "id": "n-tt3iQu5oUQ"
      },
      "source": [
        "##### <font color=\"gray\">**Click here to view the solution**<font color=\"white\"> </font>"
      ]
    },
    {
      "cell_type": "code",
      "execution_count": 34,
      "metadata": {
        "id": "ske84xb3ZjuT"
      },
      "outputs": [],
      "source": [
        "def print_age(names):\n",
        "  for person in names:\n",
        "    print('NAME:', person[0].strip().capitalize().ljust(10), \"AGE:\", person[1])"
      ]
    },
    {
      "cell_type": "code",
      "execution_count": 35,
      "metadata": {
        "id": "AqzaAoLBZjq3",
        "colab": {
          "base_uri": "https://localhost:8080/"
        },
        "outputId": "fde41c4b-1c92-4977-97d1-f101c3a1d51b"
      },
      "outputs": [
        {
          "output_type": "stream",
          "name": "stdout",
          "text": [
            "NAME: Adam       AGE: 29\n",
            "NAME: Emily      AGE: 27\n",
            "NAME: Charlie    AGE: 31\n",
            "NAME: Frank      AGE: 28\n"
          ]
        }
      ],
      "source": [
        "print_age(names)"
      ]
    },
    {
      "cell_type": "markdown",
      "metadata": {
        "id": "fGHil-0n51W-"
      },
      "source": [
        "---\n",
        "# <a>**THE END**</a>"
      ]
    },
    {
      "cell_type": "markdown",
      "metadata": {
        "id": "OsmgJro7HOjq"
      },
      "source": [
        "## Upcoming Chapters:\n",
        "*   Manipulating data using the numpy & pandas libraries\n",
        "*   Visualizing data using the matplotlib library\n",
        "---"
      ]
    },
    {
      "cell_type": "markdown",
      "metadata": {
        "id": "VLVBIX5sMYsU"
      },
      "source": [
        "### Advanced Section (Optional):\n",
        "* List comprehension: An elegant way to create lists\n"
      ]
    },
    {
      "cell_type": "code",
      "execution_count": null,
      "metadata": {
        "colab": {
          "base_uri": "https://localhost:8080/"
        },
        "id": "QGHjhespeyyO",
        "outputId": "10e5413a-ac04-47f6-a079-1831c2497f41"
      },
      "outputs": [
        {
          "data": {
            "text/plain": [
              "[1, 2, 3, 4, 5]"
            ]
          },
          "execution_count": 35,
          "metadata": {},
          "output_type": "execute_result"
        }
      ],
      "source": [
        "# list comprehension\n",
        "mylist = [1,2,3,4,5]\n",
        "mylist"
      ]
    },
    {
      "cell_type": "code",
      "execution_count": null,
      "metadata": {
        "colab": {
          "base_uri": "https://localhost:8080/"
        },
        "id": "TMfybBMgW2qq",
        "outputId": "107c3d14-c94c-4394-e457-232ee66b175c"
      },
      "outputs": [
        {
          "data": {
            "text/plain": [
              "[11, 12, 13, 14, 15]"
            ]
          },
          "execution_count": 36,
          "metadata": {},
          "output_type": "execute_result"
        }
      ],
      "source": [
        "# add to  for loop section\n",
        "b = [ element+10 for element in mylist]\n",
        "b"
      ]
    },
    {
      "cell_type": "code",
      "execution_count": null,
      "metadata": {
        "colab": {
          "base_uri": "https://localhost:8080/"
        },
        "id": "CRCEhf96PpkA",
        "outputId": "2c45ad07-bd5e-4938-961f-3310a1bfeb3b"
      },
      "outputs": [
        {
          "name": "stdout",
          "output_type": "stream",
          "text": [
            "1\n",
            "2\n",
            "3\n",
            "4\n",
            "5\n"
          ]
        }
      ],
      "source": [
        "for element in mylist:\n",
        "  print(element)"
      ]
    },
    {
      "cell_type": "markdown",
      "metadata": {
        "id": "bDvuFS3dYC93"
      },
      "source": [
        "* Formatted string literals (also called f-strings for short) let you include the value of Python expressions inside a string by prefixing the string with f or F and writing expressions as {expression}."
      ]
    },
    {
      "cell_type": "code",
      "execution_count": null,
      "metadata": {
        "id": "Jj2LxyvTYDo4"
      },
      "outputs": [],
      "source": [
        "### Formatted strings (f-strings): let's you mix strings and variables\n"
      ]
    },
    {
      "cell_type": "markdown",
      "metadata": {
        "id": "8Lmx6V48yzfc"
      },
      "source": [
        "#### What are keywords?\n",
        "import\n",
        "from \n",
        "in \n",
        "for\n",
        "def\n",
        "while\n",
        "not\n",
        "and\n",
        "or\n",
        "\n",
        "\n",
        "yield\n",
        "except\n"
      ]
    }
  ],
  "metadata": {
    "colab": {
      "collapsed_sections": [
        "vZh0-Fwwj6IO",
        "iHMu_Dvw_pFs",
        "MPjaDSenRJKE",
        "rkEejKmDK4c-",
        "J2KpUy19XUGL",
        "8VHd5PmlXat1",
        "OC3gZFkTg7xg",
        "qVrmAmAvX-NW",
        "2HVgLj1rHWk0",
        "QIZ5lg4ZHynL",
        "zDDva1-dK28Y",
        "6BPYv7GSriww",
        "tCCFnhY_evbJ",
        "No24TUIW4sQP",
        "cw7Iw9OZg14a",
        "wH0NRUG9jPnb",
        "zhdJSmx0hjp9",
        "wLuvJCwKlVAC",
        "mxvjZPnvhcbl",
        "hRjaTRLozlgl",
        "dtKCaOPTxZzt",
        "5bN_mnjC-YFJ",
        "CGQXDUR4JN6o",
        "3yFgHcrljkZx",
        "gGt09-PEosuR",
        "PT2nVw8E6K4v",
        "X2kNmoX1sn3f",
        "bbNsNQnuzha_",
        "fIYTp5FswNw7",
        "0duajdDjHSfb",
        "JgVXfG06ePaz",
        "th-h34QTh0G4",
        "gFdAb72jiuyp",
        "ZED6F-UPAaQr",
        "Lf13th89C6ze",
        "_eRwHNUKZWSG",
        "8ke_iGYjVMBV",
        "tPxsc_agHSfl",
        "KmRsd1hTHSfm",
        "LF5oaCvDdcbj",
        "NAVJK1RiF1ix",
        "AkHIQ1_at723",
        "wbZfOhsfuXx8",
        "44mfIES73DkF",
        "18vae2Bvygan",
        "4c6x0QaFygJB",
        "qCwXKrwlvkf_",
        "gKuRV8t5wmVj",
        "PNVk1n6bf4OA",
        "kPnOl0QZ6q2l",
        "c3Uv9W2lkTqU",
        "x43AEiDolm3g",
        "1B6BQCRuZlRc",
        "ul3mI0aHHSf5",
        "PLqpzwQZHSf5",
        "XKN06PQX2t8x",
        "7bH3DfL-WSSD",
        "crcGFws0V57u",
        "kzC1t4LiY1Om",
        "cy04ay9g2uWC",
        "wqe5MYTkEMgV",
        "IgbVh7008cci",
        "GSpEfNdh12ef",
        "q3jBfkX1mmLH",
        "_QnfwOY_HSf6",
        "-Xzs-CA4vdTw",
        "nGtAPuWgHSf-",
        "HHejmKoTHSf_",
        "OxPnenr8YsFQ",
        "M8YoE9WyWmzO",
        "a5QTjG-EcL7a",
        "nA9Dww_gN6Ui",
        "WhqWdS2lVE0Z",
        "jtht7Jx421W4",
        "PLu1QwzCVFgW",
        "n-tt3iQu5oUQ"
      ],
      "provenance": []
    },
    "kernelspec": {
      "display_name": "Python 3",
      "name": "python3"
    },
    "language_info": {
      "name": "python"
    }
  },
  "nbformat": 4,
  "nbformat_minor": 0
}