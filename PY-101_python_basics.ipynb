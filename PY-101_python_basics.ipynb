{
  "cells": [
    {
      "cell_type": "markdown",
      "metadata": {
        "id": "vk3IjrwMHQnm"
      },
      "source": [
        "# <a>**PY-101: Introduction to Python & Machine Learning**</a>\n"
      ]
    },
    {
      "cell_type": "markdown",
      "metadata": {
        "id": "xfG8PH92ondE"
      },
      "source": [
        "---\n",
        "## **Course Content:**\n",
        "1. Python Basics (this notebook)\n",
        "<font color=\"gray\">\n",
        "2. Getting Started with:<font color=\"gray\">\n",
        "  - Numpy \n",
        "  - Pandas \n",
        "  - Matplotlib\n",
        "  - Scipy\n",
        "</font>\n",
        "3. Machine Learning: <font color=\"gray\">\n",
        "  * Linear regression\n",
        "  * Random forest\n",
        "  * Exercise 1: Well log prediction\n",
        "</font><font color=\"gray\">\n",
        "4. Deep Learning:\n",
        "  * Neural networks\n",
        "  * Exercise 2: Image classification\n",
        "</font>\n",
        "    \n",
        "---"
      ]
    },
    {
      "cell_type": "markdown",
      "source": [
        "# Notebook 1. Python Basics\n",
        "In this notebook, we will cover the following Python basics:\n",
        "0. Background information\n",
        "1. Built-in types\n",
        "2. Operations\n",
        "3. Built-in data structures\n",
        "4. Built-in functions\n",
        "5. Flow control\n",
        "6. Creating functions\n",
        "7. Bringing it all together\n",
        "\n",
        "Notes: \n",
        "* This notebook is self-explanatory with examples, definitinos and key points, read them carefully at your own pace.\n",
        "* You are not expected to absorb all the information presented in this notebook at once, but to use it as a future reference.\n",
        "\n",
        "\n",
        "Credit:\n",
        "\n",
        "* Some parts of this notebook are based on these resources, check them out for additional information:\n",
        "  -   [Official Python Tutorial](https://docs.python.org/3/tutorial/)\n",
        "  -   [The Python Standard Library](https://docs.python.org/3/library/index.html#library-index)\n",
        "\n",
        "\n",
        "* <font color=\"orange\">Author:</font> Obai Shaikh on October 02, 2022\n"
      ],
      "metadata": {
        "id": "sW6H2JrVJ8eh"
      }
    },
    {
      "cell_type": "markdown",
      "metadata": {
        "id": "vZh0-Fwwj6IO"
      },
      "source": [
        "---\n",
        "# <a>**0. Background Information**</a>"
      ]
    },
    {
      "cell_type": "markdown",
      "metadata": {
        "id": "HwQ4e2tPAVZj"
      },
      "source": [
        "## What is python?\n",
        "- Python is an easy to learn, powerful programming language\n",
        "- Designed for code readability\n",
        "- Strict use of syntax and indentation\n",
        "- Ideal for scripting and rapid application development\n",
        "---\n"
      ]
    },
    {
      "cell_type": "markdown",
      "metadata": {
        "id": "NTn7_m2DkWBv"
      },
      "source": [
        "## Code for free:\n",
        "The Python interpreter and the extensive standard library are freely available for all major platforms from the following sites:\n",
        "* [Python.org](https://www.python.org/)\n",
        "* [Anaconda](https://www.anaconda.com/)\n",
        "* [Pycharm](https://www.jetbrains.com/pycharm/)\n",
        "* [Google Colaboratory](https://colab.research.google.com/notebooks/intro.ipynb?utm_source=scs-index)\n",
        "---"
      ]
    },
    {
      "cell_type": "markdown",
      "metadata": {
        "id": "ldgkx0VeIPM0"
      },
      "source": [
        "## What is Google Colaboratory (colab)?\n",
        "* Colab was developed by Google, and all computations here are performed on the cloud\n",
        "* Colab comes with installed libraries, zero installations required\n",
        "* Friendly interface, similar to Jupyter Notebook\n",
        "* Notebooks are saved on Google Drive, and can be shared like Google Docs, Sheets, etc. Hence, Ideal for collaboration projects\n",
        "---"
      ]
    },
    {
      "cell_type": "markdown",
      "metadata": {
        "id": "_up0T2DGWVYn"
      },
      "source": [
        "## What is a colab/jupyter notebook?\n",
        "* A list of cells which can be executed spearately and out of order\n",
        "* A cell type can be either \"code\" or \"text\":\n",
        "  - Code: python code & display output\n",
        "  - Text: explanations & general text\n",
        "* All cells share the same namespace\n",
        "* Ideal interface for quick testing and implementations\n",
        "* Hold `shift` + press `enter` to execute a cell\n",
        "* Hold `ctrl` + press `/` to comment or uncomment line of code\n",
        "* if the last line of a code cell generates output, it will be displayed below that cell\n",
        "\n",
        "## What is a notebook's namespace?\n",
        "* Namespace refers to all variables (names) and their corresponding objects created within the notebook session.\n",
        "---"
      ]
    },
    {
      "cell_type": "markdown",
      "source": [
        "Run the following code to know which python version is installed on this Colab notebook..."
      ],
      "metadata": {
        "id": "P6As1PMnADtT"
      }
    },
    {
      "cell_type": "code",
      "execution_count": null,
      "metadata": {
        "colab": {
          "base_uri": "https://localhost:8080/"
        },
        "id": "0ibkHAUkt7cW",
        "outputId": "0897f60c-8abe-4357-b48d-19f43d79764f"
      },
      "outputs": [
        {
          "name": "stdout",
          "output_type": "stream",
          "text": [
            "3.7.4\n"
          ]
        }
      ],
      "source": [
        "from platform import python_version\n",
        "print(python_version())               # print Python's version"
      ]
    },
    {
      "cell_type": "markdown",
      "source": [
        "## Notes:\n",
        "* This tutorial is designed to be a reference notebook, you're not supposed to absorb all concepts in one-go.\n",
        "\n",
        "* You might encounter a concept of feature and you cannot think of a way to apply it now... that's fine. My purpose here is to expose you to as much of Python's features at least once, so you know they exist and you can look them up in the future.\n",
        "\n",
        "* For every coding problem you encounter in the future, it is most likely that someone, somewhere have attempted to solve it and posted a solution. Good programmers are good google-searcher."
      ],
      "metadata": {
        "id": "xhpbAK2d7hrf"
      }
    },
    {
      "cell_type": "markdown",
      "metadata": {
        "id": "iHMu_Dvw_pFs"
      },
      "source": [
        "---\n",
        "# <a>**1. Built-in Types**</a>"
      ]
    },
    {
      "cell_type": "markdown",
      "metadata": {
        "id": "A46qjN7dT35C"
      },
      "source": [
        "## What are built-in types?\n",
        "- Built-in types are the fundamental elements of Python to store data\n",
        "\n",
        "- In Python, the most common built-in types are:\n",
        "  * Constants: True, False, None\n",
        "  * Numerics: [int](https://docs.python.org/3/library/functions.html#int), [float](https://docs.python.org/3/library/functions.html#float), [complex](https://docs.python.org/3/library/functions.html#complex)\n",
        "  * Text Sequence: [str](https://docs.python.org/3/library/stdtypes.html#str)\n",
        "  * Sequences: [list](https://docs.python.org/3/library/stdtypes.html#list), [tuple](https://docs.python.org/3/library/stdtypes.html#tuple), [range](https://docs.python.org/3/library/stdtypes.html#range)\n",
        "  * Mappings: [dict](https://docs.python.org/3/library/stdtypes.html#dict)\n",
        "\n",
        "\n",
        "\n",
        "##### This section will describe *constants*, *Numerics*, and *Text Sequence* Types. *Sequences* and *Mappings* will be described in upcoming sections."
      ]
    },
    {
      "cell_type": "markdown",
      "metadata": {
        "id": "MPjaDSenRJKE"
      },
      "source": [
        "---\n",
        "## <font color=\"orange\">**1.1. Constants:** </font> True, False, None"
      ]
    },
    {
      "cell_type": "markdown",
      "metadata": {
        "id": "Sga9tMCHSSPn"
      },
      "source": [
        "### A few built-in constants live in the namespace. For example:\n",
        "* Boolean: True or False\n",
        "* NoneType: None"
      ]
    },
    {
      "cell_type": "markdown",
      "metadata": {
        "id": "NjSZGbp3XsJc"
      },
      "source": [
        "### <font color=\"lime\">**Boolean:**</font> Can be one of two values 'True' or 'False'"
      ]
    },
    {
      "cell_type": "code",
      "execution_count": null,
      "metadata": {
        "colab": {
          "base_uri": "https://localhost:8080/"
        },
        "id": "2KgN_USmjo3-",
        "outputId": "76de7d06-c008-41cc-d2f3-d935aee67135"
      },
      "outputs": [
        {
          "data": {
            "text/plain": [
              "True"
            ]
          },
          "execution_count": 3,
          "metadata": {},
          "output_type": "execute_result"
        }
      ],
      "source": [
        "True"
      ]
    },
    {
      "cell_type": "code",
      "execution_count": null,
      "metadata": {
        "colab": {
          "base_uri": "https://localhost:8080/"
        },
        "id": "C8nJpBWuRH_k",
        "outputId": "6b3ae228-022a-400b-c1d2-97c3454b99b9"
      },
      "outputs": [
        {
          "data": {
            "text/plain": [
              "False"
            ]
          },
          "execution_count": 4,
          "metadata": {},
          "output_type": "execute_result"
        }
      ],
      "source": [
        "False"
      ]
    },
    {
      "cell_type": "markdown",
      "metadata": {
        "id": "JHL1ArT2juy8"
      },
      "source": [
        "### <font color=\"lime\">**NoneType:**</font> An object used to represent the absence of a value"
      ]
    },
    {
      "cell_type": "code",
      "execution_count": null,
      "metadata": {
        "id": "KST4c1dBjvf1"
      },
      "outputs": [],
      "source": [
        "None"
      ]
    },
    {
      "cell_type": "markdown",
      "metadata": {
        "id": "rkEejKmDK4c-"
      },
      "source": [
        "---\n",
        "## <font color=\"orange\">**1.2. Numeric Types:**</font> int, float, complex\n"
      ]
    },
    {
      "cell_type": "markdown",
      "metadata": {
        "id": "9eCLODGhR7X4"
      },
      "source": [
        "### There are three distinct numeric types: \n",
        "* Integers\n",
        "* Floating point numbers\n",
        "* Complex numbers\n",
        "\n",
        "We declare variables using the equal sign `=` as follows,\n"
      ]
    },
    {
      "cell_type": "markdown",
      "metadata": {
        "id": "J2KpUy19XUGL"
      },
      "source": [
        "### <font color=\"lime\">**Integers:**</font> Numbers without a decimal place (example: `1`, `2`, `3`)"
      ]
    },
    {
      "cell_type": "code",
      "execution_count": null,
      "metadata": {
        "colab": {
          "base_uri": "https://localhost:8080/"
        },
        "id": "26Xuan_eLVEA",
        "outputId": "c3397ca3-6226-42c4-e9e7-31169bb75729"
      },
      "outputs": [
        {
          "data": {
            "text/plain": [
              "2"
            ]
          },
          "execution_count": 6,
          "metadata": {},
          "output_type": "execute_result"
        }
      ],
      "source": [
        "# Comments starts with a hashtage, and are not executed\n",
        "x = 2        # this is an integer\n",
        "x            # you can print a single variable, if it is alone in the bottom line of the cell\n",
        "# even if there is a comment below it"
      ]
    },
    {
      "cell_type": "markdown",
      "metadata": {
        "id": "myZcp-xfO1mC"
      },
      "source": [
        "Note: The variable \"x\" is now stored in the namespace with a value of 2, and is available to all cells within this notebook during this session.\n",
        "\n",
        "--- "
      ]
    },
    {
      "cell_type": "markdown",
      "metadata": {
        "id": "8VHd5PmlXat1"
      },
      "source": [
        "### <font color=\"lime\">**Floating point:**</font> Numbers with decimal points (example: `1.0`, `1.1`, `1.2`)"
      ]
    },
    {
      "cell_type": "code",
      "execution_count": 35,
      "metadata": {
        "colab": {
          "base_uri": "https://localhost:8080/"
        },
        "id": "h8QucGXtGzBi",
        "outputId": "25e6aa71-6164-46f4-a69b-2f3bd2a6ce7b"
      },
      "outputs": [
        {
          "output_type": "execute_result",
          "data": {
            "text/plain": [
              "10.0"
            ]
          },
          "metadata": {},
          "execution_count": 35
        }
      ],
      "source": [
        "y = 10.0      # this is a float\n",
        "y"
      ]
    },
    {
      "cell_type": "markdown",
      "metadata": {
        "id": "v1whKJZHRgHw"
      },
      "source": [
        "Note: Floating point numbers get their name from the way the decimal point can \"float\" to any position.\n",
        "\n",
        "---"
      ]
    },
    {
      "cell_type": "markdown",
      "metadata": {
        "id": "OC3gZFkTg7xg"
      },
      "source": [
        "### <font color=\"lime\">**Complex:**</font> Numbers with real and imaginary parts, which are each a floating point number (example: `1.1+2.3j`)"
      ]
    },
    {
      "cell_type": "code",
      "execution_count": null,
      "metadata": {
        "colab": {
          "base_uri": "https://localhost:8080/"
        },
        "id": "0QM8KVgvn4Xl",
        "outputId": "620094b7-de45-4de9-8a3a-cd6bc234ce74"
      },
      "outputs": [
        {
          "data": {
            "text/plain": [
              "(1.1+2.3j)"
            ]
          },
          "execution_count": 9,
          "metadata": {},
          "output_type": "execute_result"
        }
      ],
      "source": [
        "# Creating a complex number:\n",
        "z = 1.1 + 2.3j\n",
        "z"
      ]
    },
    {
      "cell_type": "markdown",
      "metadata": {
        "id": "qVrmAmAvX-NW"
      },
      "source": [
        "---\n",
        "## <font color=\"orange\">**1.3. Text Sequence Type:**<font color=\"white\"> str</font>"
      ]
    },
    {
      "cell_type": "markdown",
      "metadata": {
        "id": "BNM-Oh-6QscE"
      },
      "source": [
        "Textual data in Python is handled with `str` objects a.k.a. strings."
      ]
    },
    {
      "cell_type": "markdown",
      "metadata": {
        "id": "1_55mmGtUslV"
      },
      "source": [
        "### <font color=\"lime\">**Strings:**<font color=\"white\"> Immutable Text Sequence </font>\n",
        "\n",
        "#### Definition: Sequence of text characters written as:\n",
        "    - Single quotes: `'allows embedded \"double\" quotes'`\n",
        "    - Double quotes: `\"allows embedded 'single' quotes\"`\n",
        "    - Triple quoted: `'''Three single quotes'''`, `\"\"\"Three double quotes\"\"\"`\n",
        "\n",
        "Once created, Python strings cannot be changed — they are immutable"
      ]
    },
    {
      "cell_type": "markdown",
      "metadata": {
        "id": "2HVgLj1rHWk0"
      },
      "source": [
        "#### <font color=\"cyan\">**Examples:**</font> Creating strings"
      ]
    },
    {
      "cell_type": "code",
      "execution_count": null,
      "metadata": {
        "colab": {
          "base_uri": "https://localhost:8080/",
          "height": 35
        },
        "id": "fBII7djEOn--",
        "outputId": "76dbb994-e73e-46a2-93cb-b246a503c7fe"
      },
      "outputs": [
        {
          "data": {
            "text/plain": [
              "'Hello'"
            ]
          },
          "execution_count": 10,
          "metadata": {},
          "output_type": "execute_result"
        }
      ],
      "source": [
        "name = 'Hello'   # this is a string\n",
        "# 'Hello' is the same as \"Hello\"\n",
        "name"
      ]
    },
    {
      "cell_type": "code",
      "execution_count": null,
      "metadata": {
        "colab": {
          "base_uri": "https://localhost:8080/",
          "height": 35
        },
        "id": "MvSiq7_F8b0X",
        "outputId": "e3087001-377b-4274-aadd-72515765b699"
      },
      "outputs": [
        {
          "data": {
            "text/plain": [
              "'you can \"do\" this'"
            ]
          },
          "execution_count": 11,
          "metadata": {},
          "output_type": "execute_result"
        }
      ],
      "source": [
        "# 'Single' and \"double\" quotes are used interchangeably \n",
        "'you can \"do\" this'"
      ]
    },
    {
      "cell_type": "code",
      "execution_count": null,
      "metadata": {
        "colab": {
          "base_uri": "https://localhost:8080/",
          "height": 35
        },
        "id": "jcaDQkco81FV",
        "outputId": "9c3aa60e-8f53-4f6a-8c4f-d69747d9e62e"
      },
      "outputs": [
        {
          "data": {
            "text/plain": [
              "\"or you can 'do' this\""
            ]
          },
          "execution_count": 12,
          "metadata": {},
          "output_type": "execute_result"
        }
      ],
      "source": [
        "\"or you can 'do' this\""
      ]
    },
    {
      "cell_type": "code",
      "execution_count": null,
      "metadata": {
        "colab": {
          "base_uri": "https://localhost:8080/",
          "height": 35
        },
        "id": "YoXUjxFbacL5",
        "outputId": "74380c3e-8b63-4330-bef9-d3336d3bb10b"
      },
      "outputs": [
        {
          "data": {
            "text/plain": [
              "\"doesn't\""
            ]
          },
          "execution_count": 13,
          "metadata": {},
          "output_type": "execute_result"
        }
      ],
      "source": [
        "# Note: Use backslash ( \\ ) to escape quotes (Good to know, but I rarely use this)\n",
        "a = 'doesn\\'t'    # with slash\n",
        "b = \"doesn't\"     # without slash\n",
        "a"
      ]
    },
    {
      "cell_type": "code",
      "execution_count": null,
      "metadata": {
        "colab": {
          "base_uri": "https://localhost:8080/",
          "height": 35
        },
        "id": "kVdcpxdVEnSC",
        "outputId": "9873a067-6023-41d5-ccc7-3ca06134ebdf"
      },
      "outputs": [
        {
          "data": {
            "text/plain": [
              "'abc'"
            ]
          },
          "execution_count": 14,
          "metadata": {},
          "output_type": "execute_result"
        }
      ],
      "source": [
        "\"\"\"abc\"\"\""
      ]
    },
    {
      "cell_type": "code",
      "execution_count": null,
      "metadata": {
        "colab": {
          "base_uri": "https://localhost:8080/",
          "height": 35
        },
        "id": "seiD4uXfMElS",
        "outputId": "2513d4ae-3c68-4c7f-8cca-90e0b56c3443"
      },
      "outputs": [
        {
          "data": {
            "text/plain": [
              "'Python'"
            ]
          },
          "execution_count": 15,
          "metadata": {},
          "output_type": "execute_result"
        }
      ],
      "source": [
        "# Two or more string literals next to each other are automatically concatenated.\n",
        "'Py' 'thon'  # equivalent to 'Py' + 'thon'"
      ]
    },
    {
      "cell_type": "markdown",
      "metadata": {
        "id": "QIZ5lg4ZHynL"
      },
      "source": [
        "#### <font color=\"cyan\">**Examples:**</font> String Methods"
      ]
    },
    {
      "cell_type": "markdown",
      "source": [
        "* Methods are built-in functions exclusive to a certain class\n",
        "* A string is a class with unique methods. The follwoing table list some of them:\n",
        "\n",
        "\n",
        "| Method | Action|\n",
        "|----|----|\n",
        "| `str.capitalize()` |capitalize 1st character & lowercase the rest|\n",
        "| `str.upper()` |uppercase all characters|\n",
        "| `str.lower()`  |lowercase all characters|\n",
        "| `str.isupper()`  |return `True` if all characters are uppercase|\n",
        "| `str.islower()` |return `True` if all characters are lowercase|\n",
        "| `str.strip()` |remove leading and trailing whitespaces|\n",
        "| `str.ljust(n)` |return the `str` left-justified in a string of length *n*|\n",
        "| `str.rjust(n)` |return the `str` right-justified in a string of length *n*|\n"
      ],
      "metadata": {
        "id": "Pf7-iX5lItfn"
      }
    },
    {
      "cell_type": "code",
      "source": [
        "# create a string\n",
        "string = \"python     \" \n",
        "string"
      ],
      "metadata": {
        "colab": {
          "base_uri": "https://localhost:8080/",
          "height": 35
        },
        "id": "gUC8PsAHIOX3",
        "outputId": "ee84a30e-9d99-4c2f-faeb-999c594783b2"
      },
      "execution_count": null,
      "outputs": [
        {
          "output_type": "execute_result",
          "data": {
            "text/plain": [
              "'python     '"
            ],
            "application/vnd.google.colaboratory.intrinsic+json": {
              "type": "string"
            }
          },
          "metadata": {},
          "execution_count": 20
        }
      ]
    },
    {
      "cell_type": "code",
      "source": [
        "string.capitalize()         # first letter is capitalized"
      ],
      "metadata": {
        "colab": {
          "base_uri": "https://localhost:8080/",
          "height": 35
        },
        "id": "edXLgu47IOUa",
        "outputId": "3d66f30c-06d7-4526-b8ad-ec61887b7ea2"
      },
      "execution_count": null,
      "outputs": [
        {
          "output_type": "execute_result",
          "data": {
            "text/plain": [
              "'Python     '"
            ],
            "application/vnd.google.colaboratory.intrinsic+json": {
              "type": "string"
            }
          },
          "metadata": {},
          "execution_count": 21
        }
      ]
    },
    {
      "cell_type": "code",
      "source": [
        "string.upper()              # all letters uppercased"
      ],
      "metadata": {
        "colab": {
          "base_uri": "https://localhost:8080/",
          "height": 35
        },
        "id": "lTRHsW37IOQ9",
        "outputId": "274775ed-5b3a-42a0-bb84-17707df0ba70"
      },
      "execution_count": null,
      "outputs": [
        {
          "output_type": "execute_result",
          "data": {
            "text/plain": [
              "'PYTHON     '"
            ],
            "application/vnd.google.colaboratory.intrinsic+json": {
              "type": "string"
            }
          },
          "metadata": {},
          "execution_count": 22
        }
      ]
    },
    {
      "cell_type": "code",
      "source": [
        "string.islower()            # check if all letters are lowercase"
      ],
      "metadata": {
        "colab": {
          "base_uri": "https://localhost:8080/"
        },
        "id": "R6WnQiuiIOHd",
        "outputId": "aea4554c-0654-4396-a85c-907abe39c3bc"
      },
      "execution_count": null,
      "outputs": [
        {
          "output_type": "execute_result",
          "data": {
            "text/plain": [
              "True"
            ]
          },
          "metadata": {},
          "execution_count": 23
        }
      ]
    },
    {
      "cell_type": "code",
      "source": [
        "string = string.strip()     # whitespaces removed\n",
        "string"
      ],
      "metadata": {
        "colab": {
          "base_uri": "https://localhost:8080/",
          "height": 35
        },
        "id": "pmjy2fJOL0m-",
        "outputId": "6f5e5e1b-ab50-4689-9aae-2ee7c4df4c89"
      },
      "execution_count": null,
      "outputs": [
        {
          "output_type": "execute_result",
          "data": {
            "text/plain": [
              "'python'"
            ],
            "application/vnd.google.colaboratory.intrinsic+json": {
              "type": "string"
            }
          },
          "metadata": {},
          "execution_count": 24
        }
      ]
    },
    {
      "cell_type": "code",
      "source": [
        "string.ljust(8)             # left-justified"
      ],
      "metadata": {
        "colab": {
          "base_uri": "https://localhost:8080/",
          "height": 35
        },
        "id": "Wq3kRBWT0kfM",
        "outputId": "91137ab9-5ba5-4fb8-b9bd-895d1b57511c"
      },
      "execution_count": null,
      "outputs": [
        {
          "output_type": "execute_result",
          "data": {
            "text/plain": [
              "'python  '"
            ],
            "application/vnd.google.colaboratory.intrinsic+json": {
              "type": "string"
            }
          },
          "metadata": {},
          "execution_count": 25
        }
      ]
    },
    {
      "cell_type": "code",
      "source": [
        "string.rjust(8)             # right-justified"
      ],
      "metadata": {
        "colab": {
          "base_uri": "https://localhost:8080/",
          "height": 35
        },
        "id": "frXhI5ti0p14",
        "outputId": "6744040e-785a-4406-d2ad-f45098e3719c"
      },
      "execution_count": null,
      "outputs": [
        {
          "output_type": "execute_result",
          "data": {
            "text/plain": [
              "'  python'"
            ],
            "application/vnd.google.colaboratory.intrinsic+json": {
              "type": "string"
            }
          },
          "metadata": {},
          "execution_count": 27
        }
      ]
    },
    {
      "cell_type": "markdown",
      "source": [
        "---\n",
        "## Key Points of Built-in Types:\n",
        "* The Python predefined constants are `True`, `False`, and `None` \n",
        "* The difference between `int` and `float` is the dot `.`\n",
        "* Methods are built-in functions exclusive to a certain class, such as string methods which are exclusive to strings"
      ],
      "metadata": {
        "id": "B8OGGcpO-CGL"
      }
    },
    {
      "cell_type": "markdown",
      "metadata": {
        "id": "zDDva1-dK28Y"
      },
      "source": [
        "---\n",
        "# <a>**2. Operations**</a>"
      ]
    },
    {
      "cell_type": "markdown",
      "metadata": {
        "id": "VxvqvzWtSjJB"
      },
      "source": [
        "###### In this section, we will learn how to operate on the built-in types that we have seen so far.\n",
        "\n",
        "###### Some operations are supported by several object types. For example, all objects can be:\n",
        "* Compared for equality\n",
        "* Converted to a string\n",
        "* Tested for truth value:\n",
        "  - for use in `if` or `while` condition\n",
        "  - for use as an operand of Boolean operations below\n",
        "  - by default, an object is considered `True` unless it has a method which returns `False` such as an empty array returning `0` length.\n"
      ]
    },
    {
      "cell_type": "markdown",
      "metadata": {
        "id": "6BPYv7GSriww"
      },
      "source": [
        "---\n",
        "## <font color=\"orange\">**2.1. Boolean Operations:**</font> and, or, not\n"
      ]
    },
    {
      "cell_type": "markdown",
      "metadata": {
        "id": "4kK-xBgPy7EE"
      },
      "source": [
        "These are the Boolean operations, ordered by ascending priority:\n",
        "\n",
        "| Operation | Action| Notes |\n",
        "|----|----|----|\n",
        "| `x or y` |if x is false, then y, else x| (1) |\n",
        "| `x and y` |if x is false , then x, else y| (2) |\n",
        "| `not x`  |if x is false, then `True`, else `False`|    |\n",
        "\n",
        "\n",
        "Notes:\n",
        "1. This is a short-circuit operator, so it only evaluates the second argument if the first one is false.\n",
        "2. This is a short-circuit operator, so it only evaluates the second argument if the first one is true.\n",
        "\n",
        "In Python, the following built-in objects are considered False:\n",
        "* Constants defined to be false: `None` and `False`\n",
        "* zero of any numeric type: `0`, `0.0`, `0j`\n",
        "* empty sequences and collections: `''`, `()`, `[]`, `{}`, `set()`, `range(0)`\n",
        "\n",
        "In Python, all \"non-empty\" objects are considered True"
      ]
    },
    {
      "cell_type": "code",
      "execution_count": null,
      "metadata": {
        "id": "zRxDsgcVWZWq"
      },
      "outputs": [],
      "source": [
        "# The following objects are considered false \n",
        "false = False\n",
        "zero_int = 0\n",
        "zero_float = 0.0\n",
        "empty_str = \"\""
      ]
    },
    {
      "cell_type": "code",
      "execution_count": null,
      "metadata": {
        "id": "7zQmT8uIrqHQ"
      },
      "outputs": [],
      "source": [
        "# The following objects are considered true\n",
        "true = True\n",
        "any_int = 1\n",
        "any_float = 5.2\n",
        "any_str = \"nonzero_string\""
      ]
    },
    {
      "cell_type": "markdown",
      "metadata": {
        "id": "tCCFnhY_evbJ"
      },
      "source": [
        "#### <font color=\"cyan\">**Examples:**</font> The \"and\" operator"
      ]
    },
    {
      "cell_type": "code",
      "execution_count": null,
      "metadata": {
        "colab": {
          "base_uri": "https://localhost:8080/",
          "height": 36
        },
        "id": "TQzzDTxf3bku",
        "outputId": "c933182c-e2fc-443c-f227-e8cb52e3b895"
      },
      "outputs": [
        {
          "data": {
            "text/plain": [
              "''"
            ]
          },
          "execution_count": 22,
          "metadata": {},
          "output_type": "execute_result"
        }
      ],
      "source": [
        "# expression1 \"and\" expression2\n",
        "# When expression1 is FALSE, return expression1 regardless of expression2 (short-circuit)\n",
        "empty_str and any_str"
      ]
    },
    {
      "cell_type": "code",
      "execution_count": null,
      "metadata": {
        "colab": {
          "base_uri": "https://localhost:8080/",
          "height": 36
        },
        "id": "UPETgKCMUr67",
        "outputId": "2284bf9c-d6e2-4ae3-fcf7-79471196e8d0"
      },
      "outputs": [
        {
          "data": {
            "text/plain": [
              "'nonzero_string'"
            ]
          },
          "execution_count": 23,
          "metadata": {},
          "output_type": "execute_result"
        }
      ],
      "source": [
        "# When expression1 is TRUE, return expression2\n",
        "any_int and any_str"
      ]
    },
    {
      "cell_type": "markdown",
      "metadata": {
        "id": "No24TUIW4sQP"
      },
      "source": [
        "#### <font color=\"cyan\">**Examples:**</font> The \"or\" operator"
      ]
    },
    {
      "cell_type": "code",
      "execution_count": null,
      "metadata": {
        "colab": {
          "base_uri": "https://localhost:8080/"
        },
        "id": "THqme3UR5CNv",
        "outputId": "78caf759-b512-4b07-c0a2-ce8b4be57fc0"
      },
      "outputs": [
        {
          "data": {
            "text/plain": [
              "1"
            ]
          },
          "execution_count": 20,
          "metadata": {},
          "output_type": "execute_result"
        }
      ],
      "source": [
        "# expression1 \"or\" expression2\n",
        "# When expression1 is TRUE, return expression1 regardless of expression2 (short-circuit)\n",
        "any_int or any_float"
      ]
    },
    {
      "cell_type": "code",
      "execution_count": null,
      "metadata": {
        "colab": {
          "base_uri": "https://localhost:8080/"
        },
        "id": "JhpE3vIW5TRz",
        "outputId": "5b6680a6-f3be-43df-c753-733a0a1c7447"
      },
      "outputs": [
        {
          "data": {
            "text/plain": [
              "0.0"
            ]
          },
          "execution_count": 21,
          "metadata": {},
          "output_type": "execute_result"
        }
      ],
      "source": [
        "# When expression1 is FALSE, return expression2\n",
        "zero_int or zero_float"
      ]
    },
    {
      "cell_type": "markdown",
      "metadata": {
        "id": "cw7Iw9OZg14a"
      },
      "source": [
        "#### <font color=\"cyan\">**Examples:**</font> The \"not\" operator"
      ]
    },
    {
      "cell_type": "code",
      "execution_count": null,
      "metadata": {
        "colab": {
          "base_uri": "https://localhost:8080/"
        },
        "id": "BHEZVrSFcsv0",
        "outputId": "7e1542b0-09cf-4ce1-f541-2331d27cc468"
      },
      "outputs": [
        {
          "data": {
            "text/plain": [
              "True"
            ]
          },
          "execution_count": 24,
          "metadata": {},
          "output_type": "execute_result"
        }
      ],
      "source": [
        "# \"not\" expression: returns true or false\n",
        "# flips expression from FALSE to TRUE\n",
        "not false"
      ]
    },
    {
      "cell_type": "code",
      "execution_count": null,
      "metadata": {
        "colab": {
          "base_uri": "https://localhost:8080/"
        },
        "id": "tPftQbqpbeoz",
        "outputId": "b6c48079-f823-438c-8e91-ff1ec13edb6f"
      },
      "outputs": [
        {
          "data": {
            "text/plain": [
              "False"
            ]
          },
          "execution_count": 25,
          "metadata": {},
          "output_type": "execute_result"
        }
      ],
      "source": [
        "# flips expression from TRUE to FALSE\n",
        "not true"
      ]
    },
    {
      "cell_type": "markdown",
      "metadata": {
        "id": "wH0NRUG9jPnb"
      },
      "source": [
        "#### <font color=\"cyan\">**Examples:**</font> Combining boolean operators"
      ]
    },
    {
      "cell_type": "code",
      "execution_count": null,
      "metadata": {
        "colab": {
          "base_uri": "https://localhost:8080/"
        },
        "id": "20Nx71ScfjpR",
        "outputId": "bd0e26ef-1aa0-4327-f046-93594be7ed92"
      },
      "outputs": [
        {
          "data": {
            "text/plain": [
              "True"
            ]
          },
          "execution_count": 26,
          "metadata": {},
          "output_type": "execute_result"
        }
      ],
      "source": [
        "# combining \"and\" and \"not\"\n",
        "any_str and not empty_str        # equivalent to: any_str and (not empty_str)"
      ]
    },
    {
      "cell_type": "code",
      "execution_count": null,
      "metadata": {
        "colab": {
          "base_uri": "https://localhost:8080/"
        },
        "id": "u-dBVQFDf0GZ",
        "outputId": "595e734e-c559-47ff-fce7-aa708be9675d"
      },
      "outputs": [
        {
          "data": {
            "text/plain": [
              "True"
            ]
          },
          "execution_count": 27,
          "metadata": {},
          "output_type": "execute_result"
        }
      ],
      "source": [
        "not any_int or not zero_int     # equivalent to: any_str and (not empty_str)"
      ]
    },
    {
      "cell_type": "markdown",
      "metadata": {
        "id": "zhdJSmx0hjp9"
      },
      "source": [
        "---\n",
        "## <font color=\"orange\">**2.2. Comparison Operations:**</font> 8 comparison operations\n"
      ]
    },
    {
      "cell_type": "markdown",
      "metadata": {
        "id": "84FwrwlEnk8Z"
      },
      "source": [
        "#### These 8 operations have equal priority (which is higher than that of the Boolean operations):\n",
        "\n",
        "| Operation | Action|\n",
        "|----|----|\n",
        "| `==` |is equal|\n",
        "| `!=` |not equal|\n",
        "| `<`  |less than   |\n",
        "| `>`  |greater than|\n",
        "| `<=` |less than or equal to|\n",
        "| `>=` |greater than or equal to|\n",
        "| `is` |object identity   |\n",
        "| `is not`|negated object identity |\n",
        "\n",
        "Notes:\n",
        "* Comparisons can be chained arbitrarily, for example, `x < y <= z` is equivalent to `x < y and y <= z`\n",
        "* For some objects, `==` is equivalent to `is`\n",
        "* `<`, `<=`, `>` and `>=` are only defined where they make sense"
      ]
    },
    {
      "cell_type": "markdown",
      "metadata": {
        "id": "wLuvJCwKlVAC"
      },
      "source": [
        "#### <font color=\"cyan\">**Examples:**</font> Comparison operators"
      ]
    },
    {
      "cell_type": "code",
      "execution_count": 37,
      "metadata": {
        "colab": {
          "base_uri": "https://localhost:8080/"
        },
        "id": "934aLOuYfa7_",
        "outputId": "b1ab0a66-31f4-4cb3-f83b-a675571ebba9"
      },
      "outputs": [
        {
          "output_type": "execute_result",
          "data": {
            "text/plain": [
              "True"
            ]
          },
          "metadata": {},
          "execution_count": 37
        }
      ],
      "source": [
        "# 1. is equal\n",
        "4 == 4          # 4 is equal to 4? True"
      ]
    },
    {
      "cell_type": "code",
      "execution_count": 38,
      "metadata": {
        "colab": {
          "base_uri": "https://localhost:8080/"
        },
        "id": "8a7vFv5Mfa19",
        "outputId": "b9a78166-b659-4858-b545-769e90fed465"
      },
      "outputs": [
        {
          "output_type": "execute_result",
          "data": {
            "text/plain": [
              "False"
            ]
          },
          "metadata": {},
          "execution_count": 38
        }
      ],
      "source": [
        "# 2. not equal\n",
        "4 != 4          # 4 is not equal to 4? False"
      ]
    },
    {
      "cell_type": "code",
      "execution_count": null,
      "metadata": {
        "colab": {
          "base_uri": "https://localhost:8080/"
        },
        "id": "nlw2ccXskTrY",
        "outputId": "28846137-2256-4fac-98ab-9599212dc638"
      },
      "outputs": [
        {
          "data": {
            "text/plain": [
              "True"
            ]
          },
          "execution_count": 30,
          "metadata": {},
          "output_type": "execute_result"
        }
      ],
      "source": [
        "# 3. less than \n",
        "-4 < 4"
      ]
    },
    {
      "cell_type": "code",
      "execution_count": null,
      "metadata": {
        "colab": {
          "base_uri": "https://localhost:8080/"
        },
        "id": "vwZFooKfvFbL",
        "outputId": "ce7623f1-3dbc-4f36-cf3c-1d052bf8ec2e"
      },
      "outputs": [
        {
          "data": {
            "text/plain": [
              "True"
            ]
          },
          "execution_count": 31,
          "metadata": {},
          "output_type": "execute_result"
        }
      ],
      "source": [
        "# 4. chained comparison\n",
        "1 < 5 <= 10     # equivalent to 1 < 5 and 5 <= 10"
      ]
    },
    {
      "cell_type": "code",
      "execution_count": null,
      "metadata": {
        "colab": {
          "base_uri": "https://localhost:8080/"
        },
        "id": "yDdUwU7flAjj",
        "outputId": "f520ae4a-6aaa-4d89-fefe-c826b0b37148"
      },
      "outputs": [
        {
          "data": {
            "text/plain": [
              "True"
            ]
          },
          "execution_count": 32,
          "metadata": {},
          "output_type": "execute_result"
        }
      ],
      "source": [
        "# 5. The \"is\" operator\n",
        "4 is 4"
      ]
    },
    {
      "cell_type": "code",
      "execution_count": null,
      "metadata": {
        "colab": {
          "base_uri": "https://localhost:8080/"
        },
        "id": "eAu9NaBllJFD",
        "outputId": "7c514dd4-fceb-40d5-c84e-0be252ea7983"
      },
      "outputs": [
        {
          "data": {
            "text/plain": [
              "False"
            ]
          },
          "execution_count": 33,
          "metadata": {},
          "output_type": "execute_result"
        }
      ],
      "source": [
        "# like saying: 4 (int) is the same as 4 (float)? No\n",
        "4 is 4.0"
      ]
    },
    {
      "cell_type": "markdown",
      "source": [
        "* `is` is not the same as `==`"
      ],
      "metadata": {
        "id": "JL0UM_hVEIOU"
      }
    },
    {
      "cell_type": "code",
      "execution_count": null,
      "metadata": {
        "colab": {
          "base_uri": "https://localhost:8080/"
        },
        "id": "diV7Z7lhlI8t",
        "outputId": "8bd5e7a9-21e6-4aaa-ece4-105a7771e533"
      },
      "outputs": [
        {
          "data": {
            "text/plain": [
              "True"
            ]
          },
          "execution_count": 34,
          "metadata": {},
          "output_type": "execute_result"
        }
      ],
      "source": [
        "# 6. The \"is not\" operator\n",
        "4 is not 4.0"
      ]
    },
    {
      "cell_type": "code",
      "execution_count": null,
      "metadata": {
        "id": "wmTdwmZ2lCpe"
      },
      "outputs": [],
      "source": [
        "# Note: comparisons only work where they make sense\n",
        "# 4 > \"abc\"       # integer > string, will raise an error\n",
        "# 4 > 1j          # integer > complex, will raise an error"
      ]
    },
    {
      "cell_type": "markdown",
      "metadata": {
        "id": "mxvjZPnvhcbl"
      },
      "source": [
        "---\n",
        "## <font color=\"orange\">**2.3. Math Operations:**</font>\n"
      ]
    },
    {
      "cell_type": "markdown",
      "metadata": {
        "id": "gSchGLYqR9su"
      },
      "source": [
        "#### All numeric types (except complex) support the following operations: \n",
        "\n",
        "| Operation | Result|\n",
        "|----|----|\n",
        "| `x + y`  |sum of x and y|\n",
        "| `x - y`  |difference of x and y|\n",
        "| `x * y`  |product of x and y|\n",
        "| `x / y`  |quotient of x and y|\n",
        "| `x // y` |floored quotient of x and y|\n",
        "| `x % y`  |remainder of `x/y` |\n",
        "| `-x`  |x negated    |\n",
        "| `+x`  |x unchanged  |\n",
        "| `abs(x)`  |absolute value of x   |\n",
        "| `int(x)`  |x converted to integer|\n",
        "| `float(x)`  |x converted to floating point|\n",
        "| `complex(re, im)`  |complex number with real part `re`, imaginary part `im`. `im` defaults to zero.|\n",
        "| `c.conjugate()`  |conjugate of complex number `c`|\n",
        "| `divmod(x, y)`  |the pair(`x//y`, `x%y`)|\n",
        "| `pow(x, y)`  |x to the power y|\n",
        "| `x ** y` |x to the power y|"
      ]
    },
    {
      "cell_type": "markdown",
      "metadata": {
        "id": "HfgFWGsJrxoK"
      },
      "source": [
        "#### <font color=\"cyan\">**Examples:**</font> Math operators"
      ]
    },
    {
      "cell_type": "code",
      "execution_count": null,
      "metadata": {
        "colab": {
          "base_uri": "https://localhost:8080/"
        },
        "id": "DnOAuwggQ9SH",
        "outputId": "a3b3f183-995a-45cd-df35-0f64a5374412"
      },
      "outputs": [
        {
          "data": {
            "text/plain": [
              "4"
            ]
          },
          "execution_count": 37,
          "metadata": {},
          "output_type": "execute_result"
        }
      ],
      "source": [
        "# We can use python as a calculator...\n",
        "2 + 2"
      ]
    },
    {
      "cell_type": "code",
      "execution_count": null,
      "metadata": {
        "colab": {
          "base_uri": "https://localhost:8080/"
        },
        "id": "2Ex0ala2Q9a2",
        "outputId": "6de57c7c-e3a0-4522-fbe8-7818c1c3195c"
      },
      "outputs": [
        {
          "data": {
            "text/plain": [
              "9"
            ]
          },
          "execution_count": 38,
          "metadata": {},
          "output_type": "execute_result"
        }
      ],
      "source": [
        "# Use () for grouping\n",
        "(5 - 2) * 3"
      ]
    },
    {
      "cell_type": "code",
      "execution_count": null,
      "metadata": {
        "colab": {
          "base_uri": "https://localhost:8080/"
        },
        "id": "hU8aDQWRQ9eO",
        "outputId": "25adc94b-e29e-4a71-8ad5-5a0cc29f7ddc"
      },
      "outputs": [
        {
          "data": {
            "text/plain": [
              "3.3333333333333335"
            ]
          },
          "execution_count": 39,
          "metadata": {},
          "output_type": "execute_result"
        }
      ],
      "source": [
        "# Division always returns a floating point number\n",
        "10 / 3"
      ]
    },
    {
      "cell_type": "code",
      "execution_count": null,
      "metadata": {
        "colab": {
          "base_uri": "https://localhost:8080/"
        },
        "id": "3GG9yJfKQ9h-",
        "outputId": "a28d0dc2-3617-4f4b-b830-3ef7d468c121"
      },
      "outputs": [
        {
          "data": {
            "text/plain": [
              "2"
            ]
          },
          "execution_count": 40,
          "metadata": {},
          "output_type": "execute_result"
        }
      ],
      "source": [
        "# Floor division ignores decimal places\n",
        "7 // 3"
      ]
    },
    {
      "cell_type": "code",
      "execution_count": null,
      "metadata": {
        "colab": {
          "base_uri": "https://localhost:8080/"
        },
        "id": "0LXAuW9iQ9lG",
        "outputId": "be774573-3ca7-4661-edc4-d06eec5cd28e"
      },
      "outputs": [
        {
          "data": {
            "text/plain": [
              "1"
            ]
          },
          "execution_count": 41,
          "metadata": {},
          "output_type": "execute_result"
        }
      ],
      "source": [
        "# To calculate the remainder, use %\n",
        "7 % 3"
      ]
    },
    {
      "cell_type": "code",
      "execution_count": null,
      "metadata": {
        "colab": {
          "base_uri": "https://localhost:8080/"
        },
        "id": "G6LCwR7uQ9rW",
        "outputId": "d5593a38-5922-4e40-d3a3-2fd8a977c433"
      },
      "outputs": [
        {
          "data": {
            "text/plain": [
              "25"
            ]
          },
          "execution_count": 42,
          "metadata": {},
          "output_type": "execute_result"
        }
      ],
      "source": [
        "5 ** 2  # squared"
      ]
    },
    {
      "cell_type": "markdown",
      "metadata": {
        "id": "hRjaTRLozlgl"
      },
      "source": [
        "---\n",
        "## <font color=\"orange\">**2.4. Sequence Operations:**</font>\n",
        "<a id=\"comm_ops\"></a>"
      ]
    },
    {
      "cell_type": "markdown",
      "metadata": {
        "id": "VELRYGYFz4Nn"
      },
      "source": [
        "#### The operations in the following table are supported by most sequence types (not just strings), where:\n",
        "* `s` and `t` are sequences of the same type\n",
        "* `n`, `i`, `j`, and `k` are integers\n",
        "* `x` is an arbitrary object that meets any type imposed by `s`\n",
        "\n",
        "| Operation | Result|\n",
        "|----|----|\n",
        "| `x in s`  |`True` if an item of *s* is equal to *x*, else `False`|\n",
        "| `x not in s`  |`False` if an item of *s* is equal to *x*, else `True`|\n",
        "| `s + t`  |the concatenation of *s* and *t*|\n",
        "| `s * n` or `n * s`  |adding *s* to itself *n* times|\n",
        "| `s[i]` |*i*th item of *s*, origin 0|\n",
        "| `s[i:j]`  |slice of *s* from *i* to *j*|\n",
        "| `s[i:j:k]`  |slice of *s* from *i* to *j* with step *k*|\n",
        "| `len(s)`  |length of *s*  |\n",
        "| `min(x)`  |smallest item of *s*  |\n",
        "| `max(x)`  |largest item of *s*|\n",
        "| `s.index(x)`  |index of the first occurrence of *x* in *s*|\n",
        "| `s.count(x)`  |total number of occurrences of *x* in *s*|\n",
        "\n",
        "Notes:\n",
        "* Most squences (mutable and immutable) support the operations above\n",
        "* Sequences of the same type also support element-wise comparisons\n",
        "* Sequences are considered 'iterables': objects which can be iterated over (i.e. used in a for loop)\n",
        "\n"
      ]
    },
    {
      "cell_type": "markdown",
      "metadata": {
        "id": "dtKCaOPTxZzt"
      },
      "source": [
        "#### <font color=\"cyan\">**Examples:**</font> Containment testing\n",
        "\n",
        "Checking whether an element or subsequence of elements are contained in a sequence"
      ]
    },
    {
      "cell_type": "code",
      "execution_count": 39,
      "metadata": {
        "id": "qq4QSB0g738N"
      },
      "outputs": [],
      "source": [
        "# define some variables\n",
        "s = 'abc'\n",
        "t = 'def'\n",
        "x = 'b'\n",
        "n = 3"
      ]
    },
    {
      "cell_type": "code",
      "execution_count": 40,
      "metadata": {
        "colab": {
          "base_uri": "https://localhost:8080/"
        },
        "id": "o_7waZvs8Wcu",
        "outputId": "feb217a2-37c3-4160-c1af-dc3423fd05e3"
      },
      "outputs": [
        {
          "output_type": "execute_result",
          "data": {
            "text/plain": [
              "True"
            ]
          },
          "metadata": {},
          "execution_count": 40
        }
      ],
      "source": [
        "# containment testing (translates to: is 'a' a part of 'abc'?)\n",
        "x in s      # True"
      ]
    },
    {
      "cell_type": "code",
      "execution_count": 41,
      "metadata": {
        "colab": {
          "base_uri": "https://localhost:8080/"
        },
        "id": "FadKUXyxu06o",
        "outputId": "c7a64f13-a275-40ca-d7b9-ae9f2e401cc9"
      },
      "outputs": [
        {
          "output_type": "execute_result",
          "data": {
            "text/plain": [
              "False"
            ]
          },
          "metadata": {},
          "execution_count": 41
        }
      ],
      "source": [
        "# containment testing (translates to: is 'a' a part of 'def'?)\n",
        "x in t      # False"
      ]
    },
    {
      "cell_type": "code",
      "execution_count": 42,
      "metadata": {
        "colab": {
          "base_uri": "https://localhost:8080/"
        },
        "id": "XrFIuF9E734-",
        "outputId": "26053adb-3b3c-4dcc-a3ea-feaf15bf9472"
      },
      "outputs": [
        {
          "output_type": "execute_result",
          "data": {
            "text/plain": [
              "True"
            ]
          },
          "metadata": {},
          "execution_count": 42
        }
      ],
      "source": [
        "# containment testing (translates to: is 'a' not a part of 'def'?)\n",
        "x not in t  # True"
      ]
    },
    {
      "cell_type": "code",
      "execution_count": 43,
      "metadata": {
        "colab": {
          "base_uri": "https://localhost:8080/"
        },
        "id": "v86fHoqCea5u",
        "outputId": "fe15cf72-d5c7-47ed-dabe-74874c2aa746"
      },
      "outputs": [
        {
          "output_type": "execute_result",
          "data": {
            "text/plain": [
              "1"
            ]
          },
          "metadata": {},
          "execution_count": 43
        }
      ],
      "source": [
        "# get the index (position) where x is found in s\n",
        "s.index(x)"
      ]
    },
    {
      "cell_type": "code",
      "execution_count": 44,
      "metadata": {
        "colab": {
          "base_uri": "https://localhost:8080/"
        },
        "id": "MDOX4OP0fA_f",
        "outputId": "1deff093-4b32-4504-fffb-25bfbaf83d61"
      },
      "outputs": [
        {
          "output_type": "execute_result",
          "data": {
            "text/plain": [
              "1"
            ]
          },
          "metadata": {},
          "execution_count": 44
        }
      ],
      "source": [
        "# get the number of occurrences of x in s\n",
        "s.count(x)"
      ]
    },
    {
      "cell_type": "markdown",
      "metadata": {
        "id": "5bN_mnjC-YFJ"
      },
      "source": [
        "#### <font color=\"cyan\">**Examples:**</font> Concatenation\n",
        "Strings can be concatenated (glued together) with the `+` operator, and repeated with `*` :"
      ]
    },
    {
      "cell_type": "code",
      "execution_count": 7,
      "metadata": {
        "id": "JYrJdOQIv2NR"
      },
      "outputs": [],
      "source": [
        "# define some variables\n",
        "x = 'a'\n",
        "s = 'abc'\n",
        "t = 'def'\n",
        "n = 3"
      ]
    },
    {
      "cell_type": "code",
      "execution_count": 8,
      "metadata": {
        "colab": {
          "base_uri": "https://localhost:8080/",
          "height": 35
        },
        "id": "9ka3VwPV731l",
        "outputId": "4bc9bc1e-8585-44f1-f2e1-6029d2f1b9be"
      },
      "outputs": [
        {
          "output_type": "execute_result",
          "data": {
            "text/plain": [
              "'abcdef'"
            ],
            "application/vnd.google.colaboratory.intrinsic+json": {
              "type": "string"
            }
          },
          "metadata": {},
          "execution_count": 8
        }
      ],
      "source": [
        "s + t     # concate s and t"
      ]
    },
    {
      "cell_type": "code",
      "execution_count": 9,
      "metadata": {
        "colab": {
          "base_uri": "https://localhost:8080/",
          "height": 35
        },
        "id": "al3-vt0q73yM",
        "outputId": "7cabb8f4-a6f6-4f06-bb80-73fc13adbe10"
      },
      "outputs": [
        {
          "output_type": "execute_result",
          "data": {
            "text/plain": [
              "'abcabcabc'"
            ],
            "application/vnd.google.colaboratory.intrinsic+json": {
              "type": "string"
            }
          },
          "metadata": {},
          "execution_count": 9
        }
      ],
      "source": [
        "s * n     # s repeated n times"
      ]
    },
    {
      "cell_type": "code",
      "execution_count": 10,
      "metadata": {
        "colab": {
          "base_uri": "https://localhost:8080/",
          "height": 35
        },
        "id": "9bjc4MBS-Pfo",
        "outputId": "55dedab9-7751-4314-90de-15eb5cd2202a"
      },
      "outputs": [
        {
          "output_type": "execute_result",
          "data": {
            "text/plain": [
              "'aaadef'"
            ],
            "application/vnd.google.colaboratory.intrinsic+json": {
              "type": "string"
            }
          },
          "metadata": {},
          "execution_count": 10
        }
      ],
      "source": [
        "n * x + t  # x repeated n times, then concatenate t"
      ]
    },
    {
      "cell_type": "markdown",
      "metadata": {
        "id": "iOwjWj4GgAGE"
      },
      "source": [
        "### <font color=\"lime\">**Subscripting:**</font>  \n",
        "\n",
        "Subscripting a sequence is done by placing square brackets `[]` after the sequence, and includes:\n",
        "* Indexing: obtain a single element from a sequence of elements\n",
        "* Slicing:  obtain a subsequence of elements from a sequence of elements"
      ]
    },
    {
      "cell_type": "markdown",
      "metadata": {
        "id": "CGQXDUR4JN6o"
      },
      "source": [
        "#### <font color=\"cyan\">**Examples:**</font> Indexing strings \n",
        "\n",
        "Indexing is to obtain a single element from a sequence of elements"
      ]
    },
    {
      "cell_type": "markdown",
      "metadata": {
        "id": "dO2NtcHB8CmR"
      },
      "source": [
        "\n",
        "\n",
        "Key Points:\n",
        "* In python, the first element has index 0\n",
        "* A good way to remember how slices work is to think of the indices as pointing between characters, with the left edge of the first character numbered 0\n",
        "\n",
        "```\n",
        " +---+---+---+---+---+---+\n",
        " | P | y | t | h | o | n |\n",
        " +---+---+---+---+---+---+\n",
        " 0   1   2   3   4   5   \n",
        "-6  -5  -4  -3  -2  -1\n",
        "```\n"
      ]
    },
    {
      "cell_type": "code",
      "execution_count": 11,
      "metadata": {
        "colab": {
          "base_uri": "https://localhost:8080/",
          "height": 35
        },
        "id": "WvKm0pyph0Il",
        "outputId": "0112c205-533d-47a2-ad19-11f3e3fede64"
      },
      "outputs": [
        {
          "output_type": "execute_result",
          "data": {
            "text/plain": [
              "'P'"
            ],
            "application/vnd.google.colaboratory.intrinsic+json": {
              "type": "string"
            }
          },
          "metadata": {},
          "execution_count": 11
        }
      ],
      "source": [
        "word = 'Python'\n",
        "word[0]  # character in position 0 (first element)"
      ]
    },
    {
      "cell_type": "code",
      "execution_count": 12,
      "metadata": {
        "colab": {
          "base_uri": "https://localhost:8080/",
          "height": 35
        },
        "id": "fSNzlt7Ah0M1",
        "outputId": "102749e5-37dc-483f-81cf-dd17ce3b61c3"
      },
      "outputs": [
        {
          "output_type": "execute_result",
          "data": {
            "text/plain": [
              "'n'"
            ],
            "application/vnd.google.colaboratory.intrinsic+json": {
              "type": "string"
            }
          },
          "metadata": {},
          "execution_count": 12
        }
      ],
      "source": [
        "word[5]  # get the last element"
      ]
    },
    {
      "cell_type": "code",
      "execution_count": 13,
      "metadata": {
        "colab": {
          "base_uri": "https://localhost:8080/",
          "height": 35
        },
        "id": "oqBHEC0eijvX",
        "outputId": "13b1622d-6fa3-44a6-de61-705f48d4707e"
      },
      "outputs": [
        {
          "output_type": "execute_result",
          "data": {
            "text/plain": [
              "'n'"
            ],
            "application/vnd.google.colaboratory.intrinsic+json": {
              "type": "string"
            }
          },
          "metadata": {},
          "execution_count": 13
        }
      ],
      "source": [
        "word[-1]  # another way to get the last element"
      ]
    },
    {
      "cell_type": "code",
      "execution_count": 14,
      "metadata": {
        "colab": {
          "base_uri": "https://localhost:8080/",
          "height": 35
        },
        "id": "Y8YIBps2ilR-",
        "outputId": "f167763b-f288-45b2-cca6-b9c21222cfd5"
      },
      "outputs": [
        {
          "output_type": "execute_result",
          "data": {
            "text/plain": [
              "'o'"
            ],
            "application/vnd.google.colaboratory.intrinsic+json": {
              "type": "string"
            }
          },
          "metadata": {},
          "execution_count": 14
        }
      ],
      "source": [
        "word[-2]  # second-last element"
      ]
    },
    {
      "cell_type": "markdown",
      "metadata": {
        "id": "3yFgHcrljkZx"
      },
      "source": [
        "#### <font color=\"cyan\">**Examples:**</font> Slicing strings\n",
        "\n",
        "Slicing a sequence is to obtain a subsequence from a sequence"
      ]
    },
    {
      "cell_type": "markdown",
      "metadata": {
        "id": "JttpF24ZTF04"
      },
      "source": [
        "| Syntax | Explanation |\n",
        "|----|----|\n",
        "| `sequence[start:stop:step]`  |start to stop by step|\n",
        "| `sequence[start:stop]`  |start to stop|\n",
        "| `sequence[start:]`  |start to end of sequence|\n",
        "| `sequence[:stop]`  |beginning of sequence to stop|\n",
        "| `sequence[:]`  |copy of the whole sequence|\n",
        "\n",
        "Key Points:\n",
        "  - While `start` index starts from `0`, the `stop` index starts from `1`\n",
        "  - `start` and `stop` may be *negative*, meaning it counts from the end of the array instead of the beginning\n",
        "  - *Negative* `step` will slice in reverse \n",
        "\n",
        "Slice indices have useful defaults:\n",
        "  - An omitted `start` index defaults to zero\n",
        "  - An omitted `stop` index defaults to the size of the string being sliced\n",
        "  - An omitted `step` index defaults to 1"
      ]
    },
    {
      "cell_type": "code",
      "execution_count": 25,
      "metadata": {
        "colab": {
          "base_uri": "https://localhost:8080/",
          "height": 35
        },
        "id": "DJnEuxFIh0Qk",
        "outputId": "b0fc9c5a-99ce-4cf3-83c3-a36646a61776"
      },
      "outputs": [
        {
          "output_type": "execute_result",
          "data": {
            "text/plain": [
              "'Py'"
            ],
            "application/vnd.google.colaboratory.intrinsic+json": {
              "type": "string"
            }
          },
          "metadata": {},
          "execution_count": 25
        }
      ],
      "source": [
        "word = 'Python'\n",
        "word[:2]   # first two elements of the sequence (same as word[0:2])"
      ]
    },
    {
      "cell_type": "markdown",
      "metadata": {
        "id": "a54EhiG0-hMk"
      },
      "source": [
        "  * The reason behind `start` index starting from `0` and `stop` index starting from `1` is to make sure that `word[:i] + word[i:]` is always equal to `word`:"
      ]
    },
    {
      "cell_type": "code",
      "execution_count": 26,
      "metadata": {
        "colab": {
          "base_uri": "https://localhost:8080/",
          "height": 35
        },
        "id": "WcA4YMNxTib1",
        "outputId": "35173ee1-11d9-443b-f94e-e08d69e1cc71"
      },
      "outputs": [
        {
          "output_type": "execute_result",
          "data": {
            "text/plain": [
              "'Python'"
            ],
            "application/vnd.google.colaboratory.intrinsic+json": {
              "type": "string"
            }
          },
          "metadata": {},
          "execution_count": 26
        }
      ],
      "source": [
        "i = 2\n",
        "word[:i] + word[i:]"
      ]
    },
    {
      "cell_type": "markdown",
      "metadata": {
        "id": "HG6HsMQpDDWy"
      },
      "source": [
        "  * We can slice by stepping through every other element:"
      ]
    },
    {
      "cell_type": "code",
      "execution_count": 27,
      "metadata": {
        "colab": {
          "base_uri": "https://localhost:8080/",
          "height": 35
        },
        "id": "18F3OvYUDDEh",
        "outputId": "8d8a9b8e-e4f4-46e5-cc41-1fb1b2b0156d"
      },
      "outputs": [
        {
          "output_type": "execute_result",
          "data": {
            "text/plain": [
              "'Pto'"
            ],
            "application/vnd.google.colaboratory.intrinsic+json": {
              "type": "string"
            }
          },
          "metadata": {},
          "execution_count": 27
        }
      ],
      "source": [
        "word[::2]     # slice whole sequence, stepping by 2"
      ]
    },
    {
      "cell_type": "markdown",
      "metadata": {
        "id": "OKckQP5oA4pn"
      },
      "source": [
        "  * `start` and `stop` may be negative:"
      ]
    },
    {
      "cell_type": "code",
      "execution_count": 28,
      "metadata": {
        "colab": {
          "base_uri": "https://localhost:8080/",
          "height": 35
        },
        "id": "6k0cIE-0BtR4",
        "outputId": "207206d3-7290-4046-f345-a2aca0d1cf7e"
      },
      "outputs": [
        {
          "output_type": "execute_result",
          "data": {
            "text/plain": [
              "'on'"
            ],
            "application/vnd.google.colaboratory.intrinsic+json": {
              "type": "string"
            }
          },
          "metadata": {},
          "execution_count": 28
        }
      ],
      "source": [
        "word[-2:]     # last two elements of the sequence"
      ]
    },
    {
      "cell_type": "code",
      "execution_count": 29,
      "metadata": {
        "colab": {
          "base_uri": "https://localhost:8080/",
          "height": 35
        },
        "id": "wn8hlCG-BtOR",
        "outputId": "367db135-709b-434b-b29f-971a583d8b88"
      },
      "outputs": [
        {
          "output_type": "execute_result",
          "data": {
            "text/plain": [
              "'Pyth'"
            ],
            "application/vnd.google.colaboratory.intrinsic+json": {
              "type": "string"
            }
          },
          "metadata": {},
          "execution_count": 29
        }
      ],
      "source": [
        "word[:-2]     # everything except the last two elements"
      ]
    },
    {
      "cell_type": "markdown",
      "metadata": {
        "id": "LnIqEaDJCsWy"
      },
      "source": [
        "  * Similarly, `step` may be negative, which will reverse the slice:"
      ]
    },
    {
      "cell_type": "code",
      "execution_count": 30,
      "metadata": {
        "colab": {
          "base_uri": "https://localhost:8080/",
          "height": 35
        },
        "id": "grHG5Z_LClmh",
        "outputId": "6a66e0bb-970f-414a-c86d-72452df1a213"
      },
      "outputs": [
        {
          "output_type": "execute_result",
          "data": {
            "text/plain": [
              "'nohtyP'"
            ],
            "application/vnd.google.colaboratory.intrinsic+json": {
              "type": "string"
            }
          },
          "metadata": {},
          "execution_count": 30
        }
      ],
      "source": [
        "word[::-1]    # whole sequence, reversed"
      ]
    },
    {
      "cell_type": "code",
      "execution_count": 31,
      "metadata": {
        "colab": {
          "base_uri": "https://localhost:8080/",
          "height": 35
        },
        "id": "ayvvFntcTx_K",
        "outputId": "a8f35213-cede-46c0-8d75-2dcae72e1a4b"
      },
      "outputs": [
        {
          "output_type": "execute_result",
          "data": {
            "text/plain": [
              "'nhy'"
            ],
            "application/vnd.google.colaboratory.intrinsic+json": {
              "type": "string"
            }
          },
          "metadata": {},
          "execution_count": 31
        }
      ],
      "source": [
        "word[::-2]    # whole sequence, stepping by 2, reversed"
      ]
    },
    {
      "cell_type": "code",
      "execution_count": 32,
      "metadata": {
        "colab": {
          "base_uri": "https://localhost:8080/",
          "height": 35
        },
        "id": "A2c2K8YozHha",
        "outputId": "6e900cee-72b7-43eb-99ed-5741020ba12c"
      },
      "outputs": [
        {
          "output_type": "execute_result",
          "data": {
            "text/plain": [
              "'yP'"
            ],
            "application/vnd.google.colaboratory.intrinsic+json": {
              "type": "string"
            }
          },
          "metadata": {},
          "execution_count": 32
        }
      ],
      "source": [
        "word[1::-1]   # first two elements, reversed"
      ]
    },
    {
      "cell_type": "code",
      "execution_count": 33,
      "metadata": {
        "colab": {
          "base_uri": "https://localhost:8080/",
          "height": 35
        },
        "id": "AW3E91-Uh0Um",
        "outputId": "a1d1088b-985f-4f35-e3cd-2cd80c29123a"
      },
      "outputs": [
        {
          "output_type": "execute_result",
          "data": {
            "text/plain": [
              "'no'"
            ],
            "application/vnd.google.colaboratory.intrinsic+json": {
              "type": "string"
            }
          },
          "metadata": {},
          "execution_count": 33
        }
      ],
      "source": [
        "word[:-3:-1]  # last two elements, reversed"
      ]
    },
    {
      "cell_type": "code",
      "execution_count": 34,
      "metadata": {
        "colab": {
          "base_uri": "https://localhost:8080/",
          "height": 35
        },
        "id": "zKsfFrkcUtyK",
        "outputId": "1d0432a7-0006-4634-8dd5-56f64883bc91"
      },
      "outputs": [
        {
          "output_type": "execute_result",
          "data": {
            "text/plain": [
              "'htyP'"
            ],
            "application/vnd.google.colaboratory.intrinsic+json": {
              "type": "string"
            }
          },
          "metadata": {},
          "execution_count": 34
        }
      ],
      "source": [
        "word[-3::-1]  # everything except the last two elements, reversed"
      ]
    },
    {
      "cell_type": "markdown",
      "source": [
        "Note: I recommend to try out different number to get the gist of slicing and indexing. Good luck!"
      ],
      "metadata": {
        "id": "kbbJMeuh8PrS"
      }
    },
    {
      "cell_type": "markdown",
      "source": [
        "## Key Points of Operations:\n",
        "* Empty objects are considered `False`, but `True` otherwise\n",
        "* Math operators (i.e. `+` or `*`) used with sequences have differnt effects when used with numericals "
      ],
      "metadata": {
        "id": "zpgO4mmYC0b3"
      }
    },
    {
      "cell_type": "markdown",
      "metadata": {
        "id": "gGt09-PEosuR"
      },
      "source": [
        "---\n",
        "# <a>**3. Built-in Data Structures**</a>\n"
      ]
    },
    {
      "cell_type": "markdown",
      "metadata": {
        "id": "Knilg-fmWL_m"
      },
      "source": [
        "## What are data structures?\n",
        "Think of Data Structures as containers to store data. The most common python built-in data structures are described below:\n",
        "  * Sequences: [list](https://docs.python.org/3/library/stdtypes.html#list), [tuple](https://docs.python.org/3/library/stdtypes.html#tuple), [range](https://docs.python.org/3/library/stdtypes.html#range)\n",
        "  * Mappings: [dict](https://docs.python.org/3/library/stdtypes.html#dict)"
      ]
    },
    {
      "cell_type": "markdown",
      "metadata": {
        "id": "PT2nVw8E6K4v"
      },
      "source": [
        "---\n",
        "## <font color=\"orange\">**3.1. Sequence Types:**</font> list, tuple, range"
      ]
    },
    {
      "cell_type": "markdown",
      "metadata": {
        "id": "YrTyhHnGL-ls"
      },
      "source": [
        "### Definition: Sequences are iterable containers of data i.e. we can loop over each element of the container.\n",
        "\n",
        "### Python supports the following sequence Types:\n",
        "* `list()` -  mutable\n",
        "* `tuple()` - immutable\n",
        "* `range()` - immutable\n",
        "\n",
        "Which can be one of two types:\n",
        "1. Immutable: cannot be modified once declared i.e. tuple\n",
        "2. Mutable: can be changed once declared i.e. list\n",
        "\n",
        "Note:\n",
        "* All sequences supports iteration & subscripting, only mutable sequences support assignment"
      ]
    },
    {
      "cell_type": "markdown",
      "metadata": {
        "id": "X2kNmoX1sn3f"
      },
      "source": [
        "### <font color=\"lime\">**Lists:**</font> Mutable Sequence Type\n",
        "\n"
      ]
    },
    {
      "cell_type": "markdown",
      "metadata": {
        "id": "VoscyEfDXNr4"
      },
      "source": [
        "#### Definition: Sequence of comma-separated objects between square brackets `[]`\n",
        "\n",
        "* Lists are mutable sequences, typically used to store collections of homogeneous items\n",
        "* The most versatile data structure\n",
        "* A list can be a sequence of ints, strings, lists, etc.\n",
        "* A list can be indexed and sliced\n",
        "\n",
        "Note:\n",
        "* Unlike strings, which are immutable, lists are a mutable type, i.e. it is possible to change their content\n"
      ]
    },
    {
      "cell_type": "markdown",
      "metadata": {
        "id": "Y9-k7h670DTZ"
      },
      "source": [
        "#### <font color=\"cyan\">**Examples:**</font> Creating lists</font>"
      ]
    },
    {
      "cell_type": "markdown",
      "metadata": {
        "id": "73hZZ-zIKwfu"
      },
      "source": [
        "Lists may be constructed in several ways:\n",
        "* Using a pair of square brackets to denote the empty list: `[]`\n",
        "* Using square brackets, separating items with commas: `[a]`, `[a, b, c]`\n",
        "* Using the type constructor: `list()` or `list(iterable)`\n",
        "* Using a list comprehension: `[x for x in iterable]`"
      ]
    },
    {
      "cell_type": "code",
      "execution_count": null,
      "metadata": {
        "colab": {
          "base_uri": "https://localhost:8080/"
        },
        "id": "hBwf58Ho0mRI",
        "outputId": "b24927a9-46f6-4751-f860-d9e3f07eb2ec"
      },
      "outputs": [
        {
          "data": {
            "text/plain": [
              "[]"
            ]
          },
          "execution_count": 67,
          "metadata": {},
          "output_type": "execute_result"
        }
      ],
      "source": [
        "[]                    # empty list"
      ]
    },
    {
      "cell_type": "code",
      "execution_count": null,
      "metadata": {
        "colab": {
          "base_uri": "https://localhost:8080/"
        },
        "id": "tENS_LPr0myJ",
        "outputId": "e5728afb-1d6c-4488-db97-c00d6f41d7e5"
      },
      "outputs": [
        {
          "data": {
            "text/plain": [
              "[1, 2, 3]"
            ]
          },
          "execution_count": 68,
          "metadata": {},
          "output_type": "execute_result"
        }
      ],
      "source": [
        "[1,2,3]               # comma-serparated    "
      ]
    },
    {
      "cell_type": "code",
      "execution_count": null,
      "metadata": {
        "colab": {
          "base_uri": "https://localhost:8080/"
        },
        "id": "_7TvUBAQ0mup",
        "outputId": "aa5dd137-1e87-405d-ccd9-fe23db51ef25"
      },
      "outputs": [
        {
          "data": {
            "text/plain": [
              "['a', 'b', 'c']"
            ]
          },
          "execution_count": 69,
          "metadata": {},
          "output_type": "execute_result"
        }
      ],
      "source": [
        "list('abc')           # using the list() function and an iterable sequence (string)"
      ]
    },
    {
      "cell_type": "code",
      "execution_count": null,
      "metadata": {
        "colab": {
          "base_uri": "https://localhost:8080/"
        },
        "id": "qgLXGoCe0mqq",
        "outputId": "5408458d-f204-4b09-e9b3-49628e6fbf6b"
      },
      "outputs": [
        {
          "data": {
            "text/plain": [
              "['a', 'b', 'c']"
            ]
          },
          "execution_count": 70,
          "metadata": {},
          "output_type": "execute_result"
        }
      ],
      "source": [
        "[x for x in 'abc']    # list comprehension (Advanced)"
      ]
    },
    {
      "cell_type": "markdown",
      "metadata": {
        "id": "bbNsNQnuzha_"
      },
      "source": [
        "#### <font color=\"cyan\">**Examples:**</font> Operating on lists"
      ]
    },
    {
      "cell_type": "markdown",
      "metadata": {
        "id": "lHY6B0dWK2WD"
      },
      "source": [
        "The operations in the following table are defined for mutable sequence types, where:\n",
        "* `s` is an instance of a mutable sequence type\n",
        "* `t` is any iterable object\n",
        "* `n` is any integer\n",
        "* `x` is an arbitrary object that meets any type imposed by `s`\n",
        "\n",
        "| Operation | Result|\n",
        "|----|----|\n",
        "| `s[i] = x`  |item *i* of *s* is replaced by *x*|\n",
        "| `s[i:j] = t`  |slice of *s* from *i* to *j* is replaced by the content of *t*|\n",
        "| `del s[i:j]`  |same as `s[i:j] = []`|\n",
        "| `s[i:j:k] = t` |elements of `s[i:j:k]` are replaced by those of *t*|\n",
        "| `del s[i:j:k]`  |remove elements of `s[i:j:k]` from *s*|\n",
        "| `s.append(x)`  |add *x* to the end of *s* |\n",
        "| `s.clear()`  |remove all items from *s*, same as `del s[:]` |\n",
        "| `s += t` or `s.extend(t)`  |extend *s* with the content of *t*  |\n",
        "| `s *= n`  |update *s* with its contents repeated *n* times |\n",
        "| `s.insert(i, x)`  |insert *x* into *s* at the *i*th index|\n",
        "| `s.pop()`  |return and remove the last item from *s*|\n",
        "| `s.remove(x)`  |remove the first item from *s* which equals *x*|\n",
        "| `s.reverse()`  |reverse the elements of *s* in place|\n"
      ]
    },
    {
      "cell_type": "code",
      "execution_count": null,
      "metadata": {
        "colab": {
          "base_uri": "https://localhost:8080/"
        },
        "id": "K9SX7W3NhMGb",
        "outputId": "90646305-1501-4ef4-f743-9531401127cb"
      },
      "outputs": [
        {
          "data": {
            "text/plain": [
              "[1, 4, 9, 16, 26]"
            ]
          },
          "execution_count": 71,
          "metadata": {},
          "output_type": "execute_result"
        }
      ],
      "source": [
        "# List creation\n",
        "squares = [1, 4, 9, 16, 26]   # list of squares of [1, 2, 3, 4, 5]\n",
        "squares"
      ]
    },
    {
      "cell_type": "code",
      "execution_count": null,
      "metadata": {
        "colab": {
          "base_uri": "https://localhost:8080/"
        },
        "id": "jkEYZPe6hMJX",
        "outputId": "00d77725-a238-4f6f-9e75-478f929ca145"
      },
      "outputs": [
        {
          "data": {
            "text/plain": [
              "1"
            ]
          },
          "execution_count": 72,
          "metadata": {},
          "output_type": "execute_result"
        }
      ],
      "source": [
        "# List indexing\n",
        "squares[0]      # get the first element"
      ]
    },
    {
      "cell_type": "code",
      "execution_count": null,
      "metadata": {
        "colab": {
          "base_uri": "https://localhost:8080/"
        },
        "id": "9edrcZ8MrmRb",
        "outputId": "47c4e76b-d30c-4cf8-ddfe-5ac90c37752b"
      },
      "outputs": [
        {
          "data": {
            "text/plain": [
              "26"
            ]
          },
          "execution_count": 73,
          "metadata": {},
          "output_type": "execute_result"
        }
      ],
      "source": [
        "squares[-1]     # get the last element"
      ]
    },
    {
      "cell_type": "code",
      "execution_count": null,
      "metadata": {
        "colab": {
          "base_uri": "https://localhost:8080/"
        },
        "id": "Wb7tBdShwv0U",
        "outputId": "0a867bff-0c8e-402c-bd78-d7ff71512a2e"
      },
      "outputs": [
        {
          "data": {
            "text/plain": [
              "[1, 4, 9, 16, 25]"
            ]
          },
          "execution_count": 74,
          "metadata": {},
          "output_type": "execute_result"
        }
      ],
      "source": [
        "# Assignment\n",
        "squares[-1] = 25  # replace the wrong value\n",
        "squares"
      ]
    },
    {
      "cell_type": "code",
      "execution_count": null,
      "metadata": {
        "colab": {
          "base_uri": "https://localhost:8080/"
        },
        "id": "ZrqDywAzmGHU",
        "outputId": "c97dc561-f19f-46b5-cdfd-ecc1c70693d8"
      },
      "outputs": [
        {
          "data": {
            "text/plain": [
              "[1, 4, 9, 16, 25, 36]"
            ]
          },
          "execution_count": 75,
          "metadata": {},
          "output_type": "execute_result"
        }
      ],
      "source": [
        "# Add an element\n",
        "squares.append(36)      # use the append to add individual elements to list\n",
        "squares"
      ]
    },
    {
      "cell_type": "code",
      "execution_count": null,
      "metadata": {
        "colab": {
          "base_uri": "https://localhost:8080/"
        },
        "id": "YIUpkMHTIGw1",
        "outputId": "ca3c2ee5-d338-4904-91c7-ef8634bae2f4"
      },
      "outputs": [
        {
          "data": {
            "text/plain": [
              "[1, 4, 9, 16, 25, 36, 49, 64]"
            ]
          },
          "execution_count": 76,
          "metadata": {},
          "output_type": "execute_result"
        }
      ],
      "source": [
        "# attach a list to an existing list \n",
        "squares.extend([49, 64])\n",
        "squares"
      ]
    },
    {
      "cell_type": "code",
      "execution_count": null,
      "metadata": {
        "colab": {
          "base_uri": "https://localhost:8080/"
        },
        "id": "YMxMt9_PHi-d",
        "outputId": "072931af-7956-434a-c280-e00db769ebbe"
      },
      "outputs": [
        {
          "data": {
            "text/plain": [
              "[1, 4, 9, 16, 25, 36, 49, 64, 81, 100]"
            ]
          },
          "execution_count": 77,
          "metadata": {},
          "output_type": "execute_result"
        }
      ],
      "source": [
        "# attach a list to an existing list (similar to .extend())\n",
        "squares += [81, 100]   # equivalent to squares = squares + [81, 100]\n",
        "squares"
      ]
    },
    {
      "cell_type": "code",
      "execution_count": null,
      "metadata": {
        "colab": {
          "base_uri": "https://localhost:8080/"
        },
        "id": "UwBSymzakJV0",
        "outputId": "08cc1786-83d9-4d2c-df16-977c8626ae61"
      },
      "outputs": [
        {
          "data": {
            "text/plain": [
              "100"
            ]
          },
          "execution_count": 78,
          "metadata": {},
          "output_type": "execute_result"
        }
      ],
      "source": [
        "squares.pop() # remove and return the last item"
      ]
    },
    {
      "cell_type": "code",
      "execution_count": null,
      "metadata": {
        "colab": {
          "base_uri": "https://localhost:8080/"
        },
        "id": "q4_89y2txlim",
        "outputId": "89fac0c9-eab8-48aa-be1c-03833adaae73"
      },
      "outputs": [
        {
          "data": {
            "text/plain": [
              "[1, 4, 9, 16, 25, 36, 49, 64, 81]"
            ]
          },
          "execution_count": 79,
          "metadata": {},
          "output_type": "execute_result"
        }
      ],
      "source": [
        "squares     # indeed, last item was removed"
      ]
    },
    {
      "cell_type": "code",
      "execution_count": null,
      "metadata": {
        "colab": {
          "base_uri": "https://localhost:8080/"
        },
        "id": "B7pXyVRB3cmq",
        "outputId": "a8883c1c-788b-46a0-9464-847fb777eb51"
      },
      "outputs": [
        {
          "data": {
            "text/plain": [
              "True"
            ]
          },
          "execution_count": 80,
          "metadata": {},
          "output_type": "execute_result"
        }
      ],
      "source": [
        "4 in squares  # check if 4 is in squares"
      ]
    },
    {
      "cell_type": "code",
      "execution_count": null,
      "metadata": {
        "colab": {
          "base_uri": "https://localhost:8080/"
        },
        "id": "a4Eu7H5prmYC",
        "outputId": "4a6d0f01-beba-40b5-e55e-75efabfa3fc8"
      },
      "outputs": [
        {
          "data": {
            "text/plain": [
              "[81, 64, 49, 36, 25, 16, 9, 4, 1]"
            ]
          },
          "execution_count": 81,
          "metadata": {},
          "output_type": "execute_result"
        }
      ],
      "source": [
        "squares.reverse()\n",
        "squares"
      ]
    },
    {
      "cell_type": "code",
      "execution_count": null,
      "metadata": {
        "colab": {
          "base_uri": "https://localhost:8080/"
        },
        "id": "vubKs4uormUz",
        "outputId": "8caab853-7496-4ed3-905e-82922fa556d0"
      },
      "outputs": [
        {
          "data": {
            "text/plain": [
              "[64, 49, 36]"
            ]
          },
          "execution_count": 82,
          "metadata": {},
          "output_type": "execute_result"
        }
      ],
      "source": [
        "# Slicing\n",
        "squares[1:4]  # slicing returns a new list"
      ]
    },
    {
      "cell_type": "markdown",
      "metadata": {
        "id": "TuqIYYEYF1Da"
      },
      "source": [
        "Note: Assignment to slices is also possible, and this can even change the size of the list or clear it entirely\n",
        "\n",
        "--- "
      ]
    },
    {
      "cell_type": "code",
      "execution_count": null,
      "metadata": {
        "colab": {
          "base_uri": "https://localhost:8080/"
        },
        "id": "DKJiIIeoCHPu",
        "outputId": "8b02a45a-4b34-4f3b-9887-815a37203d6b"
      },
      "outputs": [
        {
          "data": {
            "text/plain": [
              "['a', 'b', 'c', 'd', 'e']"
            ]
          },
          "execution_count": 83,
          "metadata": {},
          "output_type": "execute_result"
        }
      ],
      "source": [
        "letters = ['a', 'b', 'c', 'd', 'e']\n",
        "letters"
      ]
    },
    {
      "cell_type": "code",
      "execution_count": null,
      "metadata": {
        "colab": {
          "base_uri": "https://localhost:8080/"
        },
        "id": "akIcZGl1CHSo",
        "outputId": "d07bb7c9-0e5a-4ded-ec7a-875edeb87d51"
      },
      "outputs": [
        {
          "data": {
            "text/plain": [
              "['a', 'b', 'C', 'D', 'E']"
            ]
          },
          "execution_count": 84,
          "metadata": {},
          "output_type": "execute_result"
        }
      ],
      "source": [
        "# replace some values\n",
        "letters[2:] = ['C', 'D', 'E']\n",
        "letters"
      ]
    },
    {
      "cell_type": "code",
      "execution_count": null,
      "metadata": {
        "colab": {
          "base_uri": "https://localhost:8080/"
        },
        "id": "gH4KsUtbCHWQ",
        "outputId": "6cbd05bc-863f-40a0-c86c-c954dcc2dae1"
      },
      "outputs": [
        {
          "data": {
            "text/plain": [
              "['a', 'b']"
            ]
          },
          "execution_count": 85,
          "metadata": {},
          "output_type": "execute_result"
        }
      ],
      "source": [
        "# now remove them\n",
        "letters[2:] = []\n",
        "letters"
      ]
    },
    {
      "cell_type": "code",
      "execution_count": null,
      "metadata": {
        "colab": {
          "base_uri": "https://localhost:8080/"
        },
        "id": "_WDiu_m7CHYP",
        "outputId": "c927d2a8-cc2e-46e3-c6ba-1d62bc9ca491"
      },
      "outputs": [
        {
          "data": {
            "text/plain": [
              "[]"
            ]
          },
          "execution_count": 86,
          "metadata": {},
          "output_type": "execute_result"
        }
      ],
      "source": [
        "# clear the list by replacing all the elements with an empty list\n",
        "letters[:] = []\n",
        "letters"
      ]
    },
    {
      "cell_type": "code",
      "execution_count": null,
      "metadata": {
        "colab": {
          "base_uri": "https://localhost:8080/"
        },
        "id": "MHdJbI90CHcU",
        "outputId": "973eac6c-361b-4f05-c06d-43c93ccba073"
      },
      "outputs": [
        {
          "data": {
            "text/plain": [
              "['a', 'b', 'c', 'd']"
            ]
          },
          "execution_count": 87,
          "metadata": {},
          "output_type": "execute_result"
        }
      ],
      "source": [
        "letters = ['a', 'b', 'c', 'd']\n",
        "letters "
      ]
    },
    {
      "cell_type": "code",
      "execution_count": null,
      "metadata": {
        "colab": {
          "base_uri": "https://localhost:8080/"
        },
        "id": "AjuXNiVNs8Gl",
        "outputId": "026f5796-3bc7-41ea-a95f-dbc97d5f6c5d"
      },
      "outputs": [
        {
          "data": {
            "text/plain": [
              "['a', 'b', 'c', 'd', 'e', 'f', 'g']"
            ]
          },
          "execution_count": 88,
          "metadata": {},
          "output_type": "execute_result"
        }
      ],
      "source": [
        "# you can concatenate lists\n",
        "letters += ['e', 'f', 'g'] # equivalent to letters = letters + ['e', 'f', 'g']\n",
        "letters"
      ]
    },
    {
      "cell_type": "markdown",
      "metadata": {
        "id": "fIYTp5FswNw7"
      },
      "source": [
        "#### <font color=\"cyan\">**Examples:**</font> Unpacking Lists"
      ]
    },
    {
      "cell_type": "markdown",
      "metadata": {
        "id": "Mbdrsqa2HSfa"
      },
      "source": [
        "- Unpacking means simultanous assignment of the list contents into variables\n",
        "\n",
        "- Lists may be unpacked into variables as follows:\n",
        "    * `one, two, three = [1, 2, 3]`\n",
        "    * variable `one` will be assigned the value `1`, variable `two` will have the value `2`, and so on..."
      ]
    },
    {
      "cell_type": "code",
      "execution_count": null,
      "metadata": {
        "id": "j8uXXVGWHSfa",
        "outputId": "fec0e474-8a6b-49f2-81b4-7383238586a8"
      },
      "outputs": [
        {
          "name": "stdout",
          "output_type": "stream",
          "text": [
            "1 2 3\n"
          ]
        }
      ],
      "source": [
        "one, two, three = [1, 2, 3]\n",
        "print(one, two, three)"
      ]
    },
    {
      "cell_type": "markdown",
      "metadata": {
        "id": "aoom2kAcHSfa"
      },
      "source": [
        "Note: When unpacking a list, the number of variables on the left hand side of the equal sign (`=`) must equal the number of elements in the list\n",
        "\n",
        "--- "
      ]
    },
    {
      "cell_type": "markdown",
      "metadata": {
        "id": "0duajdDjHSfb"
      },
      "source": [
        "#### <font color=\"cyan\">**Examples:**</font> Nested Lists (List of lists)"
      ]
    },
    {
      "cell_type": "code",
      "execution_count": null,
      "metadata": {
        "colab": {
          "base_uri": "https://localhost:8080/"
        },
        "id": "QG6hYI2LCHfc",
        "outputId": "38051ce2-c6a2-447c-8b39-cb74d9c7260a"
      },
      "outputs": [
        {
          "data": {
            "text/plain": [
              "[['a', 'b', 'c'], [1, 2, 3]]"
            ]
          },
          "execution_count": 89,
          "metadata": {},
          "output_type": "execute_result"
        }
      ],
      "source": [
        "# It is possible to nest lists (create lists containing other lists), for example\n",
        "a = ['a', 'b', 'c']\n",
        "n = [1, 2, 3]\n",
        "x = [a, n]\n",
        "x"
      ]
    },
    {
      "cell_type": "code",
      "execution_count": null,
      "metadata": {
        "colab": {
          "base_uri": "https://localhost:8080/"
        },
        "id": "hzSdTY3ECHib",
        "outputId": "7bfea5a2-aa66-4247-c53a-4d9ffe1cbb1f"
      },
      "outputs": [
        {
          "data": {
            "text/plain": [
              "['a', 'b', 'c']"
            ]
          },
          "execution_count": 91,
          "metadata": {},
          "output_type": "execute_result"
        }
      ],
      "source": [
        "x[0]    # the first item of x is the list 'a'"
      ]
    },
    {
      "cell_type": "code",
      "execution_count": null,
      "metadata": {
        "colab": {
          "base_uri": "https://localhost:8080/",
          "height": 35
        },
        "id": "1Yo0nekSCHlv",
        "outputId": "011e233d-fa49-4814-8b1d-e196a5a4d04d"
      },
      "outputs": [
        {
          "data": {
            "text/plain": [
              "'c'"
            ]
          },
          "execution_count": 92,
          "metadata": {},
          "output_type": "execute_result"
        }
      ],
      "source": [
        "# nested indexing\n",
        "x[0][-1]      # get the last element of the first list"
      ]
    },
    {
      "cell_type": "code",
      "execution_count": null,
      "metadata": {
        "colab": {
          "base_uri": "https://localhost:8080/"
        },
        "id": "nvT6R6UDeyup",
        "outputId": "9eeef192-2f80-4bac-b693-aba8269aac98"
      },
      "outputs": [
        {
          "data": {
            "text/plain": [
              "[1, 2, 3]"
            ]
          },
          "execution_count": 93,
          "metadata": {},
          "output_type": "execute_result"
        }
      ],
      "source": [
        "x[1]    # second item of x is the list 'n'"
      ]
    },
    {
      "cell_type": "markdown",
      "metadata": {
        "id": "JgVXfG06ePaz"
      },
      "source": [
        "#### <font color=\"magenta\">**Excercise:**</font> Write a code to get the index of the largest number in the list `numbers`:\n",
        "\n",
        "```\n",
        "# find the index of the largest number in list\n",
        "numbers = [-10, 0, 19, -2, 8, 3]\n",
        "```\n",
        "\n"
      ]
    },
    {
      "cell_type": "code",
      "execution_count": null,
      "metadata": {
        "colab": {
          "base_uri": "https://localhost:8080/"
        },
        "id": "00zsNWNMnvXR",
        "outputId": "9088583b-7c4f-4a2a-f4b5-0b7983d2ebac"
      },
      "outputs": [
        {
          "data": {
            "text/plain": [
              "[-10, 0, 19, -2, 8, 3]"
            ]
          },
          "execution_count": 96,
          "metadata": {},
          "output_type": "execute_result"
        }
      ],
      "source": [
        "numbers = [-10, 0, 19, -2, 8, 3]\n",
        "numbers"
      ]
    },
    {
      "cell_type": "code",
      "execution_count": null,
      "metadata": {
        "id": "FEHdchGAnvho"
      },
      "outputs": [],
      "source": [
        "# Write you solution here:\n"
      ]
    },
    {
      "cell_type": "markdown",
      "metadata": {
        "id": "th-h34QTh0G4"
      },
      "source": [
        "##### <font color=\"gray\">**Click here to view the solution**<font color=\"white\"> </font>\n"
      ]
    },
    {
      "cell_type": "markdown",
      "metadata": {
        "id": "kgyIRYTUiTDh"
      },
      "source": [
        "We can break the problem into smaller tasks:\n",
        "1. Find the maximum number in the list\n",
        "2. Find the index of that maximum number\n",
        "\n",
        "The built-in methods of `list` are useful here"
      ]
    },
    {
      "cell_type": "code",
      "execution_count": null,
      "metadata": {
        "colab": {
          "base_uri": "https://localhost:8080/"
        },
        "id": "0cIrB5--eco8",
        "outputId": "6b917056-dff6-46dc-91f4-8b4b835ffd75"
      },
      "outputs": [
        {
          "data": {
            "text/plain": [
              "19"
            ]
          },
          "execution_count": 98,
          "metadata": {},
          "output_type": "execute_result"
        }
      ],
      "source": [
        "# 1. Find the maximum number in the list\n",
        "max_n = max(numbers)    # let's call it max_n\n",
        "max_n"
      ]
    },
    {
      "cell_type": "code",
      "execution_count": null,
      "metadata": {
        "colab": {
          "base_uri": "https://localhost:8080/"
        },
        "id": "_5_gmYZYeceC",
        "outputId": "44d3085d-9e7e-4f30-b319-02b2c83beb0a"
      },
      "outputs": [
        {
          "data": {
            "text/plain": [
              "2"
            ]
          },
          "execution_count": 101,
          "metadata": {},
          "output_type": "execute_result"
        }
      ],
      "source": [
        "# 2. Find the index of \"max_n\"\n",
        "max_index = numbers.index(max_n)\n",
        "max_index"
      ]
    },
    {
      "cell_type": "code",
      "execution_count": null,
      "metadata": {
        "colab": {
          "base_uri": "https://localhost:8080/"
        },
        "id": "ZwBjqddJjwH-",
        "outputId": "3dc82190-3d26-4318-9169-da06544a9671"
      },
      "outputs": [
        {
          "data": {
            "text/plain": [
              "19"
            ]
          },
          "execution_count": 102,
          "metadata": {},
          "output_type": "execute_result"
        }
      ],
      "source": [
        "# We can verify the answer\n",
        "numbers[max_index]    # should return the maximum number in the list"
      ]
    },
    {
      "cell_type": "markdown",
      "metadata": {
        "id": "Uaf8X8q8AchE"
      },
      "source": [
        "#### Notes about list:\n",
        "* Lists cannot broadcast operations (i.e. some_list * 3.0)\n",
        "* NumPy arrays resolve this issue (next notebook)\n",
        "* Advanced: [How do I create a multidimensional list?](https://docs.python.org/3/faq/programming.html#faq-multidimensional-list)"
      ]
    },
    {
      "cell_type": "markdown",
      "metadata": {
        "id": "gFdAb72jiuyp"
      },
      "source": [
        "### <font color=\"lime\">**Tuple:** </font>Immutable Sequence Type"
      ]
    },
    {
      "cell_type": "markdown",
      "metadata": {
        "id": "Zsm42rdZXx5Z"
      },
      "source": [
        "#### Definition: sequence of comma-separated objects between parentheses `()`\n",
        "* Tuples are immutable sequences, typically used to store collections of heterogeneous data\n",
        "* Tuples are immutable (cannot change their values once assigned)\n",
        "* Tuples are useful to store an immutable sequence of data, such as X, Y coordinates  `coord = (712345.6, 2123456.7)` "
      ]
    },
    {
      "cell_type": "markdown",
      "metadata": {
        "id": "ZED6F-UPAaQr"
      },
      "source": [
        "#### <font color=\"cyan\">**Examples:**</font> Creating tuples</font></font>"
      ]
    },
    {
      "cell_type": "markdown",
      "metadata": {
        "id": "DjfYTGfdht3N"
      },
      "source": [
        "Tuples may be constructed in a number of ways:\n",
        "\n",
        "* Using a pair of parentheses to denote an empty tuple: `()`\n",
        "* Using a trailing comma for a singleton tuple: `a,` or `(a,)`\n",
        "* Separating items with commas: `a, b, c` or `(a, b, c)`\n",
        "* Using the *tuple()* built-in: `tuple()` or `tuple(iterable)`\n",
        "\n",
        "Note that it is actually the comma which makes a tuple, not the parentheses. The parentheses are optional, except in:\n",
        "1. The empty tuple case\n",
        "2. When they are needed to avoid syntactic ambiguity. For example, given `func()` is some defined function:\n",
        "  - where `func(a, b, c)` is a function call with three arguments\n",
        "  - while `func((a, b, c))` is a function call with a 3-element tuple as one argument."
      ]
    },
    {
      "cell_type": "code",
      "execution_count": null,
      "metadata": {
        "colab": {
          "base_uri": "https://localhost:8080/"
        },
        "id": "vT50-Kw-AzvE",
        "outputId": "555f1a32-dc67-4605-945b-5944c6b529b1"
      },
      "outputs": [
        {
          "data": {
            "text/plain": [
              "()"
            ]
          },
          "execution_count": 130,
          "metadata": {},
          "output_type": "execute_result"
        }
      ],
      "source": [
        "()                # empty tuple"
      ]
    },
    {
      "cell_type": "code",
      "execution_count": null,
      "metadata": {
        "colab": {
          "base_uri": "https://localhost:8080/"
        },
        "id": "F94ZAnl2A8TG",
        "outputId": "0fe7f365-98b1-4268-b091-b99f9bebebe1"
      },
      "outputs": [
        {
          "data": {
            "text/plain": [
              "(1, 2, 3)"
            ]
          },
          "execution_count": 131,
          "metadata": {},
          "output_type": "execute_result"
        }
      ],
      "source": [
        "t = (1, 2, 3)     # comma-separated with parentheses, equivalent to t = 1, 2, 3\n",
        "t"
      ]
    },
    {
      "cell_type": "code",
      "execution_count": null,
      "metadata": {
        "colab": {
          "base_uri": "https://localhost:8080/"
        },
        "id": "Wc030VYUCHo7",
        "outputId": "a79d39ad-1eae-4712-edaa-32a241e79e44"
      },
      "outputs": [
        {
          "data": {
            "text/plain": [
              "(1, 2, 3)"
            ]
          },
          "execution_count": 132,
          "metadata": {},
          "output_type": "execute_result"
        }
      ],
      "source": [
        "t = 1, 2, 3     # comma-separated without parentheses, equivalent to t = (1, 2, 3)\n",
        "t"
      ]
    },
    {
      "cell_type": "code",
      "execution_count": null,
      "metadata": {
        "colab": {
          "base_uri": "https://localhost:8080/"
        },
        "id": "aQBUtu6NBvxV",
        "outputId": "21bf3ab7-de41-40ac-e354-72ffe274a786"
      },
      "outputs": [
        {
          "data": {
            "text/plain": [
              "('a', 'b', 'c')"
            ]
          },
          "execution_count": 133,
          "metadata": {},
          "output_type": "execute_result"
        }
      ],
      "source": [
        "tuple('abc')      # from iterable"
      ]
    },
    {
      "cell_type": "markdown",
      "metadata": {
        "id": "Lf13th89C6ze"
      },
      "source": [
        "#### <font color=\"cyan\">**Examples:**</font> Operating on tuples"
      ]
    },
    {
      "cell_type": "markdown",
      "metadata": {
        "id": "7saA2I5jiQvF"
      },
      "source": [
        "The operations in the following table are supported by most sequence types, where:\n",
        "* `s` and `t` are sequences of the same type\n",
        "* `n`, `i`, `j`, and `k` are integers\n",
        "* `x` is an arbitrary object that meets any type imposed by `s`\n",
        "\n",
        "| Operation | Result|\n",
        "|----|----|\n",
        "| `x in s`  |`True` if an item of *s* is equal to *x*, else `False`|\n",
        "| `x not in s`  |`False` if an item of *s* is equal to *x*, else `True`|\n",
        "| `s + t`  |the concatenation of *s* and *t*|\n",
        "| `s * n` or `n * s`  |adding *s* to itself *n* times|\n",
        "| `s[i]` |*i*th item of *s*, origin 0|\n",
        "| `s[i:j]`  |slice of *s* from *i* to *j*|\n",
        "| `s[i:j:k]`  |slice of *s* from *i* to *j* with step *k*|\n",
        "| `len(s)`  |length of *s*  |\n",
        "| `min(x)`  |smallest item of *s*  |\n",
        "| `max(x)`  |largest item of *s*|\n",
        "| `s.index(x)`  |index of the first occurrence of *x* in *s*|\n",
        "| `s.count(x)`  |total number of occurrences of *x* in *s*|"
      ]
    },
    {
      "cell_type": "code",
      "execution_count": null,
      "metadata": {
        "colab": {
          "base_uri": "https://localhost:8080/"
        },
        "id": "cyoJzJc3J9y4",
        "outputId": "332bebce-bb50-4f94-cd7c-b81e07b0f43b"
      },
      "outputs": [
        {
          "data": {
            "text/plain": [
              "(123, 456, 'hello')"
            ]
          },
          "execution_count": 159,
          "metadata": {},
          "output_type": "execute_result"
        }
      ],
      "source": [
        "# Create a tuple with mixed data types\n",
        "t = 123, 456, 'hello'\n",
        "t"
      ]
    },
    {
      "cell_type": "code",
      "execution_count": null,
      "metadata": {
        "colab": {
          "base_uri": "https://localhost:8080/"
        },
        "id": "cfK4YdpRcmXN",
        "outputId": "62607759-2790-4843-f275-99ef0d990825"
      },
      "outputs": [
        {
          "data": {
            "text/plain": [
              "3"
            ]
          },
          "execution_count": 160,
          "metadata": {},
          "output_type": "execute_result"
        }
      ],
      "source": [
        "# get the number of elements in a tuple\n",
        "len(t)"
      ]
    },
    {
      "cell_type": "code",
      "execution_count": null,
      "metadata": {
        "colab": {
          "base_uri": "https://localhost:8080/"
        },
        "id": "uEHjl2mSZMGL",
        "outputId": "bf9c38c0-b0ba-4753-b0d9-487642da0035"
      },
      "outputs": [
        {
          "data": {
            "text/plain": [
              "True"
            ]
          },
          "execution_count": 161,
          "metadata": {},
          "output_type": "execute_result"
        }
      ],
      "source": [
        "# containment testing\n",
        "\"hello\" in t"
      ]
    },
    {
      "cell_type": "code",
      "execution_count": null,
      "metadata": {
        "colab": {
          "base_uri": "https://localhost:8080/"
        },
        "id": "eA0s7XgBMWKy",
        "outputId": "08352bca-40c9-4a3b-f16e-df8a4f664e8b"
      },
      "outputs": [
        {
          "data": {
            "text/plain": [
              "123"
            ]
          },
          "execution_count": 162,
          "metadata": {},
          "output_type": "execute_result"
        }
      ],
      "source": [
        "# indexing a tuple\n",
        "t[0]                # first element"
      ]
    },
    {
      "cell_type": "code",
      "execution_count": null,
      "metadata": {
        "colab": {
          "base_uri": "https://localhost:8080/"
        },
        "id": "XIZCNqfrjZHW",
        "outputId": "90eda969-ea33-4fd1-9c95-9bf6cc4887a5"
      },
      "outputs": [
        {
          "name": "stdout",
          "output_type": "stream",
          "text": [
            "123 456 hello\n"
          ]
        }
      ],
      "source": [
        "# You can unpack a tuple\n",
        "x, y, z = t         # this is called sequence unpacking\n",
        "print(x, y, z)"
      ]
    },
    {
      "cell_type": "markdown",
      "metadata": {
        "id": "ZMOwxgSXazFS"
      },
      "source": [
        "Note: When unpacking a sequence `t`, the number of variables on the LHS must equal the number of elements in the sequence on the RHS.\n",
        "\n",
        "--- "
      ]
    },
    {
      "cell_type": "code",
      "execution_count": null,
      "metadata": {
        "colab": {
          "base_uri": "https://localhost:8080/"
        },
        "id": "HZ0eKusgZwYo",
        "outputId": "a73babcc-8883-474d-c1b8-31a3624f0227"
      },
      "outputs": [
        {
          "data": {
            "text/plain": [
              "(123, 456, 'hello', 789, 'abc')"
            ]
          },
          "execution_count": 164,
          "metadata": {},
          "output_type": "execute_result"
        }
      ],
      "source": [
        "# concatenating (merging) tuples\n",
        "t + (789, 'abc')"
      ]
    },
    {
      "cell_type": "code",
      "execution_count": null,
      "metadata": {
        "colab": {
          "base_uri": "https://localhost:8080/"
        },
        "id": "TuVoosgIcUXx",
        "outputId": "ac583ce3-27fc-477d-ab3b-ee99dd297b55"
      },
      "outputs": [
        {
          "data": {
            "text/plain": [
              "(123, 456, 'hello', 123, 456, 'hello')"
            ]
          },
          "execution_count": 165,
          "metadata": {},
          "output_type": "execute_result"
        }
      ],
      "source": [
        "# repeat a tuple n times\n",
        "n = 2\n",
        "t * n"
      ]
    },
    {
      "cell_type": "markdown",
      "metadata": {
        "id": "_eRwHNUKZWSG"
      },
      "source": [
        "#### <font color=\"cyan\">**Examples:**</font> Nested Tuples (Tuple of tuples)"
      ]
    },
    {
      "cell_type": "code",
      "execution_count": null,
      "metadata": {
        "colab": {
          "base_uri": "https://localhost:8080/"
        },
        "id": "Az_T9H3UMgsy",
        "outputId": "f6935fd8-a0f0-41b9-8f2d-2c4f52d3fa38"
      },
      "outputs": [
        {
          "data": {
            "text/plain": [
              "((123, 456, 'hello'), (1, 2, 3))"
            ]
          },
          "execution_count": 166,
          "metadata": {},
          "output_type": "execute_result"
        }
      ],
      "source": [
        "t = 123, 456, 'hello'\n",
        "\n",
        "# tuples can be nested: a tuple of tuples\n",
        "u = t, (1,2,3)\n",
        "u"
      ]
    },
    {
      "cell_type": "code",
      "execution_count": null,
      "metadata": {
        "colab": {
          "base_uri": "https://localhost:8080/",
          "height": 35
        },
        "id": "afJMzT7JNmrx",
        "outputId": "a0f5febf-4b2c-4e6f-d9f9-5b90487c1dba"
      },
      "outputs": [
        {
          "data": {
            "text/plain": [
              "'hello'"
            ]
          },
          "execution_count": 167,
          "metadata": {},
          "output_type": "execute_result"
        }
      ],
      "source": [
        "# nested indexing \n",
        "u[0][-1]          # get the last element of the first item"
      ]
    },
    {
      "cell_type": "code",
      "execution_count": null,
      "metadata": {
        "id": "F1K3KzMhMsE6"
      },
      "outputs": [],
      "source": [
        "# tuples are immutable\n",
        "# t[0] = 8888     # will raise an error, uncomment & run cell"
      ]
    },
    {
      "cell_type": "code",
      "execution_count": null,
      "metadata": {
        "colab": {
          "base_uri": "https://localhost:8080/"
        },
        "id": "0cZTqd9pM4zi",
        "outputId": "760bf328-2ded-4365-8a79-03441633eefe"
      },
      "outputs": [
        {
          "data": {
            "text/plain": [
              "(['a', 'b', 'c'], [1, 2, 3])"
            ]
          },
          "execution_count": 169,
          "metadata": {},
          "output_type": "execute_result"
        }
      ],
      "source": [
        "#  but they can contain mutable objects\n",
        "v = (['a', 'b', 'c'], [1, 2, 3])\n",
        "v"
      ]
    },
    {
      "cell_type": "code",
      "execution_count": null,
      "metadata": {
        "colab": {
          "base_uri": "https://localhost:8080/"
        },
        "id": "iGUdWpNOouAD",
        "outputId": "2e5b410d-43c2-4a3a-e746-132592d23f5e"
      },
      "outputs": [
        {
          "data": {
            "text/plain": [
              "(['a', 'b', 'c'], [1, 2, 4])"
            ]
          },
          "execution_count": 170,
          "metadata": {},
          "output_type": "execute_result"
        }
      ],
      "source": [
        "v[1][-1] = 4\n",
        "v"
      ]
    },
    {
      "cell_type": "markdown",
      "metadata": {
        "id": "GypEWZ0QNRj9"
      },
      "source": [
        "As you see, on output tuples are always enclosed in parentheses"
      ]
    },
    {
      "cell_type": "code",
      "execution_count": null,
      "metadata": {
        "colab": {
          "base_uri": "https://localhost:8080/"
        },
        "id": "4ipEk2K5PLOG",
        "outputId": "48414db5-1929-4345-9f47-62c9e1bb68ed"
      },
      "outputs": [
        {
          "data": {
            "text/plain": [
              "3"
            ]
          },
          "execution_count": 171,
          "metadata": {},
          "output_type": "execute_result"
        }
      ],
      "source": [
        "# find the number of elements in a tuple\n",
        "len(t)"
      ]
    },
    {
      "cell_type": "code",
      "execution_count": null,
      "metadata": {
        "colab": {
          "base_uri": "https://localhost:8080/"
        },
        "id": "UH9OBM6sRqII",
        "outputId": "1973c1fa-5fe9-47fb-b5ec-73a55a3e6bcd"
      },
      "outputs": [
        {
          "data": {
            "text/plain": [
              "True"
            ]
          },
          "execution_count": 172,
          "metadata": {},
          "output_type": "execute_result"
        }
      ],
      "source": [
        "# check if tuple contain 'hello'\n",
        "'hello' in t"
      ]
    },
    {
      "cell_type": "code",
      "execution_count": null,
      "metadata": {
        "colab": {
          "base_uri": "https://localhost:8080/"
        },
        "id": "CDfD3baJPSmG",
        "outputId": "c9ce73aa-b83f-47c6-b871-f083c47b1274"
      },
      "outputs": [
        {
          "data": {
            "text/plain": [
              "(123, 456, 'hello', 3, 4, 5)"
            ]
          },
          "execution_count": 173,
          "metadata": {},
          "output_type": "execute_result"
        }
      ],
      "source": [
        "# you can concatenate two tuples\n",
        "t + (3, 4, 5)"
      ]
    },
    {
      "cell_type": "code",
      "execution_count": null,
      "metadata": {
        "colab": {
          "base_uri": "https://localhost:8080/"
        },
        "id": "RcM4mh1jPq6n",
        "outputId": "87bbf0fe-d632-433e-a9de-cde0d36d4aa5"
      },
      "outputs": [
        {
          "data": {
            "text/plain": [
              "(123, 456, 'hello', 123, 456, 'hello')"
            ]
          },
          "execution_count": 174,
          "metadata": {},
          "output_type": "execute_result"
        }
      ],
      "source": [
        "# you can repeat a tuple\n",
        "t * 2"
      ]
    },
    {
      "cell_type": "markdown",
      "metadata": {
        "id": "L1zc5x23X6U5"
      },
      "source": [
        "#### <font color=\"magenta\">**Excercise:**</font> Print every other element of `t`, reversed: \n",
        "\n",
        "```\n",
        "t = ('n', 1, 'o', 2, 'h', 3, 't', 4, 'y', 5, 'P')\n",
        "```"
      ]
    },
    {
      "cell_type": "code",
      "execution_count": null,
      "metadata": {
        "id": "698cv-VwTUkS",
        "outputId": "a960e349-02cc-4653-9e43-b2862102b5d2"
      },
      "outputs": [
        {
          "data": {
            "text/plain": [
              "('n', 1, 'o', 2, 'h', 3, 't', 4, 'y', 5, 'P')"
            ]
          },
          "execution_count": 182,
          "metadata": {},
          "output_type": "execute_result"
        }
      ],
      "source": [
        "t = ('n', 1, 'o', 2, 'h', 3, 't', 4, 'y', 5, 'P')\n",
        "t"
      ]
    },
    {
      "cell_type": "code",
      "execution_count": null,
      "metadata": {
        "id": "QcU-a0LkTVRh"
      },
      "outputs": [],
      "source": [
        "# Write you solution here:\n"
      ]
    },
    {
      "cell_type": "markdown",
      "metadata": {
        "id": "IH3c77EoTbW1"
      },
      "source": [
        "##### <font color=\"gray\">**Click here to view the solution**<font color=\"white\"> </font>\n"
      ]
    },
    {
      "cell_type": "code",
      "execution_count": null,
      "metadata": {
        "id": "ECRswPWTThaR",
        "outputId": "5ca0524a-a3bc-4789-b84e-a1d35a465553"
      },
      "outputs": [
        {
          "name": "stdout",
          "output_type": "stream",
          "text": [
            "('P', 'y', 't', 'h', 'o', 'n')\n"
          ]
        }
      ],
      "source": [
        "# Solution:\n",
        "print(t[::-2])"
      ]
    },
    {
      "cell_type": "markdown",
      "source": [
        "### <font color=\"lime\">**Range:** <font color=\"white\">Immutable Sequence Type</font>"
      ],
      "metadata": {
        "id": "8ke_iGYjVMBV"
      }
    },
    {
      "cell_type": "markdown",
      "source": [
        "#### Definition: sequence of linearly-spaced numbers\n",
        "* Ranges are immutable sequences, typically used to create a collection of sequential numbers on the fly\n",
        "* Usage: used to create a collection of sequential numbers on the fly\n",
        "* Creation: use the built-in function `range()`\n",
        "    - `range(stop)`: create range from `0` to `stop`, exclusive\n",
        "    - `range(start, stop, step)`: create range from `start` to `stop` stepping every `step`\n",
        "* Ranges are immutable (cannot change their values once assigned)\n",
        "\n",
        "Notes:\n",
        "* if `start` is omiitted it defaults to `0`\n",
        "* if `step` is ommitted it defaults to `1`"
      ],
      "metadata": {
        "id": "kAOtRA4SVMEa"
      }
    },
    {
      "cell_type": "code",
      "execution_count": null,
      "metadata": {
        "colab": {
          "base_uri": "https://localhost:8080/"
        },
        "id": "_x6SKfWH7G7Y",
        "outputId": "d0d4c489-73ba-46a5-dd5e-414d4f757831"
      },
      "outputs": [
        {
          "data": {
            "text/plain": [
              "range(0, 3)"
            ]
          },
          "execution_count": 210,
          "metadata": {},
          "output_type": "execute_result"
        }
      ],
      "source": [
        "# Example: range (stop)\n",
        "range_1 = range(3) # range from 0 to 3\n",
        "range_1"
      ]
    },
    {
      "cell_type": "code",
      "execution_count": null,
      "metadata": {
        "id": "sdsKSiVRHSf7",
        "outputId": "2ee528aa-5f05-42f7-d853-6439cf7c4145"
      },
      "outputs": [
        {
          "data": {
            "text/plain": [
              "range(-10, 10, 2)"
            ]
          },
          "execution_count": 211,
          "metadata": {},
          "output_type": "execute_result"
        }
      ],
      "source": [
        "# Example: range (start, stop, step)\n",
        "range_2 = range(-10, 10, 2) # range from -10 to 10 stepping every 2\n",
        "range_2"
      ]
    },
    {
      "cell_type": "markdown",
      "metadata": {
        "id": "1dpyIYcYHSf7"
      },
      "source": [
        "Note: `range()` is a type of its own, if you want to view its contents, you can covert it into a list using the built-in function `list()`, like so:"
      ]
    },
    {
      "cell_type": "code",
      "execution_count": null,
      "metadata": {
        "colab": {
          "base_uri": "https://localhost:8080/"
        },
        "id": "-TD8E4CB6T_o",
        "outputId": "298dffeb-2098-435c-d00d-4cb8c35f593f"
      },
      "outputs": [
        {
          "data": {
            "text/plain": [
              "[0, 1, 2]"
            ]
          },
          "execution_count": 212,
          "metadata": {},
          "output_type": "execute_result"
        }
      ],
      "source": [
        "list(range_1) # you can convert it to a list"
      ]
    },
    {
      "cell_type": "code",
      "execution_count": null,
      "metadata": {
        "id": "1O2akh29HSf8",
        "outputId": "e0f3c7c3-aa2f-4d8e-ca9b-8801d1685980"
      },
      "outputs": [
        {
          "data": {
            "text/plain": [
              "[-10, -8, -6, -4, -2, 0, 2, 4, 6, 8]"
            ]
          },
          "execution_count": 213,
          "metadata": {},
          "output_type": "execute_result"
        }
      ],
      "source": [
        "list(range_2)"
      ]
    },
    {
      "cell_type": "markdown",
      "metadata": {
        "id": "zY8QSktbC2zD"
      },
      "source": [
        "---\n",
        "## <font color=\"orange\">**3.2. Mapping Types:** <font color=\"white\">dict</font>"
      ]
    },
    {
      "cell_type": "markdown",
      "metadata": {
        "id": "i9BDMyMNX6sf"
      },
      "source": [
        "Python supports only one standard mapping type, the *dictionary*:\n",
        "* `dict()` - mutable\n",
        "\n",
        "Note:\n",
        "* A mapping object maps [hashable](https://docs.python.org/3/glossary.html#term-hashable) values to arbitrary objects\n",
        "* Mappings are mutable objects"
      ]
    },
    {
      "cell_type": "markdown",
      "metadata": {
        "id": "azzw-En4XnAH"
      },
      "source": [
        "### <font color=\"lime\">**Dictionary:** </font>Mutable Mapping Type"
      ]
    },
    {
      "cell_type": "markdown",
      "metadata": {
        "id": "8MQ4qOyeESde"
      },
      "source": [
        "#### Definition: collection of comma-separated `key: value` pairs, with the requirement that the keys are unique.\n",
        "\n",
        "* Think of a `dict` as a phonebook, where every house (key) may have a single phone number (value).\n",
        "* Unlike sequences, which are indexed by a range of numbers, dictionaries are indexed by keys, strings and numbers can always be keys.\n",
        "* Values that are not hashable, that is, values containing lists, dictionaries or other mutable types may not be used as keys."
      ]
    },
    {
      "cell_type": "markdown",
      "metadata": {
        "id": "tPxsc_agHSfl"
      },
      "source": [
        "#### <font color=\"cyan\">**Examples:**</font> Creating dictionaries"
      ]
    },
    {
      "cell_type": "markdown",
      "metadata": {
        "id": "gwDVAi4CaRzq"
      },
      "source": [
        "Dictionaries may be constructed in several ways:\n",
        "\n",
        "* Use a pair of curly braces to create an empty dictionary: `{}`\n",
        "* Use a comma-separated list of `key: value` pairs within curly braces:\n",
        "  - `{'Adam':1001, 'Bob':1002}`\n",
        "* Use the type constructor: \n",
        "  - `dict()`\n",
        "  - `dict([('foo', 100), ('bar', 200)])`\n",
        "  - `dict(foo=100, bar=200)`\n",
        "* Use a dict comprehension: `{x: x ** 2 for x in range(10)}`\n",
        "\n",
        "\n",
        "\n",
        "\n",
        "\n"
      ]
    },
    {
      "cell_type": "code",
      "execution_count": null,
      "metadata": {
        "colab": {
          "base_uri": "https://localhost:8080/"
        },
        "id": "KzEdv8lub5dX",
        "outputId": "c9776fe2-8735-4364-dc22-2c7d908a1bc1"
      },
      "outputs": [
        {
          "data": {
            "text/plain": [
              "{}"
            ]
          },
          "execution_count": 121,
          "metadata": {},
          "output_type": "execute_result"
        }
      ],
      "source": [
        "{}                                # empty dict"
      ]
    },
    {
      "cell_type": "code",
      "execution_count": null,
      "metadata": {
        "colab": {
          "base_uri": "https://localhost:8080/"
        },
        "id": "JUcj9Bcfb5Z8",
        "outputId": "7747f41f-5180-4050-9d8f-3e033740e7b7"
      },
      "outputs": [
        {
          "output_type": "execute_result",
          "data": {
            "text/plain": [
              "{'Adam': 1001, 'Bob': 1002}"
            ]
          },
          "metadata": {},
          "execution_count": 2
        }
      ],
      "source": [
        "{'Adam':1001, 'Bob':1002}        # comma-separated key:value pairs"
      ]
    },
    {
      "cell_type": "code",
      "execution_count": null,
      "metadata": {
        "colab": {
          "base_uri": "https://localhost:8080/"
        },
        "id": "v5MpIRBdb5Wd",
        "outputId": "983a61b2-639a-42c5-b2e0-99ef2822ed8d"
      },
      "outputs": [
        {
          "data": {
            "text/plain": [
              "{'bar': 200, 'foo': 100}"
            ]
          },
          "execution_count": 125,
          "metadata": {},
          "output_type": "execute_result"
        }
      ],
      "source": [
        "# from iterable\n",
        "mapping_list = [('foo', 100), ('bar', 200)]   # 1. create list of mappings\n",
        "dict(mapping_list)                            # 2. use type constructor"
      ]
    },
    {
      "cell_type": "code",
      "execution_count": null,
      "metadata": {
        "id": "KF3RhZ67b5Tl",
        "colab": {
          "base_uri": "https://localhost:8080/"
        },
        "outputId": "233bd2d7-3344-4143-e9c9-96eadf5a0b59"
      },
      "outputs": [
        {
          "output_type": "execute_result",
          "data": {
            "text/plain": [
              "{0: 0, 1: 2, 2: 4, 3: 6, 4: 8, 5: 10, 6: 12, 7: 14, 8: 16, 9: 18}"
            ]
          },
          "metadata": {},
          "execution_count": 1
        }
      ],
      "source": [
        "{x: x * 2 for x in range(10)}      # dict comprehension (Advanced)"
      ]
    },
    {
      "cell_type": "markdown",
      "metadata": {
        "id": "KmRsd1hTHSfm"
      },
      "source": [
        "#### <font color=\"cyan\">**Examples:**</font> Operating on dictionaries"
      ]
    },
    {
      "cell_type": "markdown",
      "metadata": {
        "id": "rrMDAtXsfKaf"
      },
      "source": [
        "These are the operations that dictionaries support, where *d* denotes a `dict`:\n",
        "\n",
        "| Operation | Result|\n",
        "|----|----|\n",
        "| `list(d)`  |return a list of keys of *d*|\n",
        "| `len(d)`  |return the number of items in *d*|\n",
        "| `d[key]`  |return the item of *d* with key *key*|\n",
        "| `d[key] = value`  |set `d[key]` to *value*|\n",
        "| `del d[key]`  |remove `d[key]` from *d*|\n",
        "| `key in d` |return `True`, if *d* has a key *key*, else `False`|\n",
        "| `key not in d` |equivalent to `not key in d`|\n",
        "| `d.popitem()`  |remove and return a `(key, vlaue)` pair from *d*|\n",
        "| `d.keys(x)`  |Return a view of the *d*’s keys|\n",
        "| `d.values(x)`  |Return a view of the *d*’s values|\n",
        "| `d.items(x)`  |Return a view of the *d*’s items|\n",
        "\n",
        "Note: A dictionary's `item` is a single pair of `(key: value)`"
      ]
    },
    {
      "cell_type": "code",
      "execution_count": null,
      "metadata": {
        "colab": {
          "base_uri": "https://localhost:8080/"
        },
        "id": "WhxyQIjdDSn0",
        "outputId": "d21a0585-1211-4cae-de30-02d50bdb92b6"
      },
      "outputs": [
        {
          "data": {
            "text/plain": [
              "{'four': 4, 'one': 1, 'three': 3, 'two': 2}"
            ]
          },
          "execution_count": 143,
          "metadata": {},
          "output_type": "execute_result"
        }
      ],
      "source": [
        "# Example: Declaring a dictionary\n",
        "d = {\"one\": 1, \"two\": 2, \"three\": 3, \"four\": 4}\n",
        "d"
      ]
    },
    {
      "cell_type": "markdown",
      "metadata": {
        "id": "xZIbCnRFsHBd"
      },
      "source": [
        "Note: Dictionaries preserve insertion order"
      ]
    },
    {
      "cell_type": "code",
      "execution_count": null,
      "metadata": {
        "colab": {
          "base_uri": "https://localhost:8080/"
        },
        "id": "gSiJaqNneP2_",
        "outputId": "db89801f-418b-4461-992a-894712cb931a"
      },
      "outputs": [
        {
          "data": {
            "text/plain": [
              "['one', 'two', 'three', 'four']"
            ]
          },
          "execution_count": 139,
          "metadata": {},
          "output_type": "execute_result"
        }
      ],
      "source": [
        "# list dict keys\n",
        "list(d)"
      ]
    },
    {
      "cell_type": "code",
      "execution_count": null,
      "metadata": {
        "colab": {
          "base_uri": "https://localhost:8080/"
        },
        "id": "Zq6AhVJyri5y",
        "outputId": "bebff1a2-fb2e-40c5-9ff4-2ad900960c25"
      },
      "outputs": [
        {
          "data": {
            "text/plain": [
              "[1, 2, 3, 4]"
            ]
          },
          "execution_count": 140,
          "metadata": {},
          "output_type": "execute_result"
        }
      ],
      "source": [
        "# list dict values\n",
        "list(d.values())"
      ]
    },
    {
      "cell_type": "code",
      "execution_count": null,
      "metadata": {
        "colab": {
          "base_uri": "https://localhost:8080/"
        },
        "id": "c2QbP1I9rt3Z",
        "outputId": "097969d3-e052-4b75-bc92-60d4e917405f"
      },
      "outputs": [
        {
          "data": {
            "text/plain": [
              "[('one', 1), ('two', 2), ('three', 3), ('four', 4)]"
            ]
          },
          "execution_count": 141,
          "metadata": {},
          "output_type": "execute_result"
        }
      ],
      "source": [
        "# list dict items\n",
        "list(d.items())"
      ]
    },
    {
      "cell_type": "code",
      "execution_count": null,
      "metadata": {
        "colab": {
          "base_uri": "https://localhost:8080/"
        },
        "id": "MDEAMG-WePz_",
        "outputId": "40f29054-374b-4d4e-c4b2-ec27e5552530"
      },
      "outputs": [
        {
          "data": {
            "text/plain": [
              "{'four': 4, 'one': 1111, 'three': 3, 'two': 2}"
            ]
          },
          "execution_count": 145,
          "metadata": {},
          "output_type": "execute_result"
        }
      ],
      "source": [
        "# update a value\n",
        "d[\"one\"] = 1111\n",
        "d"
      ]
    },
    {
      "cell_type": "markdown",
      "metadata": {
        "id": "0Qi4TT9cftGx"
      },
      "source": [
        "If a key occurs more than once, the last value for that key becomes the corresponding value in the new dictionary."
      ]
    },
    {
      "cell_type": "code",
      "execution_count": null,
      "metadata": {
        "id": "aRVeBy8u5bAp"
      },
      "outputs": [],
      "source": []
    },
    {
      "cell_type": "markdown",
      "metadata": {
        "id": "LF5oaCvDdcbj"
      },
      "source": [
        "#### <font color=\"magenta\">**Excercise:**</font> Update the team members roster\n",
        "\n",
        "Your current team member roster is not up to date, update it by taking the following actions:\n",
        "1. Changes Chris's ID from `3` to `1003`\n",
        "2. Remove Frank from roster, as he recently resigned\n",
        "3. print the number of members, making sure it is 5\n",
        "\n",
        "```\n",
        "team = {\n",
        "    'Adam':1001, \n",
        "    'Bob':1002, \n",
        "    'Chris':3, \n",
        "    'Denice':1004,\n",
        "    'Emily':1005, \n",
        "    'Frank':1006\n",
        "    }\n",
        "```\n",
        "\n"
      ]
    },
    {
      "cell_type": "code",
      "execution_count": null,
      "metadata": {
        "id": "0jFmtfCW5a9b",
        "colab": {
          "base_uri": "https://localhost:8080/"
        },
        "outputId": "1f4a3a83-d37f-4420-f300-bb777822b2bb"
      },
      "outputs": [
        {
          "output_type": "execute_result",
          "data": {
            "text/plain": [
              "{'Adam': 1001,\n",
              " 'Bob': 1002,\n",
              " 'Chris': 3,\n",
              " 'Denice': 1004,\n",
              " 'Emily': 1005,\n",
              " 'Frank': 1006}"
            ]
          },
          "metadata": {},
          "execution_count": 8
        }
      ],
      "source": [
        "# Dictionary of employees names and IDs\n",
        "team = {\n",
        "    'Adam':1001, \n",
        "    'Bob':1002, \n",
        "    'Chris':3, \n",
        "    'Denice':1004,\n",
        "    'Emily':1005, \n",
        "    'Frank':1006\n",
        "    }\n",
        "\n",
        "team"
      ]
    },
    {
      "cell_type": "code",
      "source": [
        "# Type your solution here\n"
      ],
      "metadata": {
        "id": "-2pepihZF0ip"
      },
      "execution_count": null,
      "outputs": []
    },
    {
      "cell_type": "markdown",
      "metadata": {
        "id": "NAVJK1RiF1ix"
      },
      "source": [
        "##### <font color=\"gray\">**Click here to view the solution** </font>\n"
      ]
    },
    {
      "cell_type": "code",
      "execution_count": null,
      "metadata": {
        "id": "d4CykSVQ5a0A",
        "colab": {
          "base_uri": "https://localhost:8080/"
        },
        "outputId": "a91409c5-0327-4991-badb-30c083ab24ec"
      },
      "outputs": [
        {
          "output_type": "stream",
          "name": "stdout",
          "text": [
            "The number of employees is:  5\n"
          ]
        },
        {
          "output_type": "execute_result",
          "data": {
            "text/plain": [
              "{'Adam': 1001, 'Bob': 1002, 'Chris': 1003, 'Denice': 1004, 'Emily': 1005}"
            ]
          },
          "metadata": {},
          "execution_count": 10
        }
      ],
      "source": [
        "# 1. Fix Chris's ID number \n",
        "team['Chris'] = 1003\n",
        "\n",
        "# 2. Remove Frank from roster\n",
        "del team['Frank']\n",
        "\n",
        "# 3. Print the current number of members\n",
        "print('The number of employees is: ', len(team))\n",
        "\n",
        "team"
      ]
    },
    {
      "cell_type": "markdown",
      "source": [
        "## Key Points of Built-in Data Structures:\n",
        "* Python supports iteration over containers, iteration will be introduced in upcoming sections\n",
        "* List are defined by square brackets `[]`, tuples by parenthesis `()`, dictionaries by curly brackets `{}`"
      ],
      "metadata": {
        "id": "VYjMbFySF8Is"
      }
    },
    {
      "cell_type": "markdown",
      "metadata": {
        "id": "AkHIQ1_at723"
      },
      "source": [
        "---\n",
        "# <a>**4. Built-in Functions**</a>"
      ]
    },
    {
      "cell_type": "markdown",
      "metadata": {
        "id": "r1IGWdQm0UYv"
      },
      "source": [
        "### What is a function?\n",
        "Chunk of code that is grouped together, given a name, and executed whenever it is \"called\". Functions are denoted by parentheses `()`. Calling a function looks like this `function(argument)`, where `function` is the name of the name of the function, and `argument` in an input parameter to the function.\n",
        "\n",
        "### What are built-in functions?\n",
        "Pre-defined functions that are included in the Python standard library and available in the namespace\n",
        "\n",
        "### Note:\n",
        "* A function should be consice and perform one main task\n",
        "good functions should be well documented ([docstring](https://www.python.org/dev/peps/pep-0257/#id4))"
      ]
    },
    {
      "cell_type": "markdown",
      "metadata": {
        "id": "wbZfOhsfuXx8"
      },
      "source": [
        "---\n",
        "## <font color=\"orange\">4.1. The `print(x)` Function:</font>\n",
        "\n",
        "* Action: print *x*\n",
        "* Perhaps the most commonly used built-in function in python"
      ]
    },
    {
      "cell_type": "code",
      "execution_count": null,
      "metadata": {
        "colab": {
          "base_uri": "https://localhost:8080/"
        },
        "id": "g8NdOiQXhL24",
        "outputId": "386d4331-0b79-47a9-8ec5-f7215a60e0c3"
      },
      "outputs": [
        {
          "name": "stdout",
          "output_type": "stream",
          "text": [
            "Hello world!!!\n"
          ]
        }
      ],
      "source": [
        "print('Hello world!!!')"
      ]
    },
    {
      "cell_type": "code",
      "execution_count": null,
      "metadata": {
        "colab": {
          "base_uri": "https://localhost:8080/"
        },
        "id": "glvvUo5GhL9D",
        "outputId": "8dcadf0d-36c6-4267-9236-30aa5e4c092b"
      },
      "outputs": [
        {
          "name": "stdout",
          "output_type": "stream",
          "text": [
            "Hello world!!!Hello world!!!Hello world!!!\n"
          ]
        }
      ],
      "source": [
        "# print greet multiple times\n",
        "greet = 'Hello world!!!'\n",
        "print(greet * 3)"
      ]
    },
    {
      "cell_type": "code",
      "execution_count": null,
      "metadata": {
        "colab": {
          "base_uri": "https://localhost:8080/"
        },
        "id": "6kesg94xhMAT",
        "outputId": "bb1618c4-713c-49d0-8a22-72cb841fbed6"
      },
      "outputs": [
        {
          "name": "stdout",
          "output_type": "stream",
          "text": [
            "Hello world!!! 4 times\n"
          ]
        }
      ],
      "source": [
        "# print multiple objects separated by comma\n",
        "print(greet, 4, 'times')"
      ]
    },
    {
      "cell_type": "markdown",
      "metadata": {
        "id": "wjQjFYe6FCl6"
      },
      "source": [
        "### <font color=\"lime\"> Print with style:</font> Use formatted strings (a.k.a f-strings) to print text and variables neatly"
      ]
    },
    {
      "cell_type": "markdown",
      "metadata": {
        "id": "44mfIES73DkF"
      },
      "source": [
        "How to print f-strings: \n",
        "* Adding `f` before the `\"quotes\"` indicates a *formatted string*\n",
        "* Use `{curly braces}` to insert variable into string\n",
        "* Use colon `:` to specify formatting, as follows:\n"
      ]
    },
    {
      "cell_type": "markdown",
      "source": [
        "![fstrings.png](data:image/png;base64,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)"
      ],
      "metadata": {
        "id": "M90QoALa_W9n"
      }
    },
    {
      "cell_type": "code",
      "execution_count": null,
      "metadata": {
        "colab": {
          "base_uri": "https://localhost:8080/"
        },
        "id": "rKMDVroeFXg-",
        "outputId": "220f5174-7169-43ea-8b06-ea4a3640b500"
      },
      "outputs": [
        {
          "output_type": "stream",
          "name": "stdout",
          "text": [
            "40.12345 2.565656\n"
          ]
        }
      ],
      "source": [
        "speed = 40.12345\n",
        "mass = 2.565656\n",
        "print(speed, mass)                     # raw printing can be confusing"
      ]
    },
    {
      "cell_type": "code",
      "execution_count": null,
      "metadata": {
        "colab": {
          "base_uri": "https://localhost:8080/"
        },
        "id": "ThOF_V52FXW3",
        "outputId": "9640be2f-d4c9-4c33-9c3f-1afa5ac729cd"
      },
      "outputs": [
        {
          "output_type": "stream",
          "name": "stdout",
          "text": [
            "Speed= 40.12345  Mass= 2.565656\n"
          ]
        }
      ],
      "source": [
        "print(\"Speed=\",speed,\" Mass=\",mass)   # print comma-sparated objects"
      ]
    },
    {
      "cell_type": "code",
      "execution_count": null,
      "metadata": {
        "colab": {
          "base_uri": "https://localhost:8080/"
        },
        "id": "E6G_Idl1GX0B",
        "outputId": "1037dc5a-b6c4-464d-9f5a-beb0a466e4f8"
      },
      "outputs": [
        {
          "output_type": "stream",
          "name": "stdout",
          "text": [
            "Speed=[40.12] m/s, Mass=[2.57] kg\n"
          ]
        }
      ],
      "source": [
        "# print as f-string\n",
        "print(f\"Speed=[{speed:5.2f}] m/s, Mass=[{mass:4.2f}] kg\")   "
      ]
    },
    {
      "cell_type": "markdown",
      "metadata": {
        "id": "18vae2Bvygan"
      },
      "source": [
        "---\n",
        "## <font color=\"orange\">4.2. The `type(x)` Function:</font>\n",
        "\n",
        "* Action: returns the type of x"
      ]
    },
    {
      "cell_type": "code",
      "execution_count": null,
      "metadata": {
        "colab": {
          "base_uri": "https://localhost:8080/"
        },
        "id": "2wOGZDwy1Jja",
        "outputId": "77e2aefe-bb4f-4c53-f728-2745ac5bd2d8"
      },
      "outputs": [
        {
          "data": {
            "text/plain": [
              "str"
            ]
          },
          "execution_count": 1,
          "metadata": {},
          "output_type": "execute_result"
        }
      ],
      "source": [
        "type('hello')         # string"
      ]
    },
    {
      "cell_type": "code",
      "execution_count": null,
      "metadata": {
        "colab": {
          "base_uri": "https://localhost:8080/"
        },
        "id": "UzBHaEAe1ctK",
        "outputId": "d69542bc-e804-45b3-eccb-9f9ea9250041"
      },
      "outputs": [
        {
          "data": {
            "text/plain": [
              "int"
            ]
          },
          "execution_count": 3,
          "metadata": {},
          "output_type": "execute_result"
        }
      ],
      "source": [
        "x = 2\n",
        "type(x)               # integer"
      ]
    },
    {
      "cell_type": "code",
      "execution_count": null,
      "metadata": {
        "colab": {
          "base_uri": "https://localhost:8080/"
        },
        "id": "UHhfvt8b1heh",
        "outputId": "f67ac034-bca2-4812-b2dd-5b58dab4596f"
      },
      "outputs": [
        {
          "data": {
            "text/plain": [
              "float"
            ]
          },
          "execution_count": 4,
          "metadata": {},
          "output_type": "execute_result"
        }
      ],
      "source": [
        "type(2.0)             # float"
      ]
    },
    {
      "cell_type": "code",
      "execution_count": null,
      "metadata": {
        "colab": {
          "base_uri": "https://localhost:8080/"
        },
        "id": "ndM3jTVZfAvi",
        "outputId": "a6125928-4633-4958-bc32-9a6135e643c8"
      },
      "outputs": [
        {
          "data": {
            "text/plain": [
              "list"
            ]
          },
          "execution_count": 5,
          "metadata": {},
          "output_type": "execute_result"
        }
      ],
      "source": [
        "type(['a','b','c'])   # list"
      ]
    },
    {
      "cell_type": "markdown",
      "metadata": {
        "id": "4c6x0QaFygJB"
      },
      "source": [
        "---\n",
        "## <font color=\"orange\">4.3. The `len(x)` Function:</font>\n",
        "\n",
        "* Action: returns the length (number of elements) of x"
      ]
    },
    {
      "cell_type": "code",
      "execution_count": 49,
      "metadata": {
        "colab": {
          "base_uri": "https://localhost:8080/"
        },
        "id": "DqWEiwuFy5_h",
        "outputId": "36e424f2-cf01-4429-f931-49501330ca45"
      },
      "outputs": [
        {
          "output_type": "execute_result",
          "data": {
            "text/plain": [
              "5"
            ]
          },
          "metadata": {},
          "execution_count": 49
        }
      ],
      "source": [
        "len('hello')"
      ]
    },
    {
      "cell_type": "markdown",
      "metadata": {
        "id": "qCwXKrwlvkf_"
      },
      "source": [
        "---\n",
        "## <font color=\"orange\">4.4. The `help(x)` Function:</font>\n",
        "* Action: display documentation of object x"
      ]
    },
    {
      "cell_type": "code",
      "execution_count": null,
      "metadata": {
        "colab": {
          "base_uri": "https://localhost:8080/"
        },
        "collapsed": true,
        "id": "Qg22fA-VvjsX",
        "outputId": "be931880-94d8-4cef-cfdf-96ff49ab1ba5"
      },
      "outputs": [
        {
          "name": "stdout",
          "output_type": "stream",
          "text": [
            "Help on int object:\n",
            "\n",
            "class int(object)\n",
            " |  int([x]) -> integer\n",
            " |  int(x, base=10) -> integer\n",
            " |  \n",
            " |  Convert a number or string to an integer, or return 0 if no arguments\n",
            " |  are given.  If x is a number, return x.__int__().  For floating point\n",
            " |  numbers, this truncates towards zero.\n",
            " |  \n",
            " |  If x is not a number or if base is given, then x must be a string,\n",
            " |  bytes, or bytearray instance representing an integer literal in the\n",
            " |  given base.  The literal can be preceded by '+' or '-' and be surrounded\n",
            " |  by whitespace.  The base defaults to 10.  Valid bases are 0 and 2-36.\n",
            " |  Base 0 means to interpret the base from the string as an integer literal.\n",
            " |  >>> int('0b100', base=0)\n",
            " |  4\n",
            " |  \n",
            " |  Methods defined here:\n",
            " |  \n",
            " |  __abs__(self, /)\n",
            " |      abs(self)\n",
            " |  \n",
            " |  __add__(self, value, /)\n",
            " |      Return self+value.\n",
            " |  \n",
            " |  __and__(self, value, /)\n",
            " |      Return self&value.\n",
            " |  \n",
            " |  __bool__(self, /)\n",
            " |      self != 0\n",
            " |  \n",
            " |  __ceil__(...)\n",
            " |      Ceiling of an Integral returns itself.\n",
            " |  \n",
            " |  __divmod__(self, value, /)\n",
            " |      Return divmod(self, value).\n",
            " |  \n",
            " |  __eq__(self, value, /)\n",
            " |      Return self==value.\n",
            " |  \n",
            " |  __float__(self, /)\n",
            " |      float(self)\n",
            " |  \n",
            " |  __floor__(...)\n",
            " |      Flooring an Integral returns itself.\n",
            " |  \n",
            " |  __floordiv__(self, value, /)\n",
            " |      Return self//value.\n",
            " |  \n",
            " |  __format__(self, format_spec, /)\n",
            " |      Default object formatter.\n",
            " |  \n",
            " |  __ge__(self, value, /)\n",
            " |      Return self>=value.\n",
            " |  \n",
            " |  __getattribute__(self, name, /)\n",
            " |      Return getattr(self, name).\n",
            " |  \n",
            " |  __getnewargs__(self, /)\n",
            " |  \n",
            " |  __gt__(self, value, /)\n",
            " |      Return self>value.\n",
            " |  \n",
            " |  __hash__(self, /)\n",
            " |      Return hash(self).\n",
            " |  \n",
            " |  __index__(self, /)\n",
            " |      Return self converted to an integer, if self is suitable for use as an index into a list.\n",
            " |  \n",
            " |  __int__(self, /)\n",
            " |      int(self)\n",
            " |  \n",
            " |  __invert__(self, /)\n",
            " |      ~self\n",
            " |  \n",
            " |  __le__(self, value, /)\n",
            " |      Return self<=value.\n",
            " |  \n",
            " |  __lshift__(self, value, /)\n",
            " |      Return self<<value.\n",
            " |  \n",
            " |  __lt__(self, value, /)\n",
            " |      Return self<value.\n",
            " |  \n",
            " |  __mod__(self, value, /)\n",
            " |      Return self%value.\n",
            " |  \n",
            " |  __mul__(self, value, /)\n",
            " |      Return self*value.\n",
            " |  \n",
            " |  __ne__(self, value, /)\n",
            " |      Return self!=value.\n",
            " |  \n",
            " |  __neg__(self, /)\n",
            " |      -self\n",
            " |  \n",
            " |  __or__(self, value, /)\n",
            " |      Return self|value.\n",
            " |  \n",
            " |  __pos__(self, /)\n",
            " |      +self\n",
            " |  \n",
            " |  __pow__(self, value, mod=None, /)\n",
            " |      Return pow(self, value, mod).\n",
            " |  \n",
            " |  __radd__(self, value, /)\n",
            " |      Return value+self.\n",
            " |  \n",
            " |  __rand__(self, value, /)\n",
            " |      Return value&self.\n",
            " |  \n",
            " |  __rdivmod__(self, value, /)\n",
            " |      Return divmod(value, self).\n",
            " |  \n",
            " |  __repr__(self, /)\n",
            " |      Return repr(self).\n",
            " |  \n",
            " |  __rfloordiv__(self, value, /)\n",
            " |      Return value//self.\n",
            " |  \n",
            " |  __rlshift__(self, value, /)\n",
            " |      Return value<<self.\n",
            " |  \n",
            " |  __rmod__(self, value, /)\n",
            " |      Return value%self.\n",
            " |  \n",
            " |  __rmul__(self, value, /)\n",
            " |      Return value*self.\n",
            " |  \n",
            " |  __ror__(self, value, /)\n",
            " |      Return value|self.\n",
            " |  \n",
            " |  __round__(...)\n",
            " |      Rounding an Integral returns itself.\n",
            " |      Rounding with an ndigits argument also returns an integer.\n",
            " |  \n",
            " |  __rpow__(self, value, mod=None, /)\n",
            " |      Return pow(value, self, mod).\n",
            " |  \n",
            " |  __rrshift__(self, value, /)\n",
            " |      Return value>>self.\n",
            " |  \n",
            " |  __rshift__(self, value, /)\n",
            " |      Return self>>value.\n",
            " |  \n",
            " |  __rsub__(self, value, /)\n",
            " |      Return value-self.\n",
            " |  \n",
            " |  __rtruediv__(self, value, /)\n",
            " |      Return value/self.\n",
            " |  \n",
            " |  __rxor__(self, value, /)\n",
            " |      Return value^self.\n",
            " |  \n",
            " |  __sizeof__(self, /)\n",
            " |      Returns size in memory, in bytes.\n",
            " |  \n",
            " |  __str__(self, /)\n",
            " |      Return str(self).\n",
            " |  \n",
            " |  __sub__(self, value, /)\n",
            " |      Return self-value.\n",
            " |  \n",
            " |  __truediv__(self, value, /)\n",
            " |      Return self/value.\n",
            " |  \n",
            " |  __trunc__(...)\n",
            " |      Truncating an Integral returns itself.\n",
            " |  \n",
            " |  __xor__(self, value, /)\n",
            " |      Return self^value.\n",
            " |  \n",
            " |  bit_length(self, /)\n",
            " |      Number of bits necessary to represent self in binary.\n",
            " |      \n",
            " |      >>> bin(37)\n",
            " |      '0b100101'\n",
            " |      >>> (37).bit_length()\n",
            " |      6\n",
            " |  \n",
            " |  conjugate(...)\n",
            " |      Returns self, the complex conjugate of any int.\n",
            " |  \n",
            " |  to_bytes(self, /, length, byteorder, *, signed=False)\n",
            " |      Return an array of bytes representing an integer.\n",
            " |      \n",
            " |      length\n",
            " |        Length of bytes object to use.  An OverflowError is raised if the\n",
            " |        integer is not representable with the given number of bytes.\n",
            " |      byteorder\n",
            " |        The byte order used to represent the integer.  If byteorder is 'big',\n",
            " |        the most significant byte is at the beginning of the byte array.  If\n",
            " |        byteorder is 'little', the most significant byte is at the end of the\n",
            " |        byte array.  To request the native byte order of the host system, use\n",
            " |        `sys.byteorder' as the byte order value.\n",
            " |      signed\n",
            " |        Determines whether two's complement is used to represent the integer.\n",
            " |        If signed is False and a negative integer is given, an OverflowError\n",
            " |        is raised.\n",
            " |  \n",
            " |  ----------------------------------------------------------------------\n",
            " |  Class methods defined here:\n",
            " |  \n",
            " |  from_bytes(bytes, byteorder, *, signed=False) from builtins.type\n",
            " |      Return the integer represented by the given array of bytes.\n",
            " |      \n",
            " |      bytes\n",
            " |        Holds the array of bytes to convert.  The argument must either\n",
            " |        support the buffer protocol or be an iterable object producing bytes.\n",
            " |        Bytes and bytearray are examples of built-in objects that support the\n",
            " |        buffer protocol.\n",
            " |      byteorder\n",
            " |        The byte order used to represent the integer.  If byteorder is 'big',\n",
            " |        the most significant byte is at the beginning of the byte array.  If\n",
            " |        byteorder is 'little', the most significant byte is at the end of the\n",
            " |        byte array.  To request the native byte order of the host system, use\n",
            " |        `sys.byteorder' as the byte order value.\n",
            " |      signed\n",
            " |        Indicates whether two's complement is used to represent the integer.\n",
            " |  \n",
            " |  ----------------------------------------------------------------------\n",
            " |  Static methods defined here:\n",
            " |  \n",
            " |  __new__(*args, **kwargs) from builtins.type\n",
            " |      Create and return a new object.  See help(type) for accurate signature.\n",
            " |  \n",
            " |  ----------------------------------------------------------------------\n",
            " |  Data descriptors defined here:\n",
            " |  \n",
            " |  denominator\n",
            " |      the denominator of a rational number in lowest terms\n",
            " |  \n",
            " |  imag\n",
            " |      the imaginary part of a complex number\n",
            " |  \n",
            " |  numerator\n",
            " |      the numerator of a rational number in lowest terms\n",
            " |  \n",
            " |  real\n",
            " |      the real part of a complex number\n",
            "\n"
          ]
        }
      ],
      "source": [
        "help(2)"
      ]
    },
    {
      "cell_type": "markdown",
      "metadata": {
        "id": "gKuRV8t5wmVj"
      },
      "source": [
        "---\n",
        "## <font color=\"orange\">4.5. The `input( )` Function:</font>\n",
        "\n",
        "* Action: ask user for input value and return it\n"
      ]
    },
    {
      "cell_type": "code",
      "source": [
        "x = input('Pelase enter a value for x...')\n",
        "print('You entered: ', x, ', Type of x:', type(x))"
      ],
      "metadata": {
        "colab": {
          "base_uri": "https://localhost:8080/"
        },
        "id": "fnChY9IVwnIC",
        "outputId": "1784799e-9885-4581-9bc4-7d910b27e9c1"
      },
      "execution_count": 51,
      "outputs": [
        {
          "output_type": "stream",
          "name": "stdout",
          "text": [
            "Pelase enter a value for x...1\n",
            "You entered:  1 , Type of x: <class 'str'>\n"
          ]
        }
      ]
    },
    {
      "cell_type": "markdown",
      "source": [
        "Note: `input()` will return the value as a `str` which must be converted, if you wish to use the value as a number"
      ],
      "metadata": {
        "id": "jPwKA6MeV5Wn"
      }
    },
    {
      "cell_type": "code",
      "source": [
        "x = float(input('Pelase enter a number...'))\n",
        "print('You entered: ', x, ', Type of x:', type(x))"
      ],
      "metadata": {
        "colab": {
          "base_uri": "https://localhost:8080/"
        },
        "id": "NbTMPJJqWl04",
        "outputId": "87fda6b3-e342-4cab-8251-c91a531062d5"
      },
      "execution_count": 52,
      "outputs": [
        {
          "output_type": "stream",
          "name": "stdout",
          "text": [
            "Pelase enter a number...2\n",
            "You entered:  2.0 , Type of x: <class 'float'>\n"
          ]
        }
      ]
    },
    {
      "cell_type": "markdown",
      "metadata": {
        "id": "PNVk1n6bf4OA"
      },
      "source": [
        "---\n",
        "## <font color=\"orange\">4.6. The `isinstance(x, class)` Function:</font>\n",
        "\n",
        "* Action: return `True` if `x` belongs to `class`\n"
      ]
    },
    {
      "cell_type": "code",
      "source": [
        "my_string = 'abc'\n",
        "isinstance(my_string, str)    # Checks if my_string is a string"
      ],
      "metadata": {
        "colab": {
          "base_uri": "https://localhost:8080/"
        },
        "id": "T8m-ODftfjqC",
        "outputId": "37cfc905-cafd-4ac6-d751-6d1fb89ab655"
      },
      "execution_count": null,
      "outputs": [
        {
          "output_type": "execute_result",
          "data": {
            "text/plain": [
              "True"
            ]
          },
          "metadata": {},
          "execution_count": 5
        }
      ]
    },
    {
      "cell_type": "code",
      "source": [
        "number = 2\n",
        "isinstance(number, int)       # checks if number is an integer"
      ],
      "metadata": {
        "colab": {
          "base_uri": "https://localhost:8080/"
        },
        "id": "1592nT4Fftn4",
        "outputId": "f1cc1187-6064-4b4c-fc3f-16c2a39b956c"
      },
      "execution_count": null,
      "outputs": [
        {
          "output_type": "execute_result",
          "data": {
            "text/plain": [
              "True"
            ]
          },
          "metadata": {},
          "execution_count": 6
        }
      ]
    },
    {
      "cell_type": "markdown",
      "metadata": {
        "id": "kPnOl0QZ6q2l"
      },
      "source": [
        "---\n",
        "## <font color=\"orange\">4.7. Other Functions:</font>"
      ]
    },
    {
      "cell_type": "markdown",
      "source": [
        "### The following table lists all Python's built-in functions in alphabitical order:"
      ],
      "metadata": {
        "id": "7cXrIdxcXWxo"
      }
    },
    {
      "cell_type": "markdown",
      "metadata": {
        "id": "4h1iyESpgHIK"
      },
      "source": [
        "![python_builtin_funcs.png](data:image/png;base64,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)"
      ]
    },
    {
      "cell_type": "markdown",
      "metadata": {
        "id": "om7CNt_yi3e0"
      },
      "source": [
        "### Here are examples of other useful functions:"
      ]
    },
    {
      "cell_type": "code",
      "execution_count": null,
      "metadata": {
        "colab": {
          "base_uri": "https://localhost:8080/"
        },
        "id": "iH1ZBTWuvj39",
        "outputId": "5f7d2626-6e2a-4c17-ac04-e7a5b563b54d"
      },
      "outputs": [
        {
          "output_type": "execute_result",
          "data": {
            "text/plain": [
              "2"
            ]
          },
          "metadata": {},
          "execution_count": 7
        }
      ],
      "source": [
        "# abs(x): return the absolut value of x\n",
        "abs(-2)"
      ]
    },
    {
      "cell_type": "code",
      "execution_count": null,
      "metadata": {
        "colab": {
          "base_uri": "https://localhost:8080/"
        },
        "id": "Zl5qgnHUvj7F",
        "outputId": "22713135-cc36-4f0b-ce79-f0409803ac36"
      },
      "outputs": [
        {
          "output_type": "execute_result",
          "data": {
            "text/plain": [
              "-2"
            ]
          },
          "metadata": {},
          "execution_count": 8
        }
      ],
      "source": [
        "# min(): return the smallest item in an iterable or the smallest of two or more arguments.\n",
        "min(2, -2)"
      ]
    },
    {
      "cell_type": "code",
      "execution_count": null,
      "metadata": {
        "colab": {
          "base_uri": "https://localhost:8080/"
        },
        "id": "BPqDn0Tivj-3",
        "outputId": "15e74ebe-c42c-479d-c622-94a5fb28b863"
      },
      "outputs": [
        {
          "output_type": "execute_result",
          "data": {
            "text/plain": [
              "2"
            ]
          },
          "metadata": {},
          "execution_count": 9
        }
      ],
      "source": [
        "# max(): return the maximum value\n",
        "max(2, -2)"
      ]
    },
    {
      "cell_type": "code",
      "execution_count": null,
      "metadata": {
        "colab": {
          "base_uri": "https://localhost:8080/"
        },
        "id": "rb5fYFVFAAeJ",
        "outputId": "8f31ff53-f3a1-430f-b285-ac2b6187244f"
      },
      "outputs": [
        {
          "output_type": "execute_result",
          "data": {
            "text/plain": [
              "6"
            ]
          },
          "metadata": {},
          "execution_count": 10
        }
      ],
      "source": [
        "# round(): rounds a float up or down to the nearest integer\n",
        "round(5.5)"
      ]
    },
    {
      "cell_type": "code",
      "execution_count": null,
      "metadata": {
        "colab": {
          "base_uri": "https://localhost:8080/"
        },
        "id": "KK7fKwQtn0D1",
        "outputId": "13192f11-c92f-49fe-f104-964ffc9fe3de"
      },
      "outputs": [
        {
          "output_type": "execute_result",
          "data": {
            "text/plain": [
              "3"
            ]
          },
          "metadata": {},
          "execution_count": 11
        }
      ],
      "source": [
        "# int(): converts a floating point number to integer\n",
        "int(3.01)"
      ]
    },
    {
      "cell_type": "code",
      "execution_count": null,
      "metadata": {
        "colab": {
          "base_uri": "https://localhost:8080/"
        },
        "id": "y6m6e-2K_1kY",
        "outputId": "513e0cc1-3963-4706-da8a-1bbc8cc105f4"
      },
      "outputs": [
        {
          "output_type": "execute_result",
          "data": {
            "text/plain": [
              "2.0"
            ]
          },
          "metadata": {},
          "execution_count": 12
        }
      ],
      "source": [
        "# float(x): Return a floating point number constructed from a number or string x.\n",
        "float('2')"
      ]
    },
    {
      "cell_type": "code",
      "execution_count": null,
      "metadata": {
        "colab": {
          "base_uri": "https://localhost:8080/"
        },
        "id": "U-ZL7Zwoq_KQ",
        "outputId": "777e9cde-8d0e-438b-9b8a-706ed5218bdc"
      },
      "outputs": [
        {
          "output_type": "stream",
          "name": "stdout",
          "text": [
            "1. From floats: (1.1+2.3j)\n",
            "2. From string:  (1.1+2.3j)\n"
          ]
        }
      ],
      "source": [
        "# complex(real, imag): Return a complex number with the value real + imag*1j or convert a string or number to a complex number.\n",
        "print('1. From floats:', complex(1.1, 2.3))      # from float numbers\n",
        "print('2. From string: ', complex('1.1+2.3j'))   # When converting from a string, the string must not contain whitespace"
      ]
    },
    {
      "cell_type": "markdown",
      "metadata": {
        "id": "c3Uv9W2lkTqU"
      },
      "source": [
        "---\n",
        "# <a>**5. Flow Control**</a>"
      ]
    },
    {
      "cell_type": "markdown",
      "metadata": {
        "id": "SH5NdxUMt7IA"
      },
      "source": [
        "## What is flow control?\n",
        "Python uses the usual flow control statements known from other languages, with some twists. In this section, we will cover:\n",
        "* `if` statments\n",
        "* `for` loops\n"
      ]
    },
    {
      "cell_type": "markdown",
      "metadata": {
        "id": "x43AEiDolm3g"
      },
      "source": [
        "---\n",
        "## <font color=\"orange\">**5.1. The `if` statement:**</font>\n",
        "* The `if` statement allows the programmer to create \"forks\" in their code, by executing different chuncks of code depending on one or more conditions.\n",
        "\n",
        "* There are three ways to write an `if` statement:\n",
        "  1. `if` statement\n",
        "  2. `if-else` statement\n",
        "  3. `if-else-if` statement"
      ]
    },
    {
      "cell_type": "markdown",
      "source": [
        "### <font color=\"lime\">**if-statement:**</font>\n"
      ],
      "metadata": {
        "id": "HgAIAzng2ihO"
      }
    },
    {
      "cell_type": "markdown",
      "metadata": {
        "id": "xhgPtMxEECTH"
      },
      "source": [
        "* Usage: \"*if condition is True, do this*\"\n",
        "* Format:\n",
        "```\n",
        "if condition:\n",
        "    \"do something\"\n",
        "```\n",
        "\n",
        "Notes:\n",
        "* The `if` clause in indented\n",
        "* The `if` clause will be executed when the `condition` is `True`\n",
        "* *conditions* can be chained using the `and` or `or` operators, see below"
      ]
    },
    {
      "cell_type": "markdown",
      "metadata": {
        "id": "1B6BQCRuZlRc"
      },
      "source": [
        "#### <font color=\"cyan\">**Examples:**</font> `if condition:`"
      ]
    },
    {
      "cell_type": "code",
      "execution_count": null,
      "metadata": {
        "colab": {
          "base_uri": "https://localhost:8080/"
        },
        "id": "SPP3lb-PBnpf",
        "outputId": "c2c0799d-d9e0-4269-a51d-2b723117508a"
      },
      "outputs": [
        {
          "output_type": "stream",
          "name": "stdout",
          "text": [
            "condition is True\n"
          ]
        }
      ],
      "source": [
        "# Simple if statement\n",
        "\n",
        "condition = True\n",
        "\n",
        "if condition:\n",
        "    print('condition is True')"
      ]
    },
    {
      "cell_type": "markdown",
      "metadata": {
        "id": "eJQjDsy_bxJo"
      },
      "source": [
        "Note: Experiment by replacing the condition above with a \"False\" value\n",
        "\n",
        "--- "
      ]
    },
    {
      "cell_type": "code",
      "execution_count": null,
      "metadata": {
        "colab": {
          "base_uri": "https://localhost:8080/"
        },
        "id": "6f-C3wGQkaMR",
        "outputId": "372a0b2f-f0c0-47c7-a792-a84095a3cb0f"
      },
      "outputs": [
        {
          "output_type": "stream",
          "name": "stdout",
          "text": [
            "Negative\n"
          ]
        }
      ],
      "source": [
        "# Another example: print \"Negative\" if x is less than zero\n",
        "\n",
        "x = -2\n",
        "\n",
        "if x < 0:\n",
        "  print('Negative')"
      ]
    },
    {
      "cell_type": "markdown",
      "metadata": {
        "id": "ul3mI0aHHSf5"
      },
      "source": [
        "#### <font color=\"cyan\">**Examples:**</font> `if condition_1 and condition_2:`"
      ]
    },
    {
      "cell_type": "code",
      "execution_count": null,
      "metadata": {
        "colab": {
          "base_uri": "https://localhost:8080/"
        },
        "id": "x5ItFBbzY_O3",
        "outputId": "841c6ac8-0465-4b9a-c29b-63c7623f7c61"
      },
      "outputs": [
        {
          "output_type": "stream",
          "name": "stdout",
          "text": [
            "Both conditions are true\n"
          ]
        }
      ],
      "source": [
        "# if statement with two conditions using \"and\"\n",
        "condition_1 = 1\n",
        "condition_2 = True\n",
        "\n",
        "if condition_1 and condition_2:\n",
        "    # executed when BOTH conditions are True\n",
        "    print(\"Both conditions are true\")"
      ]
    },
    {
      "cell_type": "markdown",
      "metadata": {
        "id": "hFjvflhryDD4"
      },
      "source": [
        "Note: `0` is considered `False`, while `1` is considered `True`\n",
        "\n",
        "--- "
      ]
    },
    {
      "cell_type": "markdown",
      "metadata": {
        "id": "PLqpzwQZHSf5"
      },
      "source": [
        "#### <font color=\"cyan\">**Examples:**</font> `if condition_1 or condition_2:`"
      ]
    },
    {
      "cell_type": "code",
      "execution_count": null,
      "metadata": {
        "colab": {
          "base_uri": "https://localhost:8080/"
        },
        "id": "R1DFfGOUEMdJ",
        "outputId": "0599aedd-ad27-4f3a-c7ff-5b8ae9c445f7"
      },
      "outputs": [
        {
          "output_type": "stream",
          "name": "stdout",
          "text": [
            "One of the conditions is true\n"
          ]
        }
      ],
      "source": [
        "# if statement with two conditions using \"or\"\n",
        "condition_1 = 1\n",
        "condition_2 = False\n",
        "\n",
        "if condition_1 or condition_2:\n",
        "    # executed when at least one condition is True\n",
        "    print(\"One of the conditions is true\")"
      ]
    },
    {
      "cell_type": "markdown",
      "source": [
        "### <font color=\"lime\">**if-else statement:**<font color=\"gray\"> \n"
      ],
      "metadata": {
        "id": "XKN06PQX2t8x"
      }
    },
    {
      "cell_type": "markdown",
      "metadata": {
        "id": "B9hJjPZpP2B4"
      },
      "source": [
        "* Usage: \"*if condition is True, do this... if not, do that*\"\n",
        "* format:\n",
        "```\n",
        "if condition:\n",
        "    \"do something\"\n",
        "else:\n",
        "    \"do something else\"\n",
        "```\n",
        "\n",
        "Notes:\n",
        "* Only one clause maybe be executed, creating a \"fork\" in the code:\n",
        "  - The `if` clause will be executed when the `condition` is `True`, or... \n",
        "  - The `else` clause will be executed when the `condition` is `False` \n",
        "\n",
        "* *conditions* can be chained using the `and` or `or` operators, see below"
      ]
    },
    {
      "cell_type": "markdown",
      "metadata": {
        "id": "7bH3DfL-WSSD"
      },
      "source": [
        "#### <font color=\"cyan\">**Examples:**</font> `if condition:`"
      ]
    },
    {
      "cell_type": "code",
      "execution_count": null,
      "metadata": {
        "colab": {
          "base_uri": "https://localhost:8080/"
        },
        "outputId": "a2eb18e2-fb07-49c9-a1ca-fb9c27215a69",
        "id": "Lons46JjWSSD"
      },
      "outputs": [
        {
          "output_type": "stream",
          "name": "stdout",
          "text": [
            "condition is True\n"
          ]
        }
      ],
      "source": [
        "# Simple if-else statement\n",
        "condition = True\n",
        "\n",
        "if condition:\n",
        "    print('condition is True')\n",
        "else:\n",
        "    print('condition is False')"
      ]
    },
    {
      "cell_type": "markdown",
      "metadata": {
        "id": "crcGFws0V57u"
      },
      "source": [
        "#### <font color=\"cyan\">**Examples:**</font> `if condition_1 and condition_2:`"
      ]
    },
    {
      "cell_type": "code",
      "execution_count": null,
      "metadata": {
        "colab": {
          "base_uri": "https://localhost:8080/"
        },
        "outputId": "8deb5b39-f9c4-4f85-bafe-0afb62b0bd83",
        "id": "dmE_zVzYV57v"
      },
      "outputs": [
        {
          "output_type": "stream",
          "name": "stdout",
          "text": [
            "At least one condition is false\n"
          ]
        }
      ],
      "source": [
        "# if-else statement with two conditions using \"and\"\n",
        "condition_1 = True\n",
        "condition_2 = False\n",
        "\n",
        "if condition_1 and condition_2:\n",
        "    print(\"Both conditions are true\")\n",
        "else:\n",
        "    print(\"At least one condition is false\")"
      ]
    },
    {
      "cell_type": "markdown",
      "metadata": {
        "id": "kzC1t4LiY1Om"
      },
      "source": [
        "#### <font color=\"cyan\">**Examples:**</font> `if condition_1 or condition_2:`"
      ]
    },
    {
      "cell_type": "code",
      "execution_count": null,
      "metadata": {
        "colab": {
          "base_uri": "https://localhost:8080/"
        },
        "outputId": "dc7b3e33-c2c9-47e5-a22e-6e8f6c45b883",
        "id": "L3RQ2lG7Y1On"
      },
      "outputs": [
        {
          "output_type": "stream",
          "name": "stdout",
          "text": [
            "Both conditions are False\n"
          ]
        }
      ],
      "source": [
        "# if-else statement with two conditions using \"or\"\n",
        "condition_1 = 0\n",
        "condition_2 = False\n",
        "\n",
        "if condition_1 or condition_2:\n",
        "    print(\"One of the conditions is true\")\n",
        "else:\n",
        "    print(\"Both conditions are False\")"
      ]
    },
    {
      "cell_type": "markdown",
      "source": [
        "### <font color=\"lime\">**if-else-if statement:**</font>"
      ],
      "metadata": {
        "id": "cy04ay9g2uWC"
      }
    },
    {
      "cell_type": "markdown",
      "metadata": {
        "id": "-hKNaoqL20OJ"
      },
      "source": [
        "* Usage: \"*if condition_1 is True, do this... if condition_2 is True, do that... else, do something else*\"\n",
        "* format:\n",
        "```\n",
        "if condition_1:\n",
        "    \"do something\"\n",
        "elif condition_2:\n",
        "    \"do this thing\"\n",
        "else:\n",
        "    \"do something else\"\n",
        "```\n",
        "\n",
        "Notes:\n",
        "* Only one clause maybe be executed, creating a 3-way \"fork\" in the code:\n",
        "  - The `if` clause will be executed when the `condition_1` is `True`, or... \n",
        "  - The `elif` clause will be executed when the `condition_2` is `True`, or... \n",
        "  - The `else` clause will be executed when the `condition` is `False` \n",
        "\n",
        "* *conditions* can be chained using the `and` or `or` operators, see below"
      ]
    },
    {
      "cell_type": "markdown",
      "metadata": {
        "id": "wqe5MYTkEMgV"
      },
      "source": [
        "#### <font color=\"cyan\">**Examples:**</font> `if-else-if:`"
      ]
    },
    {
      "cell_type": "code",
      "source": [
        "# Simple if-else-if statement\n",
        "\n",
        "string = 'PYTHON'\n",
        "\n",
        "if string.islower():\n",
        "  print(\"String is lowercase\")\n",
        "elif string.isupper():\n",
        "  print(\"String is uppercase\")\n",
        "else:\n",
        "  print(\"String neither all uppercase or lowercase\")"
      ],
      "metadata": {
        "colab": {
          "base_uri": "https://localhost:8080/"
        },
        "id": "Q1m3clYYFenD",
        "outputId": "f7ab0778-e161-4e8a-f5a5-15c74a4e0647"
      },
      "execution_count": 53,
      "outputs": [
        {
          "output_type": "stream",
          "name": "stdout",
          "text": [
            "String is uppercase\n"
          ]
        }
      ]
    },
    {
      "cell_type": "markdown",
      "source": [
        "Note: Expirement by changing the string above to lowercase\n",
        "\n",
        "---"
      ],
      "metadata": {
        "id": "hQIHl2a9V0bH"
      }
    },
    {
      "cell_type": "markdown",
      "metadata": {
        "id": "IgbVh7008cci"
      },
      "source": [
        "#### <font color=\"magenta\">**Exercise:**</font> Stay positive\n",
        "\n",
        "```\n",
        "Write an if-else-if statement to ask the user for an integer, then print Positive, Negative, or Zero depending on the input.\n",
        "```"
      ]
    },
    {
      "cell_type": "code",
      "source": [
        "# Type your solution here\n"
      ],
      "metadata": {
        "id": "rWbyRFru1YGD"
      },
      "execution_count": null,
      "outputs": []
    },
    {
      "cell_type": "markdown",
      "metadata": {
        "id": "GSpEfNdh12ef"
      },
      "source": [
        "##### <font color=\"gray\">**Click here to view the solution**<font color=\"white\"> </font>\n"
      ]
    },
    {
      "cell_type": "markdown",
      "source": [
        "Solution:\n",
        "1. Ask user for input using `input()` built-in function\n",
        "2. Convert the input to an integer\n",
        "3. Write an if-else-if statement to compare the integer value\n",
        "4. Print the result"
      ],
      "metadata": {
        "id": "jkKXTlpq1pDm"
      }
    },
    {
      "cell_type": "code",
      "execution_count": null,
      "metadata": {
        "colab": {
          "base_uri": "https://localhost:8080/"
        },
        "id": "dRu_LJOCkaPk",
        "outputId": "0f45e7f6-9c81-4637-a0a3-8412f19bb805"
      },
      "outputs": [
        {
          "output_type": "stream",
          "name": "stdout",
          "text": [
            "Enter a number: -2\n",
            "Negative\n"
          ]
        }
      ],
      "source": [
        "# Ask user for a number\n",
        "x = int(input(\"Enter a number: \"))\n",
        "\n",
        "# Example 4: else if statement\n",
        "if x < 0:\n",
        "    print('Negative')\n",
        "elif x == 0:\n",
        "    print('Zero')\n",
        "else:\n",
        "    print('Positive')"
      ]
    },
    {
      "cell_type": "markdown",
      "metadata": {
        "id": "rcL_UA_lY-vU"
      },
      "source": [
        "In Python, The following built-in objects are considered False:\n",
        "* Constants defined to be false: `None` and `False`\n",
        "* zero of any numeric type: `0`, `0.0`, `0j`\n",
        "* empty sequences and collections: `''`, `()`, `[]`, `{}`, `set()`, `range(0)`\n"
      ]
    },
    {
      "cell_type": "markdown",
      "metadata": {
        "id": "q3jBfkX1mmLH"
      },
      "source": [
        "---\n",
        "## <font color=\"orange\">**5.2.  `for` loops:**<font color=\"white\"></font>\n",
        "* Python supports iteration over containers. Sequences (list, tuple, strings, etc.) always support the iteration methods.\n",
        "* Usage: \"*for every element in a sequence of elements, do this*\"\n",
        "* Format:\n",
        "```\n",
        "for element in sequence_of_elements:\n",
        "    \"do something\"\n",
        "```\n",
        "\n",
        "Note:\n",
        "* The \"looping\" code is indented\n",
        "* In each loop, we take one element of the sequence, and call it `element`\n",
        "* Looping stops when we exhaust all elements of the sequence\n",
        "* One can loop over the sequence of numbers or items of any sequence (a list or a string), in the order that they appear in the sequence."
      ]
    },
    {
      "cell_type": "markdown",
      "metadata": {
        "id": "_QnfwOY_HSf6"
      },
      "source": [
        "#### <font color=\"cyan\">**Examples:**</font> iterating over a `list()`"
      ]
    },
    {
      "cell_type": "code",
      "execution_count": null,
      "metadata": {
        "colab": {
          "base_uri": "https://localhost:8080/"
        },
        "id": "pwYwQ6NGlS3J",
        "outputId": "9f95389a-6068-4976-ce8f-2f4f1744c57d"
      },
      "outputs": [
        {
          "output_type": "stream",
          "name": "stdout",
          "text": [
            "cat 3\n",
            "window 6\n",
            "apple 5\n"
          ]
        }
      ],
      "source": [
        "# iterating over a list, printing each element and its length, one by one\n",
        "words = ['cat', 'window', 'apple']\n",
        "for word in words:\n",
        "    print(word, len(word))"
      ]
    },
    {
      "cell_type": "markdown",
      "metadata": {
        "id": "VLVBIX5sMYsU"
      },
      "source": [
        "#### <font color=\"cyan\">**Examples:**</font> List comprehension\n",
        "* An elegant way to create lists with `for` loops"
      ]
    },
    {
      "cell_type": "code",
      "execution_count": 66,
      "metadata": {
        "colab": {
          "base_uri": "https://localhost:8080/"
        },
        "id": "QGHjhespeyyO",
        "outputId": "e9348e7a-0aac-4e0f-90ba-fe3a7d8b1f19"
      },
      "outputs": [
        {
          "output_type": "execute_result",
          "data": {
            "text/plain": [
              "[1, 2, 3, 4, 5]"
            ]
          },
          "metadata": {},
          "execution_count": 66
        }
      ],
      "source": [
        "# create a list of numbers\n",
        "mylist = [1,2,3,4,5]\n",
        "mylist"
      ]
    },
    {
      "cell_type": "code",
      "execution_count": 67,
      "metadata": {
        "colab": {
          "base_uri": "https://localhost:8080/"
        },
        "id": "TMfybBMgW2qq",
        "outputId": "cc74ea29-1738-4b7c-ff64-b0bff4a9d247"
      },
      "outputs": [
        {
          "output_type": "execute_result",
          "data": {
            "text/plain": [
              "[2, 4, 6, 8, 10]"
            ]
          },
          "metadata": {},
          "execution_count": 67
        }
      ],
      "source": [
        "# Create a new list with every number of \"mylist\" times 2\n",
        "b = [element*2 for element in mylist]\n",
        "b"
      ]
    },
    {
      "cell_type": "markdown",
      "metadata": {
        "id": "-Xzs-CA4vdTw"
      },
      "source": [
        "#### <font color=\"cyan\">**Examples:**</font> iterating using `range()`\n",
        "* The `range()` built-in function is useful when combined with `for()` loops    \n"
      ]
    },
    {
      "cell_type": "code",
      "execution_count": null,
      "metadata": {
        "colab": {
          "base_uri": "https://localhost:8080/"
        },
        "id": "FrMQBDQLnWjL",
        "outputId": "072e5dd7-1273-4d4e-a17a-db1b6b0bb422"
      },
      "outputs": [
        {
          "output_type": "stream",
          "name": "stdout",
          "text": [
            "0\n",
            "1\n",
            "2\n"
          ]
        }
      ],
      "source": [
        "# Looping a range of numbers, using the built-in function range()\n",
        "for i in range(3):\n",
        "    print(i)"
      ]
    },
    {
      "cell_type": "code",
      "execution_count": null,
      "metadata": {
        "colab": {
          "base_uri": "https://localhost:8080/"
        },
        "id": "QnOqzxk0lS6g",
        "outputId": "cf6fbf83-9812-47a6-ecf4-f0df196a01f3"
      },
      "outputs": [
        {
          "output_type": "stream",
          "name": "stdout",
          "text": [
            "0 Mary\n",
            "1 had\n",
            "2 a\n",
            "3 little\n",
            "4 lamb\n"
          ]
        }
      ],
      "source": [
        "# another for() example\n",
        "a = ['Mary', 'had', 'a', 'little', 'lamb']\n",
        "for i in range(len(a)):\n",
        "    print(i, a[i])"
      ]
    },
    {
      "cell_type": "markdown",
      "metadata": {
        "id": "KTbyXTqKHSf9"
      },
      "source": [
        "#### <font color=\"cyan\">**Examples:**</font> iterating over a `dict()`"
      ]
    },
    {
      "cell_type": "code",
      "execution_count": null,
      "metadata": {
        "id": "LNr3QARsHSf9",
        "colab": {
          "base_uri": "https://localhost:8080/"
        },
        "outputId": "cae121c9-3dbf-4ca9-e771-68ae216f53e6"
      },
      "outputs": [
        {
          "output_type": "stream",
          "name": "stdout",
          "text": [
            "one 1\n",
            "two 2\n",
            "three 3\n",
            "four 4\n"
          ]
        }
      ],
      "source": [
        "d = {\"one\": 1, \"two\": 2, \"three\": 3, \"four\": 4}\n",
        "\n",
        "for key, value in d.items():\n",
        "  print(key, value)"
      ]
    },
    {
      "cell_type": "markdown",
      "metadata": {
        "id": "nGtAPuWgHSf-"
      },
      "source": [
        "#### <font color=\"magenta\">**Excercise 1:**</font> Write a for loop to greet every name in the tuple `names`: \n",
        "\n",
        "```\n",
        "# say hello to each name in the tuple `names`:\n",
        "names = (\"Charlie\", \"Emily\", \"Tom\")\n",
        "```"
      ]
    },
    {
      "cell_type": "code",
      "execution_count": null,
      "metadata": {
        "id": "fLDdfM4dHSf-",
        "outputId": "62a9caa8-a265-4320-f747-5fb89d27e71c"
      },
      "outputs": [
        {
          "data": {
            "text/plain": [
              "('Charlie', 'Emily', 'Tom')"
            ]
          },
          "execution_count": 150,
          "metadata": {},
          "output_type": "execute_result"
        }
      ],
      "source": [
        "names = (\"Charlie\", \"Emily\", \"Tom\")\n",
        "names"
      ]
    },
    {
      "cell_type": "code",
      "execution_count": null,
      "metadata": {
        "id": "M6FF-YdrHSf-"
      },
      "outputs": [],
      "source": [
        "# Type your solution here\n"
      ]
    },
    {
      "cell_type": "markdown",
      "metadata": {
        "id": "HHejmKoTHSf_"
      },
      "source": [
        "##### <font color=\"gray\">**Click here to view the solution**<font color=\"white\"> </font>"
      ]
    },
    {
      "cell_type": "markdown",
      "metadata": {
        "id": "-mHk5xJ_HSf_"
      },
      "source": [
        "We can break the problem into smaller tasks:\n",
        "1. Loop over the names\n",
        "2. Print a greet followed by the name"
      ]
    },
    {
      "cell_type": "code",
      "execution_count": null,
      "metadata": {
        "id": "o-TaGAMZHSf_",
        "outputId": "deb4dad0-5d57-4fc3-98a3-a4786dc6e691"
      },
      "outputs": [
        {
          "name": "stdout",
          "output_type": "stream",
          "text": [
            "Hello  Charlie\n",
            "Hello  Emily\n",
            "Hello  Tom\n"
          ]
        }
      ],
      "source": [
        "names = (\"Charlie\", \"Emily\", \"Tom\")\n",
        "\n",
        "for name in names:\n",
        "    print(\"Hello \", name)"
      ]
    },
    {
      "cell_type": "markdown",
      "metadata": {
        "id": "cP3lCzgdHSf_"
      },
      "source": [
        "#### <font color=\"magenta\">**Excercise 2:**</font> Write a for loop to greet every name in the tuple `names` with a unique greet:\n",
        "\n",
        "```\n",
        "# greet each name in the tuple `names` uniquly:\n",
        "    greetings = (\"Hello \", \"Hi \", \"Good morning \")\n",
        "    names = (\"Charlie\", \"Emily\", \"Tom\")\n",
        "```\n",
        "\n",
        "* hint: use the built-in function [`zip()`](https://docs.python.org/3.3/library/functions.html#zip)"
      ]
    },
    {
      "cell_type": "code",
      "execution_count": null,
      "metadata": {
        "id": "dxzlen1LHSf_"
      },
      "outputs": [],
      "source": [
        "greetings = (\"Hello \", \"Hi \", \"Good morning \")\n",
        "names = (\"Charlie\", \"Emily\", \"Tom\")"
      ]
    },
    {
      "cell_type": "code",
      "execution_count": null,
      "metadata": {
        "id": "uAbcIf9xHSgA"
      },
      "outputs": [],
      "source": [
        "# Type your solution here\n"
      ]
    },
    {
      "cell_type": "markdown",
      "metadata": {
        "id": "4enV-5-oHSgA"
      },
      "source": [
        "##### <font color=\"gray\">**Click here to view the solution**<font color=\"white\"> </font>"
      ]
    },
    {
      "cell_type": "markdown",
      "metadata": {
        "id": "UvahFWrFHSgA"
      },
      "source": [
        "We can break the problem into smaller tasks:\n",
        "1. Loop over the names using built-in function `zip()`\n",
        "2. Print a greet followed by the name"
      ]
    },
    {
      "cell_type": "code",
      "execution_count": null,
      "metadata": {
        "id": "p96wEFwfHSgA",
        "outputId": "58569ee4-39c5-4aa9-88c5-6a6d3b4ac46b"
      },
      "outputs": [
        {
          "name": "stdout",
          "output_type": "stream",
          "text": [
            "Hi  Charlie\n",
            "Hello  Emily\n",
            "Good morning  Tom\n"
          ]
        }
      ],
      "source": [
        "for greet, name in zip(greetings, names):\n",
        "    print(greet, name)"
      ]
    },
    {
      "cell_type": "markdown",
      "metadata": {
        "id": "178tp7C3HSgA"
      },
      "source": [
        "Note: built-in function `zip()` is used together with a for-loop to iterate over two or more sequences simultanously\n",
        "\n",
        "---"
      ]
    },
    {
      "cell_type": "markdown",
      "source": [
        "## Key Points of Flow Control:\n",
        "* `if` statements allows us to customize the behavior of our code\n",
        "* Python follows strict indentation syntax, for example, code indented beneath a `for` loop statement will belong to that `for` loop\n",
        "* The concept of *iteration over containers* is one of the most powerful concepts in Python\n",
        "\n"
      ],
      "metadata": {
        "id": "yLOQT_CcY2_i"
      }
    },
    {
      "cell_type": "markdown",
      "metadata": {
        "id": "8hG8Uas1vKCe"
      },
      "source": [
        "---\n",
        "# <a>**6. Creating Functions:**</a>\n"
      ]
    },
    {
      "cell_type": "markdown",
      "metadata": {
        "id": "8_MWW9r227vR"
      },
      "source": [
        "#### What are functions?\n",
        "* A chunk of code that generally performs one task. Functions may or may not:\n",
        "  - accept input arguments\n",
        "  - return a value\n",
        "\n",
        "* Usage: Functions keep our code neat and tidy\n",
        "* Format: We introduce functions using the `def` keyword, followed by:\n",
        "  1. `function_name`: small caps convention\n",
        "  2. Optional input parameters/arguments enclosed by `()`\n",
        "  3. Colon `:`\n",
        "  4. Optional `return` statement\n",
        "\n",
        "For example:\n",
        "* We can define a function like this:\n",
        "```\n",
        "def function_name(x, y=0.0):\n",
        "    z = 4\n",
        "    k = x + y + z\n",
        "    return k\n",
        "```\n",
        "where:\n",
        "  - `x` is a required input argument\n",
        "  - `y` is an optional input (default=0.0)\n",
        "  - `k` is the returned value\n",
        "\n",
        "---\n",
        "\n",
        "* Then, we can call the function like this:\n",
        "```\n",
        "new_k = function_name(1,1)      # x=1, y=1\n",
        "new_k = function_name(x=1,y=1)  # same\n",
        "```\n",
        "Which would yield `new_k=6.0`\n",
        "\n",
        "Notes:\n",
        "* You could default input arguments such as `y=0.0`\n",
        "* Default input arguments should come last in the input arguments, not in the beginning\n",
        "* Indented text is within function's scope\n",
        "* when the function *returns* or *raises an error* all variables in its scope are deleted, keeping our namespace clean"
      ]
    },
    {
      "cell_type": "markdown",
      "metadata": {
        "id": "OxPnenr8YsFQ"
      },
      "source": [
        "#### <font color=\"cyan\">**Examples:**</font> Write a function to print *Hello World!!!* `n` times"
      ]
    },
    {
      "cell_type": "code",
      "execution_count": 68,
      "metadata": {
        "id": "20mQzTph5BpE"
      },
      "outputs": [],
      "source": [
        "def greet(n=1):\n",
        "    print('Hello World!!! ' * n)"
      ]
    },
    {
      "cell_type": "code",
      "execution_count": 69,
      "metadata": {
        "colab": {
          "base_uri": "https://localhost:8080/"
        },
        "id": "XQLcUhQI5Qz5",
        "outputId": "f0c94b8b-5c3c-40a0-d84e-b408653ad2f6"
      },
      "outputs": [
        {
          "output_type": "stream",
          "name": "stdout",
          "text": [
            "Hello World!!! Hello World!!! Hello World!!! \n"
          ]
        }
      ],
      "source": [
        "# print 3 times\n",
        "greet(n=3)            # calling greet() with n=3"
      ]
    },
    {
      "cell_type": "code",
      "execution_count": 70,
      "metadata": {
        "colab": {
          "base_uri": "https://localhost:8080/"
        },
        "outputId": "7773de63-9ee8-4693-ca16-7b58548ae1f6",
        "id": "2JapF3Sud9Sa"
      },
      "outputs": [
        {
          "output_type": "stream",
          "name": "stdout",
          "text": [
            "Hello World!!! Hello World!!! Hello World!!! \n"
          ]
        }
      ],
      "source": [
        "greet(3)              # same as greet(n=3)"
      ]
    },
    {
      "cell_type": "code",
      "execution_count": 72,
      "metadata": {
        "colab": {
          "base_uri": "https://localhost:8080/"
        },
        "id": "gYSDG4ZpHfTD",
        "outputId": "9d2e65bd-38e5-4b80-bb16-7889341793c5"
      },
      "outputs": [
        {
          "output_type": "stream",
          "name": "stdout",
          "text": [
            "Hello World!!! \n"
          ]
        }
      ],
      "source": [
        "# print with n=1 as default value\n",
        "greet()"
      ]
    },
    {
      "cell_type": "markdown",
      "metadata": {
        "id": "ZdduBbxq5eHY"
      },
      "source": [
        "Note: One must use parentheses even if calling without passing arguments. parentheses differentiate `functions()` from *variables*.\n",
        "\n",
        "---"
      ]
    },
    {
      "cell_type": "code",
      "execution_count": null,
      "metadata": {
        "colab": {
          "base_uri": "https://localhost:8080/"
        },
        "id": "wg8ebgQs5QwH",
        "outputId": "e7297459-2b35-4ed9-ef46-397e4e42efce"
      },
      "outputs": [
        {
          "data": {
            "text/plain": [
              "<function __main__.greet>"
            ]
          },
          "execution_count": 8,
          "metadata": {},
          "output_type": "execute_result"
        }
      ],
      "source": [
        "greet # doesn't call the function"
      ]
    },
    {
      "cell_type": "markdown",
      "metadata": {
        "id": "M8YoE9WyWmzO"
      },
      "source": [
        "#### <font color=\"magenta\">**Excercise:**</font> Write a function to return the input list with every word uppercased\n",
        "\n",
        "```\n",
        "input list: words=[\"apple\",\"bravo\", \"charlie\"]\n",
        "output list: words=[\"APPLE\",\"BRAVO\", \"CHARLIE\"]\n",
        "\n",
        "```"
      ]
    },
    {
      "cell_type": "code",
      "source": [
        "# Type your solution here\n"
      ],
      "metadata": {
        "id": "QvPNz106cFUo"
      },
      "execution_count": null,
      "outputs": []
    },
    {
      "cell_type": "markdown",
      "metadata": {
        "id": "a5QTjG-EcL7a"
      },
      "source": [
        "##### <font color=\"gray\">**Click here to view the solution**<font color=\"white\"> </font>"
      ]
    },
    {
      "cell_type": "code",
      "execution_count": null,
      "metadata": {
        "id": "LkNd6CsdWT5X"
      },
      "outputs": [],
      "source": [
        "# 1. Define the function \n",
        "def all_caps(some_list):\n",
        "  ''' returns the input list of strings uppercased'''\n",
        "\n",
        "  new_list = []                     # create an empty list\n",
        "  for word in some_list:            # loop input list\n",
        "    new_list.append(word.upper())   # uppercase then append to new list\n",
        "\n",
        "  return new_list                   # return new list"
      ]
    },
    {
      "cell_type": "code",
      "execution_count": null,
      "metadata": {
        "colab": {
          "base_uri": "https://localhost:8080/"
        },
        "id": "B1BfVpL6WT08",
        "outputId": "646fbbd2-8bbe-45ba-85ac-db6a3bce5813"
      },
      "outputs": [
        {
          "output_type": "execute_result",
          "data": {
            "text/plain": [
              "['apple', 'bravo', 'charlie']"
            ]
          },
          "metadata": {},
          "execution_count": 2
        }
      ],
      "source": [
        "# 2. Define input list of strings\n",
        "words = [\"apple\",\"bravo\", \"charlie\"]\n",
        "words"
      ]
    },
    {
      "cell_type": "code",
      "execution_count": null,
      "metadata": {
        "colab": {
          "base_uri": "https://localhost:8080/"
        },
        "id": "acMsZBisWT9z",
        "outputId": "35c0508a-0f6b-4238-93ae-c1b7e7376a8b"
      },
      "outputs": [
        {
          "output_type": "execute_result",
          "data": {
            "text/plain": [
              "['APPLE', 'BRAVO', 'CHARLIE']"
            ]
          },
          "metadata": {},
          "execution_count": 3
        }
      ],
      "source": [
        "# 3. Call the function\n",
        "uppercased_list = all_caps(words)\n",
        "uppercased_list"
      ]
    },
    {
      "cell_type": "markdown",
      "source": [
        "## Key Points of Creating Functions:\n",
        "* Functions keep our code neat and tidy by avoiding copy/paste\n",
        "* Function names are should be lowercased wiht underscores (if needed). For example: `my_function()`\n",
        "* All variables created within the scope of function, live only within that function, and do not exist outside of it"
      ],
      "metadata": {
        "id": "BJbV5hBMiR3A"
      }
    },
    {
      "cell_type": "markdown",
      "metadata": {
        "id": "WQpSICHMj0AK"
      },
      "source": [
        "---\n",
        "# <a>**7. Bringing it all together:**</a>"
      ]
    },
    {
      "cell_type": "markdown",
      "source": [
        "* Objective: The objective of this section is to complete two exercises to tie in the main concepts introduced in this notebook.\n",
        "\n"
      ],
      "metadata": {
        "id": "nA9Dww_gN6Ui"
      }
    },
    {
      "cell_type": "markdown",
      "metadata": {
        "id": "WhqWdS2lVE0Z"
      },
      "source": [
        "#### <font color=\"magenta\">**Excercise 1:**</font> Write a function that accepts a list of numbers, and returns a dictionary with the unique numbers from the input list as keys, and their counts as values\n",
        "\n",
        "```\n",
        "input list: numbers = [6,9,2,3,3,2,6,20,3,2,6,3,9,9]\n",
        "output: counts_dict={1:1, 2:2, 3:1}\n",
        "```"
      ]
    },
    {
      "cell_type": "code",
      "execution_count": null,
      "metadata": {
        "id": "6yPpatRpZj3w",
        "colab": {
          "base_uri": "https://localhost:8080/"
        },
        "outputId": "30936fa8-ae9b-4859-bf40-22da0641357a"
      },
      "outputs": [
        {
          "output_type": "execute_result",
          "data": {
            "text/plain": [
              "[6, 9, 2, 3, 3, 2, 6, 20, 3, 2, 6, 3, 9, 9]"
            ]
          },
          "metadata": {},
          "execution_count": 36
        }
      ],
      "source": [
        "numbers = [6,9,2,3,3,2,6,20,3,2,6,3,9,9]\n",
        "numbers"
      ]
    },
    {
      "cell_type": "code",
      "source": [
        "# Type your solution here\n"
      ],
      "metadata": {
        "id": "7bhfomBf21W3"
      },
      "execution_count": null,
      "outputs": []
    },
    {
      "cell_type": "code",
      "source": [],
      "metadata": {
        "id": "WXXodJzu25Jg"
      },
      "execution_count": null,
      "outputs": []
    },
    {
      "cell_type": "markdown",
      "metadata": {
        "id": "jtht7Jx421W4"
      },
      "source": [
        "##### <font color=\"gray\">**Click here to view the solution**<font color=\"white\"> </font>"
      ]
    },
    {
      "cell_type": "code",
      "source": [
        "def unique(numbers):\n",
        "\n",
        "  counts_dict = {}\n",
        "\n",
        "  min_n = min(numbers)\n",
        "  max_n = max(numbers)\n",
        "\n",
        "  for n in range(min_n, max_n+1):\n",
        "    count = numbers.count(n)\n",
        "    if count > 0:\n",
        "      counts_dict[n] = count\n",
        "\n",
        "  return counts_dict\n"
      ],
      "metadata": {
        "id": "JVnhoaptF2NG"
      },
      "execution_count": null,
      "outputs": []
    },
    {
      "cell_type": "code",
      "source": [
        "counts_dict = unique(numbers)\n",
        "counts_dict"
      ],
      "metadata": {
        "id": "uGBum1TVF2Km",
        "colab": {
          "base_uri": "https://localhost:8080/"
        },
        "outputId": "f49ff797-37f6-42b9-f9b6-5f526b724f2b"
      },
      "execution_count": null,
      "outputs": [
        {
          "output_type": "execute_result",
          "data": {
            "text/plain": [
              "{2: 3, 3: 4, 6: 3, 9: 3, 20: 1}"
            ]
          },
          "metadata": {},
          "execution_count": 39
        }
      ]
    },
    {
      "cell_type": "markdown",
      "metadata": {
        "id": "PLu1QwzCVFgW"
      },
      "source": [
        "#### <font color=\"magenta\">**Excercise 2:**</font> Write a function that accepts a list of tuples (each tuple contains a name and an age), and print that information neatly as follows:\n",
        "\n",
        "```\n",
        "input list: names = [('adam',29),(' emily',27),('charlie  ',31),('FRANK',28)]\n",
        "\n",
        "output print:\n",
        "NAME: Adam       AGE: 29\n",
        "NAME: Emily      AGE: 27\n",
        "NAME: Charlie    AGE: 31\n",
        "NAME: Frank      AGE: 28\n",
        "```\n",
        "\n",
        "Note: Make sure to capitalize the names and justify the text"
      ]
    },
    {
      "cell_type": "code",
      "execution_count": null,
      "metadata": {
        "id": "Ia1W8gGMZjzT",
        "colab": {
          "base_uri": "https://localhost:8080/"
        },
        "outputId": "bdc0219e-96c5-4307-bf82-f853fdac7b51"
      },
      "outputs": [
        {
          "output_type": "execute_result",
          "data": {
            "text/plain": [
              "[('adam', 29), (' emily', 27), ('charlie  ', 31), ('FRANK', 28)]"
            ]
          },
          "metadata": {},
          "execution_count": 33
        }
      ],
      "source": [
        "names = [('adam',29),(' emily',27),('charlie  ',31),('FRANK',28)]\n",
        "names"
      ]
    },
    {
      "cell_type": "code",
      "source": [
        "# Type your solution here\n"
      ],
      "metadata": {
        "id": "IMG11ck15oUP"
      },
      "execution_count": null,
      "outputs": []
    },
    {
      "cell_type": "code",
      "source": [],
      "metadata": {
        "id": "Ke_i0xRa5oUQ"
      },
      "execution_count": null,
      "outputs": []
    },
    {
      "cell_type": "markdown",
      "metadata": {
        "id": "n-tt3iQu5oUQ"
      },
      "source": [
        "##### <font color=\"gray\">**Click here to view the solution**<font color=\"white\"> </font>"
      ]
    },
    {
      "cell_type": "code",
      "execution_count": null,
      "metadata": {
        "id": "ske84xb3ZjuT"
      },
      "outputs": [],
      "source": [
        "def print_age(names):\n",
        "  for person in names:\n",
        "    print('NAME:', person[0].strip().capitalize().ljust(10), \"AGE:\", person[1])"
      ]
    },
    {
      "cell_type": "code",
      "execution_count": null,
      "metadata": {
        "id": "AqzaAoLBZjq3",
        "colab": {
          "base_uri": "https://localhost:8080/"
        },
        "outputId": "fde41c4b-1c92-4977-97d1-f101c3a1d51b"
      },
      "outputs": [
        {
          "output_type": "stream",
          "name": "stdout",
          "text": [
            "NAME: Adam       AGE: 29\n",
            "NAME: Emily      AGE: 27\n",
            "NAME: Charlie    AGE: 31\n",
            "NAME: Frank      AGE: 28\n"
          ]
        }
      ],
      "source": [
        "print_age(names)"
      ]
    },
    {
      "cell_type": "markdown",
      "metadata": {
        "id": "fGHil-0n51W-"
      },
      "source": [
        "---\n",
        "# <a>**THE END**</a>"
      ]
    },
    {
      "cell_type": "markdown",
      "metadata": {
        "id": "OsmgJro7HOjq"
      },
      "source": [
        "## Upcoming Chapters:\n",
        "*   Manipulating data using the numpy & pandas libraries\n",
        "*   Visualizing data using the matplotlib library\n",
        "---"
      ]
    }
  ],
  "metadata": {
    "colab": {
      "collapsed_sections": [
        "vk3IjrwMHQnm",
        "vZh0-Fwwj6IO",
        "iHMu_Dvw_pFs",
        "MPjaDSenRJKE",
        "NjSZGbp3XsJc",
        "JHL1ArT2juy8",
        "rkEejKmDK4c-",
        "J2KpUy19XUGL",
        "8VHd5PmlXat1",
        "OC3gZFkTg7xg",
        "qVrmAmAvX-NW",
        "1_55mmGtUslV",
        "2HVgLj1rHWk0",
        "QIZ5lg4ZHynL",
        "zDDva1-dK28Y",
        "6BPYv7GSriww",
        "tCCFnhY_evbJ",
        "No24TUIW4sQP",
        "cw7Iw9OZg14a",
        "wH0NRUG9jPnb",
        "zhdJSmx0hjp9",
        "wLuvJCwKlVAC",
        "mxvjZPnvhcbl",
        "HfgFWGsJrxoK",
        "hRjaTRLozlgl",
        "dtKCaOPTxZzt",
        "5bN_mnjC-YFJ",
        "iOwjWj4GgAGE",
        "CGQXDUR4JN6o",
        "3yFgHcrljkZx",
        "gGt09-PEosuR",
        "PT2nVw8E6K4v",
        "X2kNmoX1sn3f",
        "Y9-k7h670DTZ",
        "bbNsNQnuzha_",
        "fIYTp5FswNw7",
        "0duajdDjHSfb",
        "JgVXfG06ePaz",
        "gFdAb72jiuyp",
        "ZED6F-UPAaQr",
        "Lf13th89C6ze",
        "_eRwHNUKZWSG",
        "L1zc5x23X6U5",
        "IH3c77EoTbW1",
        "8ke_iGYjVMBV",
        "zY8QSktbC2zD",
        "azzw-En4XnAH",
        "tPxsc_agHSfl",
        "KmRsd1hTHSfm",
        "LF5oaCvDdcbj",
        "NAVJK1RiF1ix",
        "AkHIQ1_at723",
        "wbZfOhsfuXx8",
        "wjQjFYe6FCl6",
        "18vae2Bvygan",
        "4c6x0QaFygJB",
        "qCwXKrwlvkf_",
        "gKuRV8t5wmVj",
        "PNVk1n6bf4OA",
        "7cXrIdxcXWxo",
        "om7CNt_yi3e0",
        "c3Uv9W2lkTqU",
        "x43AEiDolm3g",
        "HgAIAzng2ihO",
        "1B6BQCRuZlRc",
        "ul3mI0aHHSf5",
        "PLqpzwQZHSf5",
        "XKN06PQX2t8x",
        "7bH3DfL-WSSD",
        "crcGFws0V57u",
        "kzC1t4LiY1Om",
        "cy04ay9g2uWC",
        "wqe5MYTkEMgV",
        "IgbVh7008cci",
        "GSpEfNdh12ef",
        "q3jBfkX1mmLH",
        "_QnfwOY_HSf6",
        "VLVBIX5sMYsU",
        "-Xzs-CA4vdTw",
        "KTbyXTqKHSf9",
        "nGtAPuWgHSf-",
        "HHejmKoTHSf_",
        "cP3lCzgdHSf_",
        "4enV-5-oHSgA",
        "8hG8Uas1vKCe",
        "OxPnenr8YsFQ",
        "M8YoE9WyWmzO",
        "WQpSICHMj0AK",
        "WhqWdS2lVE0Z",
        "jtht7Jx421W4",
        "PLu1QwzCVFgW",
        "n-tt3iQu5oUQ"
      ],
      "provenance": []
    },
    "kernelspec": {
      "display_name": "Python 3",
      "name": "python3"
    },
    "language_info": {
      "name": "python"
    }
  },
  "nbformat": 4,
  "nbformat_minor": 0
}